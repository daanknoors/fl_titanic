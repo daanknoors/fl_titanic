{
 "cells": [
  {
   "cell_type": "markdown",
   "id": "4ee1a690-daa2-44ef-a61a-c42c690075dc",
   "metadata": {},
   "source": [
    "# Federated Learning (FL) - Titanic"
   ]
  },
  {
   "cell_type": "markdown",
   "id": "b475a639-b569-4a6c-a68d-6fa991d9db3a",
   "metadata": {},
   "source": [
    "## Objective\n",
    "Train a ML model to predict the survival probability in a federated setup and benchmark it against a model being trained on the full dataset."
   ]
  },
  {
   "cell_type": "markdown",
   "id": "2c909681-001d-4c6c-9791-0b9a59677fa5",
   "metadata": {},
   "source": [
    "## Import packages"
   ]
  },
  {
   "cell_type": "code",
   "execution_count": 22,
   "id": "dcaa4588-a35a-4403-a93d-9166fba921ba",
   "metadata": {},
   "outputs": [],
   "source": [
    "import numpy as np\n",
    "import pandas as pd\n",
    "import matplotlib.pyplot as plt\n",
    "import seaborn as sns\n",
    "import sys\n",
    "import os\n",
    "\n",
    "from pathlib import Path\n",
    "from sklearn.metrics import confusion_matrix, roc_auc_score, average_precision_score, accuracy_score, ConfusionMatrixDisplay"
   ]
  },
  {
   "cell_type": "code",
   "execution_count": 2,
   "id": "03f6b854-377c-4e12-8caa-7a8c1fb5e2f4",
   "metadata": {},
   "outputs": [],
   "source": [
    "# autoreload changes from local files\n",
    "%load_ext autoreload\n",
    "%autoreload 2\n",
    "\n",
    "# pandas show full output\n",
    "pd.set_option('display.max_rows', 50)\n",
    "pd.set_option('display.max_columns', 200)\n",
    "\n",
    "# add module path\n",
    "module_path = os.path.abspath(os.path.join('..'))\n",
    "if module_path not in sys.path:\n",
    "    sys.path.append(module_path)"
   ]
  },
  {
   "cell_type": "code",
   "execution_count": 3,
   "id": "d75a353b-c909-45c6-be9c-6f4a32e536de",
   "metadata": {},
   "outputs": [],
   "source": [
    "from src import config\n",
    "from src import client\n",
    "from src import data\n",
    "from src import preprocess\n",
    "from src import model\n",
    "from src import server\n",
    "from src import stats\n",
    "from src import visual\n",
    "from src import utils"
   ]
  },
  {
   "cell_type": "markdown",
   "id": "6f863322-c308-495c-ae97-cb49f0c61783",
   "metadata": {},
   "source": [
    "## Set-up server\n",
    "The server contains one or more collaborations. It orchestrates the movement of algorithms between clients and aggregates the results.\n",
    "\n",
    "Here we initialize a Server set up for the Titanic use case. All algorithms part of the Server's collaboration are distributed to each respective client."
   ]
  },
  {
   "cell_type": "code",
   "execution_count": 4,
   "id": "3ee40ebd-6671-48cd-a491-24acf3669f24",
   "metadata": {},
   "outputs": [
    {
     "name": "stdout",
     "output_type": "stream",
     "text": [
      "All algorithms are distributed to clients successfully\n"
     ]
    },
    {
     "data": {
      "text/plain": [
       "ServerTitanic(\n",
       "       collab=CollaborationTitanic()\n",
       ")"
      ]
     },
     "execution_count": 4,
     "metadata": {},
     "output_type": "execute_result"
    }
   ],
   "source": [
    "server_titanic = config.ServerTitanic()\n",
    "server_titanic"
   ]
  },
  {
   "cell_type": "markdown",
   "id": "db9863c4-bb5c-4af1-b62b-68b568a9d662",
   "metadata": {},
   "source": [
    "A collaboration consists of:\n",
    "1. clients: data owners\n",
    "2. statistics: statistical functions \n",
    "3. transformers: transformer pipeline to pre-process the data prior to training the classifier\n",
    "4. classsifer: classifier trained on local datasets\n",
    "5. classifier_aggregator: strategy to combine classifier results\n",
    "6. statistics_aggregators: methods to combine statistical results"
   ]
  },
  {
   "cell_type": "code",
   "execution_count": 7,
   "id": "782fde00-c6fa-425d-a2e3-a45b5b7d16fd",
   "metadata": {},
   "outputs": [
    {
     "data": {
      "text/plain": [
       "CollaborationTitanic(\n",
       "       clients=[ClientA(), ClientB()], \n",
       "       statistics={count_records=CountRecords(), nominal_categories=ColumnCategories(), target_classes=ColumnCategories()}, \n",
       "       transformers=Pipeline(), \n",
       "       classifier=BatchSGD(), \n",
       "       classifier_aggregator=FedAvg(), \n",
       "       statistics_aggregators={count_records=SumValues(), nominal_categories=NestedListUnion(), target_classes=ListUnion()}\n",
       ")"
      ]
     },
     "execution_count": 7,
     "metadata": {},
     "output_type": "execute_result"
    }
   ],
   "source": [
    "server_titanic.collab"
   ]
  },
  {
   "cell_type": "markdown",
   "id": "5c84e392-c96a-4363-81d0-4e3b585ebd30",
   "metadata": {},
   "source": [
    "Clients have a pointer to the data they have stored locally. They also store a local version of all algorithms defined in the collab and can run these on their local data."
   ]
  },
  {
   "cell_type": "code",
   "execution_count": 8,
   "id": "c52cc643-cc57-480d-9dac-fb3d0748ad18",
   "metadata": {},
   "outputs": [
    {
     "data": {
      "text/plain": [
       "ClientA(\n",
       "       name=A, \n",
       "       data_pointer=DataA(), \n",
       "       clf_local=BatchSGD(), \n",
       "       transformers=Pipeline(), \n",
       "       statistics={count_records=CountRecords(), nominal_categories=ColumnCategories(), target_classes=ColumnCategories()}, \n",
       "       clf_scores_={clf_scores_={'local_scores': [], 'global_scores': []}, clf_scores_={'local_scores': [], 'global_scores': []}}, \n",
       "       clf_results_={}\n",
       ")"
      ]
     },
     "execution_count": 8,
     "metadata": {},
     "output_type": "execute_result"
    }
   ],
   "source": [
    "server_titanic.collab.clients[0]"
   ]
  },
  {
   "cell_type": "markdown",
   "id": "7d91938e-31f8-430f-8660-a688d39f743f",
   "metadata": {},
   "source": [
    "## Run statistics"
   ]
  },
  {
   "cell_type": "markdown",
   "id": "dea90cf4-0b41-453b-90d8-f607de137bd6",
   "metadata": {},
   "source": [
    "The following statistics are run on the local datasets. These statistics can give a summary of the data, but are also used in the next section to update parameters in the transformers, classifiers and aggregation strategy.\n",
    "- count_records: used to set the weights of the classifier aggregation, to give more weight to updates from clients that trained their data on larger datasets.\n",
    "- nominal_categories: merges all column categories in the nominal columns of all client's datasets, where each local dataset might have distinct categories. This information can be used by a one-hot-encoding step in the transformer pipeline to ensure columns are created for all possible categories.\n",
    "- target_classes: merges all possible target classes to ensure that both clients have all possible targets to be predicted."
   ]
  },
  {
   "cell_type": "code",
   "execution_count": 9,
   "id": "52a9028f-9015-44ac-acaa-f3e58a6fbd3b",
   "metadata": {},
   "outputs": [
    {
     "data": {
      "text/plain": [
       "{'count_records': CountRecords(),\n",
       " 'nominal_categories': ColumnCategories(\n",
       "        column_names=[Sex, Embarked], \n",
       "        flatten_list=False\n",
       " ),\n",
       " 'target_classes': ColumnCategories(\n",
       "        column_names=[Survived], \n",
       "        flatten_list=True\n",
       " )}"
      ]
     },
     "execution_count": 9,
     "metadata": {},
     "output_type": "execute_result"
    }
   ],
   "source": [
    "server_titanic.collab.statistics"
   ]
  },
  {
   "cell_type": "markdown",
   "id": "c2cce817-ef65-4757-b552-3020c41c45b6",
   "metadata": {},
   "source": [
    "It uses the following strategies to combine the local statistic results, to get a statistics of the combined data."
   ]
  },
  {
   "cell_type": "code",
   "execution_count": 10,
   "id": "4f3741aa-7381-410e-bea9-113a8ed569d9",
   "metadata": {},
   "outputs": [
    {
     "data": {
      "text/plain": [
       "{'count_records': SumValues(),\n",
       " 'nominal_categories': NestedListUnion(\n",
       "        unique=True\n",
       " ),\n",
       " 'target_classes': ListUnion(\n",
       "        unique=True\n",
       " )}"
      ]
     },
     "execution_count": 10,
     "metadata": {},
     "output_type": "execute_result"
    }
   ],
   "source": [
    "server_titanic.collab.statistics_aggregators"
   ]
  },
  {
   "cell_type": "markdown",
   "id": "36f2e331-869a-4cff-a2a9-4c68f4e16880",
   "metadata": {},
   "source": [
    "Using the following function, the servers orders all clients to run the statistical methods on their local data and subsequently aggregates them."
   ]
  },
  {
   "cell_type": "code",
   "execution_count": 11,
   "id": "2d1cb490-abe3-4948-8947-1c2717fbfde4",
   "metadata": {},
   "outputs": [
    {
     "data": {
      "text/plain": [
       "ServerTitanic(\n",
       "       collab=CollaborationTitanic()\n",
       ")"
      ]
     },
     "execution_count": 11,
     "metadata": {},
     "output_type": "execute_result"
    }
   ],
   "source": [
    "server_titanic.run_statistics()"
   ]
  },
  {
   "cell_type": "markdown",
   "id": "2b37d790-ad51-472e-992a-b07b91de6a9e",
   "metadata": {},
   "source": [
    "This way we inspect the local statistic results, for example a count of the number of records for the data provided by each client."
   ]
  },
  {
   "cell_type": "code",
   "execution_count": 12,
   "id": "bab71d3c-0e74-4a32-95af-e2c25759ded1",
   "metadata": {},
   "outputs": [
    {
     "data": {
      "text/plain": [
       "CountRecords(\n",
       "       results_=244\n",
       ")"
      ]
     },
     "execution_count": 12,
     "metadata": {},
     "output_type": "execute_result"
    }
   ],
   "source": [
    "server_titanic.collab.clients[0].statistics['count_records']"
   ]
  },
  {
   "cell_type": "code",
   "execution_count": 13,
   "id": "c001db03-9063-4814-bd00-7aa187731e15",
   "metadata": {},
   "outputs": [
    {
     "data": {
      "text/plain": [
       "CountRecords(\n",
       "       results_=468\n",
       ")"
      ]
     },
     "execution_count": 13,
     "metadata": {},
     "output_type": "execute_result"
    }
   ],
   "source": [
    "server_titanic.collab.clients[1].statistics['count_records']"
   ]
  },
  {
   "cell_type": "markdown",
   "id": "9f3a8aba-71be-4bba-83cc-11dc88b6e03a",
   "metadata": {},
   "source": [
    "And here we see the combined results, when summing the number of records for all clients."
   ]
  },
  {
   "cell_type": "code",
   "execution_count": 14,
   "id": "89b8045c-c593-4a4f-b504-f86583e34d73",
   "metadata": {},
   "outputs": [
    {
     "data": {
      "text/plain": [
       "CountRecords(\n",
       "       results_=712\n",
       ")"
      ]
     },
     "execution_count": 14,
     "metadata": {},
     "output_type": "execute_result"
    }
   ],
   "source": [
    "server_titanic.collab.statistics['count_records']"
   ]
  },
  {
   "cell_type": "markdown",
   "id": "f035f67b-dda1-4e9b-9dc8-e3ffd7b7f1d1",
   "metadata": {},
   "source": [
    "## Train Federated Classifier"
   ]
  },
  {
   "cell_type": "markdown",
   "id": "8b516256-c760-4fd7-81dc-341ead57e022",
   "metadata": {},
   "source": [
    "The server can order all clients to transform their data and train their classifier locally. It uses the following transformer pipeline and classifier."
   ]
  },
  {
   "cell_type": "code",
   "execution_count": 15,
   "id": "06f46787-397a-449c-bb87-beb3a78cd31b",
   "metadata": {},
   "outputs": [
    {
     "data": {
      "text/html": [
       "<style>#sk-container-id-1 {color: black;background-color: white;}#sk-container-id-1 pre{padding: 0;}#sk-container-id-1 div.sk-toggleable {background-color: white;}#sk-container-id-1 label.sk-toggleable__label {cursor: pointer;display: block;width: 100%;margin-bottom: 0;padding: 0.3em;box-sizing: border-box;text-align: center;}#sk-container-id-1 label.sk-toggleable__label-arrow:before {content: \"▸\";float: left;margin-right: 0.25em;color: #696969;}#sk-container-id-1 label.sk-toggleable__label-arrow:hover:before {color: black;}#sk-container-id-1 div.sk-estimator:hover label.sk-toggleable__label-arrow:before {color: black;}#sk-container-id-1 div.sk-toggleable__content {max-height: 0;max-width: 0;overflow: hidden;text-align: left;background-color: #f0f8ff;}#sk-container-id-1 div.sk-toggleable__content pre {margin: 0.2em;color: black;border-radius: 0.25em;background-color: #f0f8ff;}#sk-container-id-1 input.sk-toggleable__control:checked~div.sk-toggleable__content {max-height: 200px;max-width: 100%;overflow: auto;}#sk-container-id-1 input.sk-toggleable__control:checked~label.sk-toggleable__label-arrow:before {content: \"▾\";}#sk-container-id-1 div.sk-estimator input.sk-toggleable__control:checked~label.sk-toggleable__label {background-color: #d4ebff;}#sk-container-id-1 div.sk-label input.sk-toggleable__control:checked~label.sk-toggleable__label {background-color: #d4ebff;}#sk-container-id-1 input.sk-hidden--visually {border: 0;clip: rect(1px 1px 1px 1px);clip: rect(1px, 1px, 1px, 1px);height: 1px;margin: -1px;overflow: hidden;padding: 0;position: absolute;width: 1px;}#sk-container-id-1 div.sk-estimator {font-family: monospace;background-color: #f0f8ff;border: 1px dotted black;border-radius: 0.25em;box-sizing: border-box;margin-bottom: 0.5em;}#sk-container-id-1 div.sk-estimator:hover {background-color: #d4ebff;}#sk-container-id-1 div.sk-parallel-item::after {content: \"\";width: 100%;border-bottom: 1px solid gray;flex-grow: 1;}#sk-container-id-1 div.sk-label:hover label.sk-toggleable__label {background-color: #d4ebff;}#sk-container-id-1 div.sk-serial::before {content: \"\";position: absolute;border-left: 1px solid gray;box-sizing: border-box;top: 0;bottom: 0;left: 50%;z-index: 0;}#sk-container-id-1 div.sk-serial {display: flex;flex-direction: column;align-items: center;background-color: white;padding-right: 0.2em;padding-left: 0.2em;position: relative;}#sk-container-id-1 div.sk-item {position: relative;z-index: 1;}#sk-container-id-1 div.sk-parallel {display: flex;align-items: stretch;justify-content: center;background-color: white;position: relative;}#sk-container-id-1 div.sk-item::before, #sk-container-id-1 div.sk-parallel-item::before {content: \"\";position: absolute;border-left: 1px solid gray;box-sizing: border-box;top: 0;bottom: 0;left: 50%;z-index: -1;}#sk-container-id-1 div.sk-parallel-item {display: flex;flex-direction: column;z-index: 1;position: relative;background-color: white;}#sk-container-id-1 div.sk-parallel-item:first-child::after {align-self: flex-end;width: 50%;}#sk-container-id-1 div.sk-parallel-item:last-child::after {align-self: flex-start;width: 50%;}#sk-container-id-1 div.sk-parallel-item:only-child::after {width: 0;}#sk-container-id-1 div.sk-dashed-wrapped {border: 1px dashed gray;margin: 0 0.4em 0.5em 0.4em;box-sizing: border-box;padding-bottom: 0.4em;background-color: white;}#sk-container-id-1 div.sk-label label {font-family: monospace;font-weight: bold;display: inline-block;line-height: 1.2em;}#sk-container-id-1 div.sk-label-container {text-align: center;}#sk-container-id-1 div.sk-container {/* jupyter's `normalize.less` sets `[hidden] { display: none; }` but bootstrap.min.css set `[hidden] { display: none !important; }` so we also need the `!important` here to be able to override the default hidden behavior on the sphinx rendered scikit-learn.org. See: https://github.com/scikit-learn/scikit-learn/issues/21755 */display: inline-block !important;position: relative;}#sk-container-id-1 div.sk-text-repr-fallback {display: none;}</style><div id=\"sk-container-id-1\" class=\"sk-top-container\"><div class=\"sk-text-repr-fallback\"><pre>Pipeline(steps=[(&#x27;preprocess&#x27;,\n",
       "                 GenericPreprocessor(features_continuous=[&#x27;Age&#x27;, &#x27;Fare&#x27;],\n",
       "                                     features_drop=[&#x27;PassengerId&#x27;, &#x27;pred&#x27;,\n",
       "                                                    &#x27;Name&#x27;, &#x27;Ticket&#x27;, &#x27;Cabin&#x27;],\n",
       "                                     features_nominal=[&#x27;Sex&#x27;, &#x27;Embarked&#x27;],\n",
       "                                     features_ordinal=[&#x27;Pclass&#x27;, &#x27;SibSp&#x27;,\n",
       "                                                       &#x27;Parch&#x27;])),\n",
       "                (&#x27;scale&#x27;, RobustScaler())])</pre><b>In a Jupyter environment, please rerun this cell to show the HTML representation or trust the notebook. <br />On GitHub, the HTML representation is unable to render, please try loading this page with nbviewer.org.</b></div><div class=\"sk-container\" hidden><div class=\"sk-item sk-dashed-wrapped\"><div class=\"sk-label-container\"><div class=\"sk-label sk-toggleable\"><input class=\"sk-toggleable__control sk-hidden--visually\" id=\"sk-estimator-id-1\" type=\"checkbox\" ><label for=\"sk-estimator-id-1\" class=\"sk-toggleable__label sk-toggleable__label-arrow\">Pipeline</label><div class=\"sk-toggleable__content\"><pre>Pipeline(steps=[(&#x27;preprocess&#x27;,\n",
       "                 GenericPreprocessor(features_continuous=[&#x27;Age&#x27;, &#x27;Fare&#x27;],\n",
       "                                     features_drop=[&#x27;PassengerId&#x27;, &#x27;pred&#x27;,\n",
       "                                                    &#x27;Name&#x27;, &#x27;Ticket&#x27;, &#x27;Cabin&#x27;],\n",
       "                                     features_nominal=[&#x27;Sex&#x27;, &#x27;Embarked&#x27;],\n",
       "                                     features_ordinal=[&#x27;Pclass&#x27;, &#x27;SibSp&#x27;,\n",
       "                                                       &#x27;Parch&#x27;])),\n",
       "                (&#x27;scale&#x27;, RobustScaler())])</pre></div></div></div><div class=\"sk-serial\"><div class=\"sk-item\"><div class=\"sk-estimator sk-toggleable\"><input class=\"sk-toggleable__control sk-hidden--visually\" id=\"sk-estimator-id-2\" type=\"checkbox\" ><label for=\"sk-estimator-id-2\" class=\"sk-toggleable__label sk-toggleable__label-arrow\">GenericPreprocessor</label><div class=\"sk-toggleable__content\"><pre>GenericPreprocessor(features_continuous=[&#x27;Age&#x27;, &#x27;Fare&#x27;],\n",
       "                    features_drop=[&#x27;PassengerId&#x27;, &#x27;pred&#x27;, &#x27;Name&#x27;, &#x27;Ticket&#x27;,\n",
       "                                   &#x27;Cabin&#x27;],\n",
       "                    features_nominal=[&#x27;Sex&#x27;, &#x27;Embarked&#x27;],\n",
       "                    features_ordinal=[&#x27;Pclass&#x27;, &#x27;SibSp&#x27;, &#x27;Parch&#x27;])</pre></div></div></div><div class=\"sk-item\"><div class=\"sk-estimator sk-toggleable\"><input class=\"sk-toggleable__control sk-hidden--visually\" id=\"sk-estimator-id-3\" type=\"checkbox\" ><label for=\"sk-estimator-id-3\" class=\"sk-toggleable__label sk-toggleable__label-arrow\">RobustScaler</label><div class=\"sk-toggleable__content\"><pre>RobustScaler()</pre></div></div></div></div></div></div></div>"
      ],
      "text/plain": [
       "Pipeline(steps=[('preprocess',\n",
       "                 GenericPreprocessor(features_continuous=['Age', 'Fare'],\n",
       "                                     features_drop=['PassengerId', 'pred',\n",
       "                                                    'Name', 'Ticket', 'Cabin'],\n",
       "                                     features_nominal=['Sex', 'Embarked'],\n",
       "                                     features_ordinal=['Pclass', 'SibSp',\n",
       "                                                       'Parch'])),\n",
       "                ('scale', RobustScaler())])"
      ]
     },
     "execution_count": 15,
     "metadata": {},
     "output_type": "execute_result"
    }
   ],
   "source": [
    "server_titanic.collab.transformers"
   ]
  },
  {
   "cell_type": "markdown",
   "id": "c7338f4a-1cb8-4a03-a113-4260e7ee8997",
   "metadata": {},
   "source": [
    "BatchSGD is a subclass of the sklearn SGDCLassifier, which can use stochastic gradient descent to train on batches of data instead of single examples. The loss parameter allows the user to select different classifiers, for example a logistic regression (using 'log_loss') or linear SVM (using 'hinge')."
   ]
  },
  {
   "cell_type": "code",
   "execution_count": 16,
   "id": "c9796e33-ba2a-48ec-8281-3980a7700485",
   "metadata": {},
   "outputs": [
    {
     "data": {
      "text/html": [
       "<style>#sk-container-id-2 {color: black;background-color: white;}#sk-container-id-2 pre{padding: 0;}#sk-container-id-2 div.sk-toggleable {background-color: white;}#sk-container-id-2 label.sk-toggleable__label {cursor: pointer;display: block;width: 100%;margin-bottom: 0;padding: 0.3em;box-sizing: border-box;text-align: center;}#sk-container-id-2 label.sk-toggleable__label-arrow:before {content: \"▸\";float: left;margin-right: 0.25em;color: #696969;}#sk-container-id-2 label.sk-toggleable__label-arrow:hover:before {color: black;}#sk-container-id-2 div.sk-estimator:hover label.sk-toggleable__label-arrow:before {color: black;}#sk-container-id-2 div.sk-toggleable__content {max-height: 0;max-width: 0;overflow: hidden;text-align: left;background-color: #f0f8ff;}#sk-container-id-2 div.sk-toggleable__content pre {margin: 0.2em;color: black;border-radius: 0.25em;background-color: #f0f8ff;}#sk-container-id-2 input.sk-toggleable__control:checked~div.sk-toggleable__content {max-height: 200px;max-width: 100%;overflow: auto;}#sk-container-id-2 input.sk-toggleable__control:checked~label.sk-toggleable__label-arrow:before {content: \"▾\";}#sk-container-id-2 div.sk-estimator input.sk-toggleable__control:checked~label.sk-toggleable__label {background-color: #d4ebff;}#sk-container-id-2 div.sk-label input.sk-toggleable__control:checked~label.sk-toggleable__label {background-color: #d4ebff;}#sk-container-id-2 input.sk-hidden--visually {border: 0;clip: rect(1px 1px 1px 1px);clip: rect(1px, 1px, 1px, 1px);height: 1px;margin: -1px;overflow: hidden;padding: 0;position: absolute;width: 1px;}#sk-container-id-2 div.sk-estimator {font-family: monospace;background-color: #f0f8ff;border: 1px dotted black;border-radius: 0.25em;box-sizing: border-box;margin-bottom: 0.5em;}#sk-container-id-2 div.sk-estimator:hover {background-color: #d4ebff;}#sk-container-id-2 div.sk-parallel-item::after {content: \"\";width: 100%;border-bottom: 1px solid gray;flex-grow: 1;}#sk-container-id-2 div.sk-label:hover label.sk-toggleable__label {background-color: #d4ebff;}#sk-container-id-2 div.sk-serial::before {content: \"\";position: absolute;border-left: 1px solid gray;box-sizing: border-box;top: 0;bottom: 0;left: 50%;z-index: 0;}#sk-container-id-2 div.sk-serial {display: flex;flex-direction: column;align-items: center;background-color: white;padding-right: 0.2em;padding-left: 0.2em;position: relative;}#sk-container-id-2 div.sk-item {position: relative;z-index: 1;}#sk-container-id-2 div.sk-parallel {display: flex;align-items: stretch;justify-content: center;background-color: white;position: relative;}#sk-container-id-2 div.sk-item::before, #sk-container-id-2 div.sk-parallel-item::before {content: \"\";position: absolute;border-left: 1px solid gray;box-sizing: border-box;top: 0;bottom: 0;left: 50%;z-index: -1;}#sk-container-id-2 div.sk-parallel-item {display: flex;flex-direction: column;z-index: 1;position: relative;background-color: white;}#sk-container-id-2 div.sk-parallel-item:first-child::after {align-self: flex-end;width: 50%;}#sk-container-id-2 div.sk-parallel-item:last-child::after {align-self: flex-start;width: 50%;}#sk-container-id-2 div.sk-parallel-item:only-child::after {width: 0;}#sk-container-id-2 div.sk-dashed-wrapped {border: 1px dashed gray;margin: 0 0.4em 0.5em 0.4em;box-sizing: border-box;padding-bottom: 0.4em;background-color: white;}#sk-container-id-2 div.sk-label label {font-family: monospace;font-weight: bold;display: inline-block;line-height: 1.2em;}#sk-container-id-2 div.sk-label-container {text-align: center;}#sk-container-id-2 div.sk-container {/* jupyter's `normalize.less` sets `[hidden] { display: none; }` but bootstrap.min.css set `[hidden] { display: none !important; }` so we also need the `!important` here to be able to override the default hidden behavior on the sphinx rendered scikit-learn.org. See: https://github.com/scikit-learn/scikit-learn/issues/21755 */display: inline-block !important;position: relative;}#sk-container-id-2 div.sk-text-repr-fallback {display: none;}</style><div id=\"sk-container-id-2\" class=\"sk-top-container\"><div class=\"sk-text-repr-fallback\"><pre>BatchSGD(batch_size=20, loss=&#x27;log_loss&#x27;, n_local_iterations=100,\n",
       "         random_state=42)</pre><b>In a Jupyter environment, please rerun this cell to show the HTML representation or trust the notebook. <br />On GitHub, the HTML representation is unable to render, please try loading this page with nbviewer.org.</b></div><div class=\"sk-container\" hidden><div class=\"sk-item\"><div class=\"sk-estimator sk-toggleable\"><input class=\"sk-toggleable__control sk-hidden--visually\" id=\"sk-estimator-id-4\" type=\"checkbox\" checked><label for=\"sk-estimator-id-4\" class=\"sk-toggleable__label sk-toggleable__label-arrow\">BatchSGD</label><div class=\"sk-toggleable__content\"><pre>BatchSGD(batch_size=20, loss=&#x27;log_loss&#x27;, n_local_iterations=100,\n",
       "         random_state=42)</pre></div></div></div></div></div>"
      ],
      "text/plain": [
       "BatchSGD(batch_size=20, loss='log_loss', n_local_iterations=100,\n",
       "         random_state=42)"
      ]
     },
     "execution_count": 16,
     "metadata": {},
     "output_type": "execute_result"
    }
   ],
   "source": [
    "server_titanic.collab.classifier"
   ]
  },
  {
   "cell_type": "code",
   "execution_count": 17,
   "id": "de2c14c8-0558-4fb6-84cd-3e1010895802",
   "metadata": {},
   "outputs": [],
   "source": [
    "server_titanic.fit_classifier()"
   ]
  },
  {
   "cell_type": "markdown",
   "id": "47b660aa-3f97-4dda-8d26-7c27be9a5635",
   "metadata": {},
   "source": [
    "The above function automatically averages the results using the strategy below. Note the weights are derived from the 'count_records' statistic computed earlier."
   ]
  },
  {
   "cell_type": "code",
   "execution_count": 18,
   "id": "06939cbd-8663-4337-8692-1139e8902b81",
   "metadata": {},
   "outputs": [
    {
     "data": {
      "text/plain": [
       "FedAvg(\n",
       "       n_iterations=20, \n",
       "       weights=[0.34269663 0.65730337]\n",
       ")"
      ]
     },
     "execution_count": 18,
     "metadata": {},
     "output_type": "execute_result"
    }
   ],
   "source": [
    "server_titanic.collab.classifier_aggregator"
   ]
  },
  {
   "cell_type": "markdown",
   "id": "1ea87003-c265-487a-90f7-39a9f71de0b8",
   "metadata": {},
   "source": [
    "## Training a centralized model\n",
    "For comparison, we also train a centralized model with the same configurations as specified in the Federated set-up, but where we first combine the data from each client and then train a classifier."
   ]
  },
  {
   "cell_type": "code",
   "execution_count": 19,
   "id": "f25ed1cd-ecce-4f0a-9c13-b4d0d012ff72",
   "metadata": {},
   "outputs": [],
   "source": [
    "def combine_dataset():\n",
    "    # load data files of each party\n",
    "    data_a = config.DataA()\n",
    "    X_train_a, y_train_a = data_a.load_train_data(split_xy=True)\n",
    "    X_test_a, y_test_a = data_a.load_test_data(split_xy=True)\n",
    "\n",
    "    data_b = config.DataB()\n",
    "    X_train_b, y_train_b = data_b.load_train_data(split_xy=True)\n",
    "    X_test_b, y_test_b = data_b.load_test_data(split_xy=True)\n",
    "\n",
    "    # join data files\n",
    "    X_train = pd.concat([X_train_a, X_train_b])\n",
    "    X_test = pd.concat([X_test_a, X_test_b])\n",
    "    y_train = pd.concat([y_train_a, y_train_b])\n",
    "    y_test = pd.concat([y_test_a, y_test_b])\n",
    "\n",
    "    return X_train, X_test, y_train, y_test\n",
    "\n",
    "def train_centralized_model(X_train, y_train, X_test, y_test):\n",
    "    \"\"\"Train model when data is first is centralized (i.e. combined)\"\"\"\n",
    "\n",
    "    # load transformer pipeline and classifier \n",
    "    pipeline = model.get_standard_transformer_pipeline(features_drop=config.FEATURES_DROP,\n",
    "                                                       features_nominal=config.FEATURES_NOMINAL,\n",
    "                                                       features_ordinal=config.FEATURES_ORDINAL,\n",
    "                                                       features_continuous=config.FEATURES_INTERVAL+config.FEATURES_RANGE, \n",
    "                                                       categories='auto')\n",
    "    classifier = model.get_standard_classifier(random_state=config.RANDOM_STATE)\n",
    "\n",
    "    # merge classifier to pipeline\n",
    "    pipeline.steps.append(('clf', classifier))\n",
    "    \n",
    "    # train model store scores each iteration\n",
    "    scores = []\n",
    "    for n in range(config.N_GLOBAL_ITERATIONS):\n",
    "        pipeline.fit(X_train, y_train)\n",
    "        scores.append(pipeline.score(X_test, y_test))\n",
    "    return pipeline, scores\n",
    "\n",
    "\n",
    "X_train, X_test, y_train, y_test = combine_dataset()\n",
    "clf_central, scores_central = train_centralized_model(X_train, y_train, X_test, y_test)"
   ]
  },
  {
   "cell_type": "markdown",
   "id": "64b16a55-ee9a-4432-af75-c9e1930dcb24",
   "metadata": {},
   "source": [
    "## Evaluate results"
   ]
  },
  {
   "cell_type": "markdown",
   "id": "c9cd6f50-3d67-42a6-b3fd-1d17cb779dba",
   "metadata": {},
   "source": [
    "Before comparing the results, we first need to run the following function for the server to order each client to perform some evaluation steps"
   ]
  },
  {
   "cell_type": "code",
   "execution_count": 20,
   "id": "2bef2c01-6b88-4254-9c1f-5458899ddb48",
   "metadata": {},
   "outputs": [],
   "source": [
    "server_titanic.evaluate_classifier()"
   ]
  },
  {
   "cell_type": "markdown",
   "id": "f59f193c-a5e0-4477-9c94-f8c75dace1f2",
   "metadata": {},
   "source": [
    "Below we the results from testing the global classifier on each data party's local test data."
   ]
  },
  {
   "cell_type": "code",
   "execution_count": 123,
   "id": "5b8d7a10-42c0-4881-ae06-9ff0080214b5",
   "metadata": {},
   "outputs": [
    {
     "data": {
      "text/plain": [
       "{'A': {'accuracy': 0.7903225806451613,\n",
       "  'roc_auc_score': 0.7761904761904761,\n",
       "  'average_precision': 0.690615835777126,\n",
       "  'confusion_matrix': array([[31,  4],\n",
       "         [ 9, 18]], dtype=int64)},\n",
       " 'B': {'accuracy': 0.8034188034188035,\n",
       "  'roc_auc_score': 0.7261904761904762,\n",
       "  'average_precision': 0.648962148962149,\n",
       "  'confusion_matrix': array([[75,  0],\n",
       "         [23, 19]], dtype=int64)}}"
      ]
     },
     "execution_count": 123,
     "metadata": {},
     "output_type": "execute_result"
    }
   ],
   "source": [
    "server_titanic.collab.clf_results_"
   ]
  },
  {
   "cell_type": "markdown",
   "id": "e8d596f2-a3af-4c9a-89be-d14beaca7a80",
   "metadata": {},
   "source": [
    "Here we compute the results of the centralized model"
   ]
  },
  {
   "cell_type": "code",
   "execution_count": 124,
   "id": "24dffd5e-8d8e-4bfa-afbd-92e9605cf892",
   "metadata": {},
   "outputs": [
    {
     "name": "stdout",
     "output_type": "stream",
     "text": [
      "accuracy score centralized: 0.7877094972067039\n",
      "roc auc score centralized: 0.7678524374176547\n",
      "average precision score centralized: 0.6310715795777734\n"
     ]
    }
   ],
   "source": [
    "y_pred = clf_central.predict(X_test)\n",
    "print(f'accuracy score centralized: {accuracy_score(y_test, y_pred)}')\n",
    "print(f'roc auc score centralized: {roc_auc_score(y_test, y_pred)}')\n",
    "print(f'average precision score centralized: {average_precision_score(y_test, y_pred)}')"
   ]
  },
  {
   "cell_type": "markdown",
   "id": "513fd3a3-a8f9-461d-9caf-390b215bab03",
   "metadata": {},
   "source": [
    "We can get the scores from the server that were computed at each iteration and merge these with the scores from the centralized model for comparison"
   ]
  },
  {
   "cell_type": "code",
   "execution_count": 125,
   "id": "e90e0f51-139d-4982-80d1-09d43830b644",
   "metadata": {},
   "outputs": [
    {
     "data": {
      "text/html": [
       "<div>\n",
       "<style scoped>\n",
       "    .dataframe tbody tr th:only-of-type {\n",
       "        vertical-align: middle;\n",
       "    }\n",
       "\n",
       "    .dataframe tbody tr th {\n",
       "        vertical-align: top;\n",
       "    }\n",
       "\n",
       "    .dataframe thead th {\n",
       "        text-align: right;\n",
       "    }\n",
       "</style>\n",
       "<table border=\"1\" class=\"dataframe\">\n",
       "  <thead>\n",
       "    <tr style=\"text-align: right;\">\n",
       "      <th></th>\n",
       "      <th>A.local_scores</th>\n",
       "      <th>A.global_scores</th>\n",
       "      <th>B.local_scores</th>\n",
       "      <th>B.global_scores</th>\n",
       "      <th>Centralized</th>\n",
       "    </tr>\n",
       "  </thead>\n",
       "  <tbody>\n",
       "    <tr>\n",
       "      <th>0</th>\n",
       "      <td>0.709677</td>\n",
       "      <td>0</td>\n",
       "      <td>0.803419</td>\n",
       "      <td>0</td>\n",
       "      <td>0.770950</td>\n",
       "    </tr>\n",
       "    <tr>\n",
       "      <th>1</th>\n",
       "      <td>0.725806</td>\n",
       "      <td>0.790323</td>\n",
       "      <td>0.811966</td>\n",
       "      <td>0.74359</td>\n",
       "      <td>0.793296</td>\n",
       "    </tr>\n",
       "    <tr>\n",
       "      <th>2</th>\n",
       "      <td>0.709677</td>\n",
       "      <td>0.693548</td>\n",
       "      <td>0.803419</td>\n",
       "      <td>0.794872</td>\n",
       "      <td>0.776536</td>\n",
       "    </tr>\n",
       "    <tr>\n",
       "      <th>3</th>\n",
       "      <td>0.725806</td>\n",
       "      <td>0.709677</td>\n",
       "      <td>0.717949</td>\n",
       "      <td>0.735043</td>\n",
       "      <td>0.765363</td>\n",
       "    </tr>\n",
       "    <tr>\n",
       "      <th>4</th>\n",
       "      <td>0.774194</td>\n",
       "      <td>0.774194</td>\n",
       "      <td>0.786325</td>\n",
       "      <td>0.735043</td>\n",
       "      <td>0.776536</td>\n",
       "    </tr>\n",
       "  </tbody>\n",
       "</table>\n",
       "</div>"
      ],
      "text/plain": [
       "  A.local_scores A.global_scores B.local_scores B.global_scores  Centralized\n",
       "0       0.709677               0       0.803419               0     0.770950\n",
       "1       0.725806        0.790323       0.811966         0.74359     0.793296\n",
       "2       0.709677        0.693548       0.803419        0.794872     0.776536\n",
       "3       0.725806        0.709677       0.717949        0.735043     0.765363\n",
       "4       0.774194        0.774194       0.786325        0.735043     0.776536"
      ]
     },
     "execution_count": 125,
     "metadata": {},
     "output_type": "execute_result"
    }
   ],
   "source": [
    "df_classifier_scores = server_titanic.collab.merge_classifier_scores(output_df=True)\n",
    "df_classifier_scores['Centralized'] = scores_central\n",
    "df_classifier_scores.head()"
   ]
  },
  {
   "cell_type": "markdown",
   "id": "2357c8f5-7920-429d-b11f-66dc68033f8b",
   "metadata": {},
   "source": [
    "Local scores refer to model that were tested just after re-training.\n",
    "Global scores refer to models that were tested just after averaging the local models\n",
    "\n",
    "We observe very similar scores between all of the models. It's notable that the Centralized model is more stable then the federated models. Also the modesl from party B seem more stable than the models from party A, likely due to the fact that party B has 2x the amount of records. \n",
    "\n",
    "Nevertheless, the results between centralized and federated seem very similar."
   ]
  },
  {
   "cell_type": "code",
   "execution_count": 126,
   "id": "e5ea7ab2-97da-44b2-bb4d-ad8053d6f7fa",
   "metadata": {},
   "outputs": [
    {
     "data": {
      "image/png": "[encoded data removed]",
      "text/plain": [
       "<Figure size 640x480 with 1 Axes>"
      ]
     },
     "metadata": {},
     "output_type": "display_data"
    }
   ],
   "source": [
    "ax = sns.lineplot(df_classifier_scores)\n",
    "sns.despine()\n",
    "ax.set_xlabel('Global iteration')\n",
    "ax.set_ylabel('Accuracy')\n",
    "ax.set_title('Scores for each iteration of the SGD Classifer')\n",
    "plt.show()"
   ]
  },
  {
   "cell_type": "markdown",
   "id": "00730fc5-2e6a-4eae-af3e-58f92c5cb288",
   "metadata": {},
   "source": [
    "We can also look ath the confusion matices for each model below."
   ]
  },
  {
   "cell_type": "code",
   "execution_count": 84,
   "id": "b5b5ba6e-4847-445c-9d4d-35b42d343ba5",
   "metadata": {},
   "outputs": [
    {
     "data": {
      "image/png": "[encoded data removed]",
      "text/plain": [
       "<Figure size 640x480 with 2 Axes>"
      ]
     },
     "metadata": {},
     "output_type": "display_data"
    },
    {
     "data": {
      "image/png": "[encoded data removed]",
      "text/plain": [
       "<Figure size 640x480 with 2 Axes>"
      ]
     },
     "metadata": {},
     "output_type": "display_data"
    }
   ],
   "source": [
    "for client_name, results in server_titanic.collab.clf_results_.items():\n",
    "    cmd = visual.plot_confusion_matrix(results['confusion_matrix'])\n",
    "    plt.title(f'Confusion matrix: client {client_name}')\n"
   ]
  },
  {
   "cell_type": "code",
   "execution_count": 88,
   "id": "6d1aa466-5c3a-455a-8bff-cad10d39dda6",
   "metadata": {},
   "outputs": [
    {
     "data": {
      "text/plain": [
       "Text(0.5, 1.0, 'Confusion matrix: centralized model')"
      ]
     },
     "execution_count": 88,
     "metadata": {},
     "output_type": "execute_result"
    },
    {
     "data": {
      "image/png": "[encoded data removed]",
      "text/plain": [
       "<Figure size 640x480 with 2 Axes>"
      ]
     },
     "metadata": {},
     "output_type": "display_data"
    }
   ],
   "source": [
    "y_pred_central = clf_central.predict(X_test)\n",
    "cm_central = confusion_matrix(y_test, y_pred_central)\n",
    "visual.plot_confusion_matrix(cm_central)\n",
    "plt.title('Confusion matrix: centralized model')"
   ]
  },
  {
   "cell_type": "markdown",
   "id": "6ba9d0e3-cad6-4703-8597-47cf994bf6cf",
   "metadata": {},
   "source": [
    "# Conclusion\n",
    "In this notebook, we showed how you can use the FL framework in this repo to train a ML model on the titanic dataset. We also compared it to a model trained on a centralized dataset. Fortunately, the results seem very similar, thus one can use federated ML to get virtually identical results to models trained on centralized data!"
   ]
  },
  {
   "cell_type": "code",
   "execution_count": null,
   "id": "9d8cb4bd-d4ea-452c-a708-50a4bdcb631f",
   "metadata": {},
   "outputs": [],
   "source": []
  }
 ],
 "metadata": {
  "kernelspec": {
   "display_name": "Python 3 (ipykernel)",
   "language": "python",
   "name": "python3"
  },
  "language_info": {
   "codemirror_mode": {
    "name": "ipython",
    "version": 3
   },
   "file_extension": ".py",
   "mimetype": "text/x-python",
   "name": "python",
   "nbconvert_exporter": "python",
   "pygments_lexer": "ipython3",
   "version": "3.10.8"
  }
 },
 "nbformat": 4,
 "nbformat_minor": 5
}
