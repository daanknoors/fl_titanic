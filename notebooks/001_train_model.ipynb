{
 "cells": [
  {
   "cell_type": "markdown",
   "id": "4ee1a690-daa2-44ef-a61a-c42c690075dc",
   "metadata": {},
   "source": [
    "# Federated Learning (FL) - Titanic"
   ]
  },
  {
   "cell_type": "markdown",
   "id": "b475a639-b569-4a6c-a68d-6fa991d9db3a",
   "metadata": {},
   "source": [
    "## Objective\n",
    "Train an ML model of your choice to predict the survival probability in a federated setup and benchmark it against a model being trained on the full dataset.\n"
   ]
  },
  {
   "cell_type": "markdown",
   "id": "2c909681-001d-4c6c-9791-0b9a59677fa5",
   "metadata": {},
   "source": [
    "## Import packages"
   ]
  },
  {
   "cell_type": "code",
   "execution_count": 144,
   "id": "dcaa4588-a35a-4403-a93d-9166fba921ba",
   "metadata": {},
   "outputs": [],
   "source": [
    "import numpy as np\n",
    "import pandas as pd\n",
    "import matplotlib.pyplot as plt\n",
    "import seaborn as sns\n",
    "import sys\n",
    "import os\n",
    "\n",
    "from pathlib import Path"
   ]
  },
  {
   "cell_type": "code",
   "execution_count": 145,
   "id": "03f6b854-377c-4e12-8caa-7a8c1fb5e2f4",
   "metadata": {},
   "outputs": [
    {
     "name": "stdout",
     "output_type": "stream",
     "text": [
      "The autoreload extension is already loaded. To reload it, use:\n",
      "  %reload_ext autoreload\n"
     ]
    }
   ],
   "source": [
    "# autoreload changes from local files\n",
    "%load_ext autoreload\n",
    "%autoreload 2\n",
    "\n",
    "# pandas show full output\n",
    "pd.set_option('display.max_rows', 50)\n",
    "pd.set_option('display.max_columns', 200)\n",
    "\n",
    "# add module path\n",
    "module_path = os.path.abspath(os.path.join('..'))\n",
    "if module_path not in sys.path:\n",
    "    sys.path.append(module_path)"
   ]
  },
  {
   "cell_type": "code",
   "execution_count": 146,
   "id": "d75a353b-c909-45c6-be9c-6f4a32e536de",
   "metadata": {},
   "outputs": [],
   "source": [
    "from src import config\n",
    "from src import client\n",
    "from src import data\n",
    "from src import preprocess\n",
    "from src import model\n",
    "from src import server\n",
    "from src import stats\n",
    "from src import visual\n",
    "from src import utils"
   ]
  },
  {
   "cell_type": "code",
   "execution_count": 147,
   "id": "69d64dac-e8f4-4049-97d8-1775aff3605b",
   "metadata": {},
   "outputs": [],
   "source": [
    "from sklearn.linear_model import SGDClassifier"
   ]
  },
  {
   "cell_type": "code",
   "execution_count": 212,
   "id": "3ee40ebd-6671-48cd-a491-24acf3669f24",
   "metadata": {},
   "outputs": [
    {
     "name": "stdout",
     "output_type": "stream",
     "text": [
      "All algorithms are distributed to clients successfully\n"
     ]
    },
    {
     "data": {
      "text/plain": [
       "<src.config.ServerTitanic at 0x226284bbdc0>"
      ]
     },
     "execution_count": 212,
     "metadata": {},
     "output_type": "execute_result"
    }
   ],
   "source": [
    "server_titanic = config.ServerTitanic()\n",
    "server_titanic"
   ]
  },
  {
   "cell_type": "code",
   "execution_count": 213,
   "id": "f327c2b7-aff8-46e3-95e5-82020d623299",
   "metadata": {},
   "outputs": [],
   "source": [
    "server_titanic.fit_classifier()"
   ]
  },
  {
   "cell_type": "code",
   "execution_count": 215,
   "id": "c9d88a8a-654b-4422-b945-4ea662e77a8f",
   "metadata": {},
   "outputs": [],
   "source": [
    "# df_score_dict =server_titanic.collab.merge_collab_scores(output_df=True)\n",
    "score_dict =server_titanic.collab.merge_collab_scores(output_df=False)\n",
    "\n",
    "# score_dict = server_titanic.collab.scores_\n",
    "# df_score_dict = pd.json_normalize(score_dict).apply(pd.Series.explode).reset_index(drop=True)\n"
   ]
  },
  {
   "cell_type": "code",
   "execution_count": 216,
   "id": "e81ab930-5e83-4289-9015-c5579dabf1e5",
   "metadata": {},
   "outputs": [],
   "source": [
    "del score_dict['A']['global']\n",
    "del score_dict['B']['global']"
   ]
  },
  {
   "cell_type": "code",
   "execution_count": 217,
   "id": "9db55ae5-edd3-480b-8cd5-63d156818da9",
   "metadata": {},
   "outputs": [
    {
     "data": {
      "text/plain": [
       "500"
      ]
     },
     "execution_count": 217,
     "metadata": {},
     "output_type": "execute_result"
    }
   ],
   "source": [
    "len(score_dict2['B'])"
   ]
  },
  {
   "cell_type": "code",
   "execution_count": 208,
   "id": "502a7629-b37d-432f-a34c-ce09281ec2f6",
   "metadata": {},
   "outputs": [
    {
     "data": {
      "text/html": [
       "<div>\n",
       "<style scoped>\n",
       "    .dataframe tbody tr th:only-of-type {\n",
       "        vertical-align: middle;\n",
       "    }\n",
       "\n",
       "    .dataframe tbody tr th {\n",
       "        vertical-align: top;\n",
       "    }\n",
       "\n",
       "    .dataframe thead th {\n",
       "        text-align: right;\n",
       "    }\n",
       "</style>\n",
       "<table border=\"1\" class=\"dataframe\">\n",
       "  <thead>\n",
       "    <tr style=\"text-align: right;\">\n",
       "      <th></th>\n",
       "      <th>A</th>\n",
       "      <th>B</th>\n",
       "    </tr>\n",
       "  </thead>\n",
       "  <tbody>\n",
       "    <tr>\n",
       "      <th>0</th>\n",
       "      <td>0.806452</td>\n",
       "      <td>0.760684</td>\n",
       "    </tr>\n",
       "    <tr>\n",
       "      <th>1</th>\n",
       "      <td>0.693548</td>\n",
       "      <td>0.769231</td>\n",
       "    </tr>\n",
       "    <tr>\n",
       "      <th>2</th>\n",
       "      <td>0.758065</td>\n",
       "      <td>0.760684</td>\n",
       "    </tr>\n",
       "    <tr>\n",
       "      <th>3</th>\n",
       "      <td>0.774194</td>\n",
       "      <td>0.752137</td>\n",
       "    </tr>\n",
       "    <tr>\n",
       "      <th>4</th>\n",
       "      <td>0.725806</td>\n",
       "      <td>0.777778</td>\n",
       "    </tr>\n",
       "  </tbody>\n",
       "</table>\n",
       "</div>"
      ],
      "text/plain": [
       "          A         B\n",
       "0  0.806452  0.760684\n",
       "1  0.693548  0.769231\n",
       "2  0.758065  0.760684\n",
       "3  0.774194  0.752137\n",
       "4  0.725806  0.777778"
      ]
     },
     "execution_count": 208,
     "metadata": {},
     "output_type": "execute_result"
    }
   ],
   "source": [
    "score_dict2 = {'A': score_dict['A']['local'], 'B': score_dict['B']['local']}\n",
    "df_score_dict = pd.DataFrame().from_dict(score_dict2)\n",
    "df_score_dict.head()\n"
   ]
  },
  {
   "cell_type": "code",
   "execution_count": 218,
   "id": "9de53a92-1e85-44cd-9a16-93a669bafea4",
   "metadata": {},
   "outputs": [
    {
     "data": {
      "text/html": [
       "<div>\n",
       "<style scoped>\n",
       "    .dataframe tbody tr th:only-of-type {\n",
       "        vertical-align: middle;\n",
       "    }\n",
       "\n",
       "    .dataframe tbody tr th {\n",
       "        vertical-align: top;\n",
       "    }\n",
       "\n",
       "    .dataframe thead th {\n",
       "        text-align: right;\n",
       "    }\n",
       "</style>\n",
       "<table border=\"1\" class=\"dataframe\">\n",
       "  <thead>\n",
       "    <tr style=\"text-align: right;\">\n",
       "      <th></th>\n",
       "      <th>A.local</th>\n",
       "      <th>B.local</th>\n",
       "    </tr>\n",
       "  </thead>\n",
       "  <tbody>\n",
       "    <tr>\n",
       "      <th>0</th>\n",
       "      <td>0.629032</td>\n",
       "      <td>0.786325</td>\n",
       "    </tr>\n",
       "    <tr>\n",
       "      <th>1</th>\n",
       "      <td>0.725806</td>\n",
       "      <td>0.820513</td>\n",
       "    </tr>\n",
       "    <tr>\n",
       "      <th>2</th>\n",
       "      <td>0.709677</td>\n",
       "      <td>0.803419</td>\n",
       "    </tr>\n",
       "    <tr>\n",
       "      <th>3</th>\n",
       "      <td>0.725806</td>\n",
       "      <td>0.803419</td>\n",
       "    </tr>\n",
       "    <tr>\n",
       "      <th>4</th>\n",
       "      <td>0.725806</td>\n",
       "      <td>0.786325</td>\n",
       "    </tr>\n",
       "  </tbody>\n",
       "</table>\n",
       "</div>"
      ],
      "text/plain": [
       "    A.local   B.local\n",
       "0  0.629032  0.786325\n",
       "1  0.725806  0.820513\n",
       "2  0.709677  0.803419\n",
       "3  0.725806  0.803419\n",
       "4  0.725806  0.786325"
      ]
     },
     "execution_count": 218,
     "metadata": {},
     "output_type": "execute_result"
    }
   ],
   "source": [
    "df_score_dict = pd.json_normalize(score_dict).apply(pd.Series.explode).reset_index(drop=True)\n",
    "df_score_dict.head()"
   ]
  },
  {
   "cell_type": "code",
   "execution_count": null,
   "id": "3e8e7925-add2-4484-9340-569f001351ed",
   "metadata": {},
   "outputs": [],
   "source": [
    "df_score_dict.shape"
   ]
  },
  {
   "cell_type": "code",
   "execution_count": 219,
   "id": "e5ea7ab2-97da-44b2-bb4d-ad8053d6f7fa",
   "metadata": {},
   "outputs": [
    {
     "data": {
      "text/plain": [
       "<AxesSubplot:>"
      ]
     },
     "execution_count": 219,
     "metadata": {},
     "output_type": "execute_result"
    },
    {
     "data": {
      "image/png": "[encoded data removed]",
      "text/plain": [
       "<Figure size 640x480 with 1 Axes>"
      ]
     },
     "metadata": {},
     "output_type": "display_data"
    }
   ],
   "source": [
    "sns.lineplot(df_score_dict)"
   ]
  },
  {
   "cell_type": "code",
   "execution_count": 152,
   "id": "bc738749-0350-42dc-bec9-accaa825f12b",
   "metadata": {},
   "outputs": [
    {
     "data": {
      "text/plain": [
       "array([0.34269663, 0.65730337])"
      ]
     },
     "execution_count": 152,
     "metadata": {},
     "output_type": "execute_result"
    }
   ],
   "source": [
    "server_titanic.collab.classifier_aggregator.weights"
   ]
  },
  {
   "cell_type": "code",
   "execution_count": 158,
   "id": "767cf50c-2901-438c-b948-afae93f2ac30",
   "metadata": {},
   "outputs": [
    {
     "data": {
      "text/plain": [
       "468"
      ]
     },
     "execution_count": 158,
     "metadata": {},
     "output_type": "execute_result"
    }
   ],
   "source": [
    "server_titanic.collab.clients[1].statistics['count_records'].results_"
   ]
  },
  {
   "cell_type": "code",
   "execution_count": 90,
   "id": "9f1c4f2f-e943-4d44-98ea-df759ab3b69b",
   "metadata": {},
   "outputs": [
    {
     "data": {
      "text/plain": [
       "<AxesSubplot:>"
      ]
     },
     "execution_count": 90,
     "metadata": {},
     "output_type": "execute_result"
    },
    {
     "data": {
      "image/png": "[encoded data removed]",
      "text/plain": [
       "<Figure size 640x480 with 1 Axes>"
      ]
     },
     "metadata": {},
     "output_type": "display_data"
    }
   ],
   "source": [
    "server_titanic.collab\n",
    "sns.lineplot(df_score_dict)"
   ]
  },
  {
   "cell_type": "code",
   "execution_count": 95,
   "id": "7034182e-9f05-4e2d-b7b1-53fe0012a350",
   "metadata": {},
   "outputs": [
    {
     "ename": "AttributeError",
     "evalue": "'NoneType' object has no attribute 'fit_transform'",
     "output_type": "error",
     "traceback": [
      "\u001b[1;31m---------------------------------------------------------------------------\u001b[0m",
      "\u001b[1;31mAttributeError\u001b[0m                            Traceback (most recent call last)",
      "Cell \u001b[1;32mIn [95], line 4\u001b[0m\n\u001b[0;32m      1\u001b[0m client_a \u001b[38;5;241m=\u001b[39m config\u001b[38;5;241m.\u001b[39mClientA()\n\u001b[0;32m      2\u001b[0m client_b \u001b[38;5;241m=\u001b[39m config\u001b[38;5;241m.\u001b[39mClientB()\n\u001b[1;32m----> 4\u001b[0m \u001b[43mclient_a\u001b[49m\u001b[38;5;241;43m.\u001b[39;49m\u001b[43m_run_transformers\u001b[49m\u001b[43m(\u001b[49m\u001b[43m)\u001b[49m\n",
      "File \u001b[1;32mC:\\projects\\side_projects\\fl_titanic\\src\\client.py:56\u001b[0m, in \u001b[0;36mClient._run_transformers\u001b[1;34m(self)\u001b[0m\n\u001b[0;32m     53\u001b[0m X_train, y_train \u001b[38;5;241m=\u001b[39m \u001b[38;5;28mself\u001b[39m\u001b[38;5;241m.\u001b[39mdata_object\u001b[38;5;241m.\u001b[39mload_train_data(split_xy\u001b[38;5;241m=\u001b[39m\u001b[38;5;28;01mTrue\u001b[39;00m)\n\u001b[0;32m     54\u001b[0m X_test, y_test \u001b[38;5;241m=\u001b[39m \u001b[38;5;28mself\u001b[39m\u001b[38;5;241m.\u001b[39mdata_object\u001b[38;5;241m.\u001b[39mload_test_data(split_xy\u001b[38;5;241m=\u001b[39m\u001b[38;5;28;01mTrue\u001b[39;00m)\n\u001b[1;32m---> 56\u001b[0m X_train \u001b[38;5;241m=\u001b[39m \u001b[38;5;28;43mself\u001b[39;49m\u001b[38;5;241;43m.\u001b[39;49m\u001b[43mtransformers\u001b[49m\u001b[38;5;241;43m.\u001b[39;49m\u001b[43mfit_transform\u001b[49m(X_train, y_train)\n\u001b[0;32m     57\u001b[0m X_test \u001b[38;5;241m=\u001b[39m \u001b[38;5;28mself\u001b[39m\u001b[38;5;241m.\u001b[39mtransformers\u001b[38;5;241m.\u001b[39mtransform(X_test)\n\u001b[0;32m     58\u001b[0m \u001b[38;5;28;01mreturn\u001b[39;00m X_train, X_test, y_train, y_test\n",
      "\u001b[1;31mAttributeError\u001b[0m: 'NoneType' object has no attribute 'fit_transform'"
     ]
    }
   ],
   "source": [
    "client_a = config.ClientA()\n",
    "client_b = config.ClientB()\n",
    "\n",
    "client_a._run_transformers()"
   ]
  },
  {
   "cell_type": "code",
   "execution_count": 105,
   "id": "135dda9c-d3a6-4189-b984-6a2e5dff44b9",
   "metadata": {},
   "outputs": [
    {
     "data": {
      "text/html": [
       "<div>\n",
       "<style scoped>\n",
       "    .dataframe tbody tr th:only-of-type {\n",
       "        vertical-align: middle;\n",
       "    }\n",
       "\n",
       "    .dataframe tbody tr th {\n",
       "        vertical-align: top;\n",
       "    }\n",
       "\n",
       "    .dataframe thead th {\n",
       "        text-align: right;\n",
       "    }\n",
       "</style>\n",
       "<table border=\"1\" class=\"dataframe\">\n",
       "  <thead>\n",
       "    <tr style=\"text-align: right;\">\n",
       "      <th></th>\n",
       "      <th>PassengerId</th>\n",
       "      <th>Pclass</th>\n",
       "      <th>Name</th>\n",
       "      <th>Sex</th>\n",
       "      <th>Age</th>\n",
       "      <th>SibSp</th>\n",
       "      <th>Parch</th>\n",
       "      <th>Ticket</th>\n",
       "      <th>Fare</th>\n",
       "      <th>Cabin</th>\n",
       "      <th>Embarked</th>\n",
       "    </tr>\n",
       "  </thead>\n",
       "  <tbody>\n",
       "    <tr>\n",
       "      <th>0</th>\n",
       "      <td>622</td>\n",
       "      <td>1</td>\n",
       "      <td>Kimball, Mr. Edwin Nelson Jr</td>\n",
       "      <td>male</td>\n",
       "      <td>42.0</td>\n",
       "      <td>1</td>\n",
       "      <td>0</td>\n",
       "      <td>11753</td>\n",
       "      <td>52.5542</td>\n",
       "      <td>D19</td>\n",
       "      <td>S</td>\n",
       "    </tr>\n",
       "    <tr>\n",
       "      <th>1</th>\n",
       "      <td>220</td>\n",
       "      <td>2</td>\n",
       "      <td>Harris, Mr. Walter</td>\n",
       "      <td>male</td>\n",
       "      <td>30.0</td>\n",
       "      <td>0</td>\n",
       "      <td>0</td>\n",
       "      <td>W/C 14208</td>\n",
       "      <td>10.5000</td>\n",
       "      <td>NaN</td>\n",
       "      <td>S</td>\n",
       "    </tr>\n",
       "    <tr>\n",
       "      <th>2</th>\n",
       "      <td>229</td>\n",
       "      <td>2</td>\n",
       "      <td>Fahlstrom, Mr. Arne Jonas</td>\n",
       "      <td>male</td>\n",
       "      <td>18.0</td>\n",
       "      <td>0</td>\n",
       "      <td>0</td>\n",
       "      <td>236171</td>\n",
       "      <td>13.0000</td>\n",
       "      <td>NaN</td>\n",
       "      <td>S</td>\n",
       "    </tr>\n",
       "    <tr>\n",
       "      <th>3</th>\n",
       "      <td>169</td>\n",
       "      <td>1</td>\n",
       "      <td>Baumann, Mr. John D</td>\n",
       "      <td>male</td>\n",
       "      <td>NaN</td>\n",
       "      <td>0</td>\n",
       "      <td>0</td>\n",
       "      <td>PC 17318</td>\n",
       "      <td>25.9250</td>\n",
       "      <td>NaN</td>\n",
       "      <td>S</td>\n",
       "    </tr>\n",
       "    <tr>\n",
       "      <th>4</th>\n",
       "      <td>408</td>\n",
       "      <td>2</td>\n",
       "      <td>Richards, Master. William Rowe</td>\n",
       "      <td>male</td>\n",
       "      <td>3.0</td>\n",
       "      <td>1</td>\n",
       "      <td>1</td>\n",
       "      <td>29106</td>\n",
       "      <td>18.7500</td>\n",
       "      <td>NaN</td>\n",
       "      <td>S</td>\n",
       "    </tr>\n",
       "    <tr>\n",
       "      <th>...</th>\n",
       "      <td>...</td>\n",
       "      <td>...</td>\n",
       "      <td>...</td>\n",
       "      <td>...</td>\n",
       "      <td>...</td>\n",
       "      <td>...</td>\n",
       "      <td>...</td>\n",
       "      <td>...</td>\n",
       "      <td>...</td>\n",
       "      <td>...</td>\n",
       "      <td>...</td>\n",
       "    </tr>\n",
       "    <tr>\n",
       "      <th>239</th>\n",
       "      <td>673</td>\n",
       "      <td>2</td>\n",
       "      <td>Mitchell, Mr. Henry Michael</td>\n",
       "      <td>male</td>\n",
       "      <td>70.0</td>\n",
       "      <td>0</td>\n",
       "      <td>0</td>\n",
       "      <td>C.A. 24580</td>\n",
       "      <td>10.5000</td>\n",
       "      <td>NaN</td>\n",
       "      <td>S</td>\n",
       "    </tr>\n",
       "    <tr>\n",
       "      <th>240</th>\n",
       "      <td>453</td>\n",
       "      <td>1</td>\n",
       "      <td>Foreman, Mr. Benjamin Laventall</td>\n",
       "      <td>male</td>\n",
       "      <td>30.0</td>\n",
       "      <td>0</td>\n",
       "      <td>0</td>\n",
       "      <td>113051</td>\n",
       "      <td>27.7500</td>\n",
       "      <td>C111</td>\n",
       "      <td>C</td>\n",
       "    </tr>\n",
       "    <tr>\n",
       "      <th>241</th>\n",
       "      <td>713</td>\n",
       "      <td>1</td>\n",
       "      <td>Taylor, Mr. Elmer Zebley</td>\n",
       "      <td>male</td>\n",
       "      <td>48.0</td>\n",
       "      <td>1</td>\n",
       "      <td>0</td>\n",
       "      <td>19996</td>\n",
       "      <td>52.0000</td>\n",
       "      <td>C126</td>\n",
       "      <td>S</td>\n",
       "    </tr>\n",
       "    <tr>\n",
       "      <th>242</th>\n",
       "      <td>345</td>\n",
       "      <td>2</td>\n",
       "      <td>Fox, Mr. Stanley Hubert</td>\n",
       "      <td>male</td>\n",
       "      <td>36.0</td>\n",
       "      <td>0</td>\n",
       "      <td>0</td>\n",
       "      <td>229236</td>\n",
       "      <td>13.0000</td>\n",
       "      <td>NaN</td>\n",
       "      <td>S</td>\n",
       "    </tr>\n",
       "    <tr>\n",
       "      <th>243</th>\n",
       "      <td>699</td>\n",
       "      <td>1</td>\n",
       "      <td>Thayer, Mr. John Borland</td>\n",
       "      <td>male</td>\n",
       "      <td>49.0</td>\n",
       "      <td>1</td>\n",
       "      <td>1</td>\n",
       "      <td>17421</td>\n",
       "      <td>110.8833</td>\n",
       "      <td>C68</td>\n",
       "      <td>C</td>\n",
       "    </tr>\n",
       "  </tbody>\n",
       "</table>\n",
       "<p>488 rows × 11 columns</p>\n",
       "</div>"
      ],
      "text/plain": [
       "     PassengerId  Pclass                             Name   Sex   Age  SibSp  \\\n",
       "0            622       1     Kimball, Mr. Edwin Nelson Jr  male  42.0      1   \n",
       "1            220       2               Harris, Mr. Walter  male  30.0      0   \n",
       "2            229       2        Fahlstrom, Mr. Arne Jonas  male  18.0      0   \n",
       "3            169       1              Baumann, Mr. John D  male   NaN      0   \n",
       "4            408       2   Richards, Master. William Rowe  male   3.0      1   \n",
       "..           ...     ...                              ...   ...   ...    ...   \n",
       "239          673       2      Mitchell, Mr. Henry Michael  male  70.0      0   \n",
       "240          453       1  Foreman, Mr. Benjamin Laventall  male  30.0      0   \n",
       "241          713       1         Taylor, Mr. Elmer Zebley  male  48.0      1   \n",
       "242          345       2          Fox, Mr. Stanley Hubert  male  36.0      0   \n",
       "243          699       1         Thayer, Mr. John Borland  male  49.0      1   \n",
       "\n",
       "     Parch      Ticket      Fare Cabin Embarked  \n",
       "0        0       11753   52.5542   D19        S  \n",
       "1        0   W/C 14208   10.5000   NaN        S  \n",
       "2        0      236171   13.0000   NaN        S  \n",
       "3        0    PC 17318   25.9250   NaN        S  \n",
       "4        1       29106   18.7500   NaN        S  \n",
       "..     ...         ...       ...   ...      ...  \n",
       "239      0  C.A. 24580   10.5000   NaN        S  \n",
       "240      0      113051   27.7500  C111        C  \n",
       "241      0       19996   52.0000  C126        S  \n",
       "242      0      229236   13.0000   NaN        S  \n",
       "243      1       17421  110.8833   C68        C  \n",
       "\n",
       "[488 rows x 11 columns]"
      ]
     },
     "execution_count": 105,
     "metadata": {},
     "output_type": "execute_result"
    }
   ],
   "source": [
    "X_train = pd.concat([X_train_a, X_train_b])\n",
    "X_train"
   ]
  },
  {
   "cell_type": "code",
   "execution_count": 162,
   "id": "3327bb30-19f8-4812-afae-54ac36bb4840",
   "metadata": {},
   "outputs": [
    {
     "data": {
      "text/html": [
       "<div>\n",
       "<style scoped>\n",
       "    .dataframe tbody tr th:only-of-type {\n",
       "        vertical-align: middle;\n",
       "    }\n",
       "\n",
       "    .dataframe tbody tr th {\n",
       "        vertical-align: top;\n",
       "    }\n",
       "\n",
       "    .dataframe thead th {\n",
       "        text-align: right;\n",
       "    }\n",
       "</style>\n",
       "<table border=\"1\" class=\"dataframe\">\n",
       "  <thead>\n",
       "    <tr style=\"text-align: right;\">\n",
       "      <th></th>\n",
       "      <th>PassengerId</th>\n",
       "      <th>Pclass</th>\n",
       "      <th>Name</th>\n",
       "      <th>Sex</th>\n",
       "      <th>Age</th>\n",
       "      <th>SibSp</th>\n",
       "      <th>Parch</th>\n",
       "      <th>Ticket</th>\n",
       "      <th>Fare</th>\n",
       "      <th>Cabin</th>\n",
       "      <th>Embarked</th>\n",
       "    </tr>\n",
       "  </thead>\n",
       "  <tbody>\n",
       "    <tr>\n",
       "      <th>0</th>\n",
       "      <td>622</td>\n",
       "      <td>1</td>\n",
       "      <td>Kimball, Mr. Edwin Nelson Jr</td>\n",
       "      <td>male</td>\n",
       "      <td>42.0</td>\n",
       "      <td>1</td>\n",
       "      <td>0</td>\n",
       "      <td>11753</td>\n",
       "      <td>52.5542</td>\n",
       "      <td>D19</td>\n",
       "      <td>S</td>\n",
       "    </tr>\n",
       "    <tr>\n",
       "      <th>1</th>\n",
       "      <td>220</td>\n",
       "      <td>2</td>\n",
       "      <td>Harris, Mr. Walter</td>\n",
       "      <td>male</td>\n",
       "      <td>30.0</td>\n",
       "      <td>0</td>\n",
       "      <td>0</td>\n",
       "      <td>W/C 14208</td>\n",
       "      <td>10.5000</td>\n",
       "      <td>NaN</td>\n",
       "      <td>S</td>\n",
       "    </tr>\n",
       "    <tr>\n",
       "      <th>2</th>\n",
       "      <td>229</td>\n",
       "      <td>2</td>\n",
       "      <td>Fahlstrom, Mr. Arne Jonas</td>\n",
       "      <td>male</td>\n",
       "      <td>18.0</td>\n",
       "      <td>0</td>\n",
       "      <td>0</td>\n",
       "      <td>236171</td>\n",
       "      <td>13.0000</td>\n",
       "      <td>NaN</td>\n",
       "      <td>S</td>\n",
       "    </tr>\n",
       "    <tr>\n",
       "      <th>3</th>\n",
       "      <td>169</td>\n",
       "      <td>1</td>\n",
       "      <td>Baumann, Mr. John D</td>\n",
       "      <td>male</td>\n",
       "      <td>NaN</td>\n",
       "      <td>0</td>\n",
       "      <td>0</td>\n",
       "      <td>PC 17318</td>\n",
       "      <td>25.9250</td>\n",
       "      <td>NaN</td>\n",
       "      <td>S</td>\n",
       "    </tr>\n",
       "    <tr>\n",
       "      <th>4</th>\n",
       "      <td>408</td>\n",
       "      <td>2</td>\n",
       "      <td>Richards, Master. William Rowe</td>\n",
       "      <td>male</td>\n",
       "      <td>3.0</td>\n",
       "      <td>1</td>\n",
       "      <td>1</td>\n",
       "      <td>29106</td>\n",
       "      <td>18.7500</td>\n",
       "      <td>NaN</td>\n",
       "      <td>S</td>\n",
       "    </tr>\n",
       "  </tbody>\n",
       "</table>\n",
       "</div>"
      ],
      "text/plain": [
       "   PassengerId  Pclass                            Name   Sex   Age  SibSp  \\\n",
       "0          622       1    Kimball, Mr. Edwin Nelson Jr  male  42.0      1   \n",
       "1          220       2              Harris, Mr. Walter  male  30.0      0   \n",
       "2          229       2       Fahlstrom, Mr. Arne Jonas  male  18.0      0   \n",
       "3          169       1             Baumann, Mr. John D  male   NaN      0   \n",
       "4          408       2  Richards, Master. William Rowe  male   3.0      1   \n",
       "\n",
       "   Parch     Ticket     Fare Cabin Embarked  \n",
       "0      0      11753  52.5542   D19        S  \n",
       "1      0  W/C 14208  10.5000   NaN        S  \n",
       "2      0     236171  13.0000   NaN        S  \n",
       "3      0   PC 17318  25.9250   NaN        S  \n",
       "4      1      29106  18.7500   NaN        S  "
      ]
     },
     "execution_count": 162,
     "metadata": {},
     "output_type": "execute_result"
    }
   ],
   "source": [
    "X_train_a.head()"
   ]
  },
  {
   "cell_type": "code",
   "execution_count": 163,
   "id": "f25ed1cd-ecce-4f0a-9c13-b4d0d012ff72",
   "metadata": {},
   "outputs": [
    {
     "data": {
      "text/html": [
       "<style>#sk-container-id-13 {color: black;background-color: white;}#sk-container-id-13 pre{padding: 0;}#sk-container-id-13 div.sk-toggleable {background-color: white;}#sk-container-id-13 label.sk-toggleable__label {cursor: pointer;display: block;width: 100%;margin-bottom: 0;padding: 0.3em;box-sizing: border-box;text-align: center;}#sk-container-id-13 label.sk-toggleable__label-arrow:before {content: \"▸\";float: left;margin-right: 0.25em;color: #696969;}#sk-container-id-13 label.sk-toggleable__label-arrow:hover:before {color: black;}#sk-container-id-13 div.sk-estimator:hover label.sk-toggleable__label-arrow:before {color: black;}#sk-container-id-13 div.sk-toggleable__content {max-height: 0;max-width: 0;overflow: hidden;text-align: left;background-color: #f0f8ff;}#sk-container-id-13 div.sk-toggleable__content pre {margin: 0.2em;color: black;border-radius: 0.25em;background-color: #f0f8ff;}#sk-container-id-13 input.sk-toggleable__control:checked~div.sk-toggleable__content {max-height: 200px;max-width: 100%;overflow: auto;}#sk-container-id-13 input.sk-toggleable__control:checked~label.sk-toggleable__label-arrow:before {content: \"▾\";}#sk-container-id-13 div.sk-estimator input.sk-toggleable__control:checked~label.sk-toggleable__label {background-color: #d4ebff;}#sk-container-id-13 div.sk-label input.sk-toggleable__control:checked~label.sk-toggleable__label {background-color: #d4ebff;}#sk-container-id-13 input.sk-hidden--visually {border: 0;clip: rect(1px 1px 1px 1px);clip: rect(1px, 1px, 1px, 1px);height: 1px;margin: -1px;overflow: hidden;padding: 0;position: absolute;width: 1px;}#sk-container-id-13 div.sk-estimator {font-family: monospace;background-color: #f0f8ff;border: 1px dotted black;border-radius: 0.25em;box-sizing: border-box;margin-bottom: 0.5em;}#sk-container-id-13 div.sk-estimator:hover {background-color: #d4ebff;}#sk-container-id-13 div.sk-parallel-item::after {content: \"\";width: 100%;border-bottom: 1px solid gray;flex-grow: 1;}#sk-container-id-13 div.sk-label:hover label.sk-toggleable__label {background-color: #d4ebff;}#sk-container-id-13 div.sk-serial::before {content: \"\";position: absolute;border-left: 1px solid gray;box-sizing: border-box;top: 0;bottom: 0;left: 50%;z-index: 0;}#sk-container-id-13 div.sk-serial {display: flex;flex-direction: column;align-items: center;background-color: white;padding-right: 0.2em;padding-left: 0.2em;position: relative;}#sk-container-id-13 div.sk-item {position: relative;z-index: 1;}#sk-container-id-13 div.sk-parallel {display: flex;align-items: stretch;justify-content: center;background-color: white;position: relative;}#sk-container-id-13 div.sk-item::before, #sk-container-id-13 div.sk-parallel-item::before {content: \"\";position: absolute;border-left: 1px solid gray;box-sizing: border-box;top: 0;bottom: 0;left: 50%;z-index: -1;}#sk-container-id-13 div.sk-parallel-item {display: flex;flex-direction: column;z-index: 1;position: relative;background-color: white;}#sk-container-id-13 div.sk-parallel-item:first-child::after {align-self: flex-end;width: 50%;}#sk-container-id-13 div.sk-parallel-item:last-child::after {align-self: flex-start;width: 50%;}#sk-container-id-13 div.sk-parallel-item:only-child::after {width: 0;}#sk-container-id-13 div.sk-dashed-wrapped {border: 1px dashed gray;margin: 0 0.4em 0.5em 0.4em;box-sizing: border-box;padding-bottom: 0.4em;background-color: white;}#sk-container-id-13 div.sk-label label {font-family: monospace;font-weight: bold;display: inline-block;line-height: 1.2em;}#sk-container-id-13 div.sk-label-container {text-align: center;}#sk-container-id-13 div.sk-container {/* jupyter's `normalize.less` sets `[hidden] { display: none; }` but bootstrap.min.css set `[hidden] { display: none !important; }` so we also need the `!important` here to be able to override the default hidden behavior on the sphinx rendered scikit-learn.org. See: https://github.com/scikit-learn/scikit-learn/issues/21755 */display: inline-block !important;position: relative;}#sk-container-id-13 div.sk-text-repr-fallback {display: none;}</style><div id=\"sk-container-id-13\" class=\"sk-top-container\"><div class=\"sk-text-repr-fallback\"><pre>Pipeline(steps=[(&#x27;preprocess&#x27;, GenericPreprocessor(categories=&#x27;auto&#x27;)),\n",
       "                (&#x27;scale&#x27;, RobustScaler()),\n",
       "                (&#x27;clf&#x27;,\n",
       "                 BatchSGD(batch_size=20, loss=&#x27;log_loss&#x27;,\n",
       "                          n_local_iterations=100, random_state=42))])</pre><b>In a Jupyter environment, please rerun this cell to show the HTML representation or trust the notebook. <br />On GitHub, the HTML representation is unable to render, please try loading this page with nbviewer.org.</b></div><div class=\"sk-container\" hidden><div class=\"sk-item sk-dashed-wrapped\"><div class=\"sk-label-container\"><div class=\"sk-label sk-toggleable\"><input class=\"sk-toggleable__control sk-hidden--visually\" id=\"sk-estimator-id-49\" type=\"checkbox\" ><label for=\"sk-estimator-id-49\" class=\"sk-toggleable__label sk-toggleable__label-arrow\">Pipeline</label><div class=\"sk-toggleable__content\"><pre>Pipeline(steps=[(&#x27;preprocess&#x27;, GenericPreprocessor(categories=&#x27;auto&#x27;)),\n",
       "                (&#x27;scale&#x27;, RobustScaler()),\n",
       "                (&#x27;clf&#x27;,\n",
       "                 BatchSGD(batch_size=20, loss=&#x27;log_loss&#x27;,\n",
       "                          n_local_iterations=100, random_state=42))])</pre></div></div></div><div class=\"sk-serial\"><div class=\"sk-item\"><div class=\"sk-estimator sk-toggleable\"><input class=\"sk-toggleable__control sk-hidden--visually\" id=\"sk-estimator-id-50\" type=\"checkbox\" ><label for=\"sk-estimator-id-50\" class=\"sk-toggleable__label sk-toggleable__label-arrow\">GenericPreprocessor</label><div class=\"sk-toggleable__content\"><pre>GenericPreprocessor(categories=&#x27;auto&#x27;)</pre></div></div></div><div class=\"sk-item\"><div class=\"sk-estimator sk-toggleable\"><input class=\"sk-toggleable__control sk-hidden--visually\" id=\"sk-estimator-id-51\" type=\"checkbox\" ><label for=\"sk-estimator-id-51\" class=\"sk-toggleable__label sk-toggleable__label-arrow\">RobustScaler</label><div class=\"sk-toggleable__content\"><pre>RobustScaler()</pre></div></div></div><div class=\"sk-item\"><div class=\"sk-estimator sk-toggleable\"><input class=\"sk-toggleable__control sk-hidden--visually\" id=\"sk-estimator-id-52\" type=\"checkbox\" ><label for=\"sk-estimator-id-52\" class=\"sk-toggleable__label sk-toggleable__label-arrow\">BatchSGD</label><div class=\"sk-toggleable__content\"><pre>BatchSGD(batch_size=20, loss=&#x27;log_loss&#x27;, n_local_iterations=100,\n",
       "         random_state=42)</pre></div></div></div></div></div></div></div>"
      ],
      "text/plain": [
       "Pipeline(steps=[('preprocess', GenericPreprocessor(categories='auto')),\n",
       "                ('scale', RobustScaler()),\n",
       "                ('clf',\n",
       "                 BatchSGD(batch_size=20, loss='log_loss',\n",
       "                          n_local_iterations=100, random_state=42))])"
      ]
     },
     "execution_count": 163,
     "metadata": {},
     "output_type": "execute_result"
    }
   ],
   "source": [
    "# load data files of each party\n",
    "data_a = config.DataA()\n",
    "X_train_a, y_train_a = data_a.load_train_data(split_xy=True)\n",
    "X_test_a, y_test_a = data_a.load_test_data(split_xy=True)\n",
    "\n",
    "\n",
    "data_b = config.DataB()\n",
    "X_train_b, y_train_b = data_b.load_train_data(split_xy=True)\n",
    "X_test_b, y_test_b = data_b.load_test_data(split_xy=True)\n",
    "\n",
    "# join data files\n",
    "X_train = pd.concat([X_train_a, X_train_b])\n",
    "X_test = pd.concat([X_test_a, X_test_b])\n",
    "y_train = pd.concat([y_train_a, y_train_b])\n",
    "y_test = pd.concat([y_test_a, y_test_b])\n",
    "\n",
    "# load transformer pipeline and classifier \n",
    "pipeline = model.get_standard_transformer_pipeline('auto')\n",
    "\n",
    "# transform datasets - note Pipeline deos not support partial fit\n",
    "\n",
    "classifier = model.get_standard_classifier(random_state=config.RANDOM_STATE)\n",
    "\n",
    "# merge classifier to pipeline\n",
    "pipeline.steps.append(('clf', classifier))\n",
    "\n",
    "pipeline"
   ]
  },
  {
   "cell_type": "code",
   "execution_count": 166,
   "id": "0a8b4e7b-50b5-42ac-94a4-761e1320416d",
   "metadata": {},
   "outputs": [
    {
     "data": {
      "text/html": [
       "<style>#sk-container-id-14 {color: black;background-color: white;}#sk-container-id-14 pre{padding: 0;}#sk-container-id-14 div.sk-toggleable {background-color: white;}#sk-container-id-14 label.sk-toggleable__label {cursor: pointer;display: block;width: 100%;margin-bottom: 0;padding: 0.3em;box-sizing: border-box;text-align: center;}#sk-container-id-14 label.sk-toggleable__label-arrow:before {content: \"▸\";float: left;margin-right: 0.25em;color: #696969;}#sk-container-id-14 label.sk-toggleable__label-arrow:hover:before {color: black;}#sk-container-id-14 div.sk-estimator:hover label.sk-toggleable__label-arrow:before {color: black;}#sk-container-id-14 div.sk-toggleable__content {max-height: 0;max-width: 0;overflow: hidden;text-align: left;background-color: #f0f8ff;}#sk-container-id-14 div.sk-toggleable__content pre {margin: 0.2em;color: black;border-radius: 0.25em;background-color: #f0f8ff;}#sk-container-id-14 input.sk-toggleable__control:checked~div.sk-toggleable__content {max-height: 200px;max-width: 100%;overflow: auto;}#sk-container-id-14 input.sk-toggleable__control:checked~label.sk-toggleable__label-arrow:before {content: \"▾\";}#sk-container-id-14 div.sk-estimator input.sk-toggleable__control:checked~label.sk-toggleable__label {background-color: #d4ebff;}#sk-container-id-14 div.sk-label input.sk-toggleable__control:checked~label.sk-toggleable__label {background-color: #d4ebff;}#sk-container-id-14 input.sk-hidden--visually {border: 0;clip: rect(1px 1px 1px 1px);clip: rect(1px, 1px, 1px, 1px);height: 1px;margin: -1px;overflow: hidden;padding: 0;position: absolute;width: 1px;}#sk-container-id-14 div.sk-estimator {font-family: monospace;background-color: #f0f8ff;border: 1px dotted black;border-radius: 0.25em;box-sizing: border-box;margin-bottom: 0.5em;}#sk-container-id-14 div.sk-estimator:hover {background-color: #d4ebff;}#sk-container-id-14 div.sk-parallel-item::after {content: \"\";width: 100%;border-bottom: 1px solid gray;flex-grow: 1;}#sk-container-id-14 div.sk-label:hover label.sk-toggleable__label {background-color: #d4ebff;}#sk-container-id-14 div.sk-serial::before {content: \"\";position: absolute;border-left: 1px solid gray;box-sizing: border-box;top: 0;bottom: 0;left: 50%;z-index: 0;}#sk-container-id-14 div.sk-serial {display: flex;flex-direction: column;align-items: center;background-color: white;padding-right: 0.2em;padding-left: 0.2em;position: relative;}#sk-container-id-14 div.sk-item {position: relative;z-index: 1;}#sk-container-id-14 div.sk-parallel {display: flex;align-items: stretch;justify-content: center;background-color: white;position: relative;}#sk-container-id-14 div.sk-item::before, #sk-container-id-14 div.sk-parallel-item::before {content: \"\";position: absolute;border-left: 1px solid gray;box-sizing: border-box;top: 0;bottom: 0;left: 50%;z-index: -1;}#sk-container-id-14 div.sk-parallel-item {display: flex;flex-direction: column;z-index: 1;position: relative;background-color: white;}#sk-container-id-14 div.sk-parallel-item:first-child::after {align-self: flex-end;width: 50%;}#sk-container-id-14 div.sk-parallel-item:last-child::after {align-self: flex-start;width: 50%;}#sk-container-id-14 div.sk-parallel-item:only-child::after {width: 0;}#sk-container-id-14 div.sk-dashed-wrapped {border: 1px dashed gray;margin: 0 0.4em 0.5em 0.4em;box-sizing: border-box;padding-bottom: 0.4em;background-color: white;}#sk-container-id-14 div.sk-label label {font-family: monospace;font-weight: bold;display: inline-block;line-height: 1.2em;}#sk-container-id-14 div.sk-label-container {text-align: center;}#sk-container-id-14 div.sk-container {/* jupyter's `normalize.less` sets `[hidden] { display: none; }` but bootstrap.min.css set `[hidden] { display: none !important; }` so we also need the `!important` here to be able to override the default hidden behavior on the sphinx rendered scikit-learn.org. See: https://github.com/scikit-learn/scikit-learn/issues/21755 */display: inline-block !important;position: relative;}#sk-container-id-14 div.sk-text-repr-fallback {display: none;}</style><div id=\"sk-container-id-14\" class=\"sk-top-container\"><div class=\"sk-text-repr-fallback\"><pre>Pipeline(steps=[(&#x27;preprocess&#x27;, GenericPreprocessor(categories=&#x27;auto&#x27;)),\n",
       "                (&#x27;scale&#x27;, RobustScaler()),\n",
       "                (&#x27;clf&#x27;,\n",
       "                 BatchSGD(batch_size=20, loss=&#x27;log_loss&#x27;,\n",
       "                          n_local_iterations=100, random_state=42))])</pre><b>In a Jupyter environment, please rerun this cell to show the HTML representation or trust the notebook. <br />On GitHub, the HTML representation is unable to render, please try loading this page with nbviewer.org.</b></div><div class=\"sk-container\" hidden><div class=\"sk-item sk-dashed-wrapped\"><div class=\"sk-label-container\"><div class=\"sk-label sk-toggleable\"><input class=\"sk-toggleable__control sk-hidden--visually\" id=\"sk-estimator-id-53\" type=\"checkbox\" ><label for=\"sk-estimator-id-53\" class=\"sk-toggleable__label sk-toggleable__label-arrow\">Pipeline</label><div class=\"sk-toggleable__content\"><pre>Pipeline(steps=[(&#x27;preprocess&#x27;, GenericPreprocessor(categories=&#x27;auto&#x27;)),\n",
       "                (&#x27;scale&#x27;, RobustScaler()),\n",
       "                (&#x27;clf&#x27;,\n",
       "                 BatchSGD(batch_size=20, loss=&#x27;log_loss&#x27;,\n",
       "                          n_local_iterations=100, random_state=42))])</pre></div></div></div><div class=\"sk-serial\"><div class=\"sk-item\"><div class=\"sk-estimator sk-toggleable\"><input class=\"sk-toggleable__control sk-hidden--visually\" id=\"sk-estimator-id-54\" type=\"checkbox\" ><label for=\"sk-estimator-id-54\" class=\"sk-toggleable__label sk-toggleable__label-arrow\">GenericPreprocessor</label><div class=\"sk-toggleable__content\"><pre>GenericPreprocessor(categories=&#x27;auto&#x27;)</pre></div></div></div><div class=\"sk-item\"><div class=\"sk-estimator sk-toggleable\"><input class=\"sk-toggleable__control sk-hidden--visually\" id=\"sk-estimator-id-55\" type=\"checkbox\" ><label for=\"sk-estimator-id-55\" class=\"sk-toggleable__label sk-toggleable__label-arrow\">RobustScaler</label><div class=\"sk-toggleable__content\"><pre>RobustScaler()</pre></div></div></div><div class=\"sk-item\"><div class=\"sk-estimator sk-toggleable\"><input class=\"sk-toggleable__control sk-hidden--visually\" id=\"sk-estimator-id-56\" type=\"checkbox\" ><label for=\"sk-estimator-id-56\" class=\"sk-toggleable__label sk-toggleable__label-arrow\">BatchSGD</label><div class=\"sk-toggleable__content\"><pre>BatchSGD(batch_size=20, loss=&#x27;log_loss&#x27;, n_local_iterations=100,\n",
       "         random_state=42)</pre></div></div></div></div></div></div></div>"
      ],
      "text/plain": [
       "Pipeline(steps=[('preprocess', GenericPreprocessor(categories='auto')),\n",
       "                ('scale', RobustScaler()),\n",
       "                ('clf',\n",
       "                 BatchSGD(batch_size=20, loss='log_loss',\n",
       "                          n_local_iterations=100, random_state=42))])"
      ]
     },
     "execution_count": 166,
     "metadata": {},
     "output_type": "execute_result"
    }
   ],
   "source": [
    "pipeline.fit(X_train, y_train)"
   ]
  },
  {
   "cell_type": "code",
   "execution_count": 167,
   "id": "f87cdac3-32fe-41f4-a82c-849671675ee4",
   "metadata": {},
   "outputs": [
    {
     "data": {
      "text/plain": [
       "0.7541899441340782"
      ]
     },
     "execution_count": 167,
     "metadata": {},
     "output_type": "execute_result"
    }
   ],
   "source": [
    "pipeline.score(X_test, y_test)"
   ]
  },
  {
   "cell_type": "code",
   "execution_count": null,
   "id": "4ac3abf2-ea16-433a-8fff-545c3a50f820",
   "metadata": {},
   "outputs": [],
   "source": [
    "model.get_standard_classifier(random_state=config.RANDOM_STATE)"
   ]
  },
  {
   "cell_type": "code",
   "execution_count": 74,
   "id": "0288ad12-0c7b-499b-8340-49674bc39611",
   "metadata": {},
   "outputs": [
    {
     "data": {
      "text/plain": [
       "<AxesSubplot:>"
      ]
     },
     "execution_count": 74,
     "metadata": {},
     "output_type": "execute_result"
    },
    {
     "data": {
      "image/png": "[encoded data removed]",
      "text/plain": [
       "<Figure size 640x480 with 1 Axes>"
      ]
     },
     "metadata": {},
     "output_type": "display_data"
    }
   ],
   "source": [
    "server_titanic.collab\n",
    "sns.lineplot(df_score_dict[['A.local', 'B.local']])"
   ]
  },
  {
   "cell_type": "code",
   "execution_count": 62,
   "id": "c373c71b-fa15-4631-9f30-c392970dbe1c",
   "metadata": {},
   "outputs": [
    {
     "data": {
      "text/plain": [
       "{'A': {'local': [0.7741935483870968,\n",
       "   0.7903225806451613,\n",
       "   0.8225806451612904,\n",
       "   0.8225806451612904,\n",
       "   0.7580645161290323,\n",
       "   0.7258064516129032,\n",
       "   0.7741935483870968,\n",
       "   0.7903225806451613,\n",
       "   0.8225806451612904,\n",
       "   0.7419354838709677,\n",
       "   0.7903225806451613,\n",
       "   0.7903225806451613,\n",
       "   0.7096774193548387,\n",
       "   0.8225806451612904,\n",
       "   0.7903225806451613,\n",
       "   0.8387096774193549,\n",
       "   0.7096774193548387,\n",
       "   0.7419354838709677,\n",
       "   0.7419354838709677,\n",
       "   0.7580645161290323,\n",
       "   0.7096774193548387,\n",
       "   0.8225806451612904,\n",
       "   0.7419354838709677,\n",
       "   0.7741935483870968,\n",
       "   0.6774193548387096,\n",
       "   0.7741935483870968,\n",
       "   0.7096774193548387,\n",
       "   0.7741935483870968,\n",
       "   0.7580645161290323,\n",
       "   0.8225806451612904,\n",
       "   0.7580645161290323,\n",
       "   0.7580645161290323,\n",
       "   0.7258064516129032,\n",
       "   0.8064516129032258,\n",
       "   0.7096774193548387,\n",
       "   0.7580645161290323,\n",
       "   0.7580645161290323,\n",
       "   0.8225806451612904,\n",
       "   0.7741935483870968,\n",
       "   0.7741935483870968,\n",
       "   0.8387096774193549,\n",
       "   0.8225806451612904,\n",
       "   0.7903225806451613,\n",
       "   0.7741935483870968,\n",
       "   0.8064516129032258,\n",
       "   0.7419354838709677,\n",
       "   0.8064516129032258,\n",
       "   0.7741935483870968,\n",
       "   0.7741935483870968,\n",
       "   0.8064516129032258],\n",
       "  'global': [0,\n",
       "   0.7903225806451613,\n",
       "   0.7096774193548387,\n",
       "   0.7903225806451613,\n",
       "   0.8064516129032258,\n",
       "   0.7580645161290323,\n",
       "   0.6935483870967742,\n",
       "   0.6774193548387096,\n",
       "   0.6935483870967742,\n",
       "   0.7419354838709677,\n",
       "   0.6935483870967742,\n",
       "   0.7258064516129032,\n",
       "   0.6774193548387096,\n",
       "   0.7258064516129032,\n",
       "   0.7903225806451613,\n",
       "   0.8064516129032258,\n",
       "   0.7741935483870968,\n",
       "   0.6290322580645161,\n",
       "   0.7580645161290323,\n",
       "   0.7580645161290323,\n",
       "   0.7419354838709677,\n",
       "   0.6935483870967742,\n",
       "   0.7903225806451613,\n",
       "   0.7580645161290323,\n",
       "   0.8225806451612904,\n",
       "   0.7258064516129032,\n",
       "   0.6290322580645161,\n",
       "   0.6612903225806451,\n",
       "   0.7419354838709677,\n",
       "   0.7741935483870968,\n",
       "   0.7903225806451613,\n",
       "   0.8064516129032258,\n",
       "   0.7258064516129032,\n",
       "   0.7741935483870968,\n",
       "   0.8064516129032258,\n",
       "   0.6935483870967742,\n",
       "   0.7903225806451613,\n",
       "   0.7580645161290323,\n",
       "   0.8225806451612904,\n",
       "   0.8064516129032258,\n",
       "   0.7741935483870968,\n",
       "   0.7903225806451613,\n",
       "   0.7096774193548387,\n",
       "   0.7419354838709677,\n",
       "   0.7419354838709677,\n",
       "   0.7258064516129032,\n",
       "   0.8064516129032258,\n",
       "   0.7580645161290323,\n",
       "   0.7580645161290323,\n",
       "   0.6935483870967742]},\n",
       " 'B': {'local': [0.7948717948717948,\n",
       "   0.8034188034188035,\n",
       "   0.8034188034188035,\n",
       "   0.7521367521367521,\n",
       "   0.7863247863247863,\n",
       "   0.811965811965812,\n",
       "   0.8205128205128205,\n",
       "   0.811965811965812,\n",
       "   0.7863247863247863,\n",
       "   0.7948717948717948,\n",
       "   0.8205128205128205,\n",
       "   0.7863247863247863,\n",
       "   0.7777777777777778,\n",
       "   0.7777777777777778,\n",
       "   0.811965811965812,\n",
       "   0.7692307692307693,\n",
       "   0.8034188034188035,\n",
       "   0.7948717948717948,\n",
       "   0.8034188034188035,\n",
       "   0.811965811965812,\n",
       "   0.8205128205128205,\n",
       "   0.8205128205128205,\n",
       "   0.7948717948717948,\n",
       "   0.7777777777777778,\n",
       "   0.811965811965812,\n",
       "   0.8205128205128205,\n",
       "   0.8205128205128205,\n",
       "   0.7777777777777778,\n",
       "   0.8034188034188035,\n",
       "   0.7863247863247863,\n",
       "   0.7948717948717948,\n",
       "   0.811965811965812,\n",
       "   0.7948717948717948,\n",
       "   0.7948717948717948,\n",
       "   0.7948717948717948,\n",
       "   0.7350427350427351,\n",
       "   0.8034188034188035,\n",
       "   0.8034188034188035,\n",
       "   0.8034188034188035,\n",
       "   0.8034188034188035,\n",
       "   0.7435897435897436,\n",
       "   0.7435897435897436,\n",
       "   0.811965811965812,\n",
       "   0.7777777777777778,\n",
       "   0.8034188034188035,\n",
       "   0.7948717948717948,\n",
       "   0.8034188034188035,\n",
       "   0.7435897435897436,\n",
       "   0.7350427350427351,\n",
       "   0.7863247863247863],\n",
       "  'global': [0,\n",
       "   0.7521367521367521,\n",
       "   0.7948717948717948,\n",
       "   0.7606837606837606,\n",
       "   0.7606837606837606,\n",
       "   0.7692307692307693,\n",
       "   0.7435897435897436,\n",
       "   0.7606837606837606,\n",
       "   0.7521367521367521,\n",
       "   0.7606837606837606,\n",
       "   0.7863247863247863,\n",
       "   0.7606837606837606,\n",
       "   0.7777777777777778,\n",
       "   0.7435897435897436,\n",
       "   0.7521367521367521,\n",
       "   0.7606837606837606,\n",
       "   0.7948717948717948,\n",
       "   0.7692307692307693,\n",
       "   0.7521367521367521,\n",
       "   0.7777777777777778,\n",
       "   0.7863247863247863,\n",
       "   0.7777777777777778,\n",
       "   0.7606837606837606,\n",
       "   0.7521367521367521,\n",
       "   0.7692307692307693,\n",
       "   0.7948717948717948,\n",
       "   0.7521367521367521,\n",
       "   0.7606837606837606,\n",
       "   0.7521367521367521,\n",
       "   0.7692307692307693,\n",
       "   0.7606837606837606,\n",
       "   0.7606837606837606,\n",
       "   0.7948717948717948,\n",
       "   0.7777777777777778,\n",
       "   0.7948717948717948,\n",
       "   0.7606837606837606,\n",
       "   0.7521367521367521,\n",
       "   0.7692307692307693,\n",
       "   0.7692307692307693,\n",
       "   0.7692307692307693,\n",
       "   0.7863247863247863,\n",
       "   0.7777777777777778,\n",
       "   0.7350427350427351,\n",
       "   0.7948717948717948,\n",
       "   0.7606837606837606,\n",
       "   0.7863247863247863,\n",
       "   0.7435897435897436,\n",
       "   0.7863247863247863,\n",
       "   0.7692307692307693,\n",
       "   0.7094017094017094]}}"
      ]
     },
     "execution_count": 62,
     "metadata": {},
     "output_type": "execute_result"
    }
   ],
   "source": [
    "server_titanic.collab.merge_collab_scores()\n",
    "server_titanic.collab.scores_"
   ]
  },
  {
   "cell_type": "code",
   "execution_count": 248,
   "id": "ba5387d3-07b4-4e79-b91d-f043370d463b",
   "metadata": {},
   "outputs": [
    {
     "data": {
      "text/plain": [
       "{'A': {'local': [0.6774193548387096,\n",
       "   0.8387096774193549,\n",
       "   0.8225806451612904,\n",
       "   0.8225806451612904,\n",
       "   0.8064516129032258,\n",
       "   0.7903225806451613,\n",
       "   0.7903225806451613,\n",
       "   0.7741935483870968,\n",
       "   0.7580645161290323,\n",
       "   0.7580645161290323],\n",
       "  'global': [0,\n",
       "   0.6612903225806451,\n",
       "   0.7419354838709677,\n",
       "   0.7419354838709677,\n",
       "   0.7419354838709677,\n",
       "   0.7903225806451613,\n",
       "   0.7741935483870968,\n",
       "   0.7258064516129032,\n",
       "   0.7419354838709677,\n",
       "   0.7741935483870968]},\n",
       " 'B': {'local': [0.8034188034188035,\n",
       "   0.8034188034188035,\n",
       "   0.7948717948717948,\n",
       "   0.7863247863247863,\n",
       "   0.7777777777777778,\n",
       "   0.7863247863247863,\n",
       "   0.7948717948717948,\n",
       "   0.811965811965812,\n",
       "   0.7692307692307693,\n",
       "   0.7948717948717948],\n",
       "  'global': [0,\n",
       "   0.7863247863247863,\n",
       "   0.7863247863247863,\n",
       "   0.7863247863247863,\n",
       "   0.7692307692307693,\n",
       "   0.7521367521367521,\n",
       "   0.7863247863247863,\n",
       "   0.7863247863247863,\n",
       "   0.7606837606837606,\n",
       "   0.7606837606837606]}}"
      ]
     },
     "execution_count": 248,
     "metadata": {},
     "output_type": "execute_result"
    }
   ],
   "source": [
    "server_titanic.collab.merge_collab_scores()\n",
    "server_titanic.collab.scores_"
   ]
  },
  {
   "cell_type": "code",
   "execution_count": 243,
   "id": "a740b3e8-d619-4f81-98d3-b6ec5a316cda",
   "metadata": {},
   "outputs": [
    {
     "data": {
      "text/plain": [
       "[0.6774193548387096,\n",
       " 0.8387096774193549,\n",
       " 0.8225806451612904,\n",
       " 0.8225806451612904,\n",
       " 0.8064516129032258,\n",
       " 0.7903225806451613,\n",
       " 0.7903225806451613,\n",
       " 0.7741935483870968,\n",
       " 0.7580645161290323,\n",
       " 0.7580645161290323]"
      ]
     },
     "execution_count": 243,
     "metadata": {},
     "output_type": "execute_result"
    }
   ],
   "source": [
    "server_titanic.collab.clients[0].local_scores_"
   ]
  },
  {
   "cell_type": "code",
   "execution_count": 235,
   "id": "a1fe8d73-c7d7-4c25-9acd-b4eb40d90b75",
   "metadata": {},
   "outputs": [
    {
     "data": {
      "text/plain": [
       "[0,\n",
       " 0.7258064516129032,\n",
       " 0.7419354838709677,\n",
       " 0.7741935483870968,\n",
       " 0.7419354838709677,\n",
       " 0.7258064516129032,\n",
       " 0.7580645161290323,\n",
       " 0.7580645161290323,\n",
       " 0.7580645161290323,\n",
       " 0.7096774193548387]"
      ]
     },
     "execution_count": 235,
     "metadata": {},
     "output_type": "execute_result"
    }
   ],
   "source": [
    "server_titanic.collab.clients[0].global_scores_"
   ]
  },
  {
   "cell_type": "code",
   "execution_count": 157,
   "id": "07a65fa3-fe1d-4b75-adee-a8e45e3ee607",
   "metadata": {},
   "outputs": [],
   "source": [
    "X_train, X_test, y_train, y_test = server_titanic._run_transformers(server_titanic.collab.clients[0])"
   ]
  },
  {
   "cell_type": "code",
   "execution_count": 158,
   "id": "40d7d7d8-f428-402c-8e7e-96e5afaf5c4a",
   "metadata": {},
   "outputs": [
    {
     "data": {
      "text/html": [
       "<style>#sk-container-id-5 {color: black;background-color: white;}#sk-container-id-5 pre{padding: 0;}#sk-container-id-5 div.sk-toggleable {background-color: white;}#sk-container-id-5 label.sk-toggleable__label {cursor: pointer;display: block;width: 100%;margin-bottom: 0;padding: 0.3em;box-sizing: border-box;text-align: center;}#sk-container-id-5 label.sk-toggleable__label-arrow:before {content: \"▸\";float: left;margin-right: 0.25em;color: #696969;}#sk-container-id-5 label.sk-toggleable__label-arrow:hover:before {color: black;}#sk-container-id-5 div.sk-estimator:hover label.sk-toggleable__label-arrow:before {color: black;}#sk-container-id-5 div.sk-toggleable__content {max-height: 0;max-width: 0;overflow: hidden;text-align: left;background-color: #f0f8ff;}#sk-container-id-5 div.sk-toggleable__content pre {margin: 0.2em;color: black;border-radius: 0.25em;background-color: #f0f8ff;}#sk-container-id-5 input.sk-toggleable__control:checked~div.sk-toggleable__content {max-height: 200px;max-width: 100%;overflow: auto;}#sk-container-id-5 input.sk-toggleable__control:checked~label.sk-toggleable__label-arrow:before {content: \"▾\";}#sk-container-id-5 div.sk-estimator input.sk-toggleable__control:checked~label.sk-toggleable__label {background-color: #d4ebff;}#sk-container-id-5 div.sk-label input.sk-toggleable__control:checked~label.sk-toggleable__label {background-color: #d4ebff;}#sk-container-id-5 input.sk-hidden--visually {border: 0;clip: rect(1px 1px 1px 1px);clip: rect(1px, 1px, 1px, 1px);height: 1px;margin: -1px;overflow: hidden;padding: 0;position: absolute;width: 1px;}#sk-container-id-5 div.sk-estimator {font-family: monospace;background-color: #f0f8ff;border: 1px dotted black;border-radius: 0.25em;box-sizing: border-box;margin-bottom: 0.5em;}#sk-container-id-5 div.sk-estimator:hover {background-color: #d4ebff;}#sk-container-id-5 div.sk-parallel-item::after {content: \"\";width: 100%;border-bottom: 1px solid gray;flex-grow: 1;}#sk-container-id-5 div.sk-label:hover label.sk-toggleable__label {background-color: #d4ebff;}#sk-container-id-5 div.sk-serial::before {content: \"\";position: absolute;border-left: 1px solid gray;box-sizing: border-box;top: 0;bottom: 0;left: 50%;z-index: 0;}#sk-container-id-5 div.sk-serial {display: flex;flex-direction: column;align-items: center;background-color: white;padding-right: 0.2em;padding-left: 0.2em;position: relative;}#sk-container-id-5 div.sk-item {position: relative;z-index: 1;}#sk-container-id-5 div.sk-parallel {display: flex;align-items: stretch;justify-content: center;background-color: white;position: relative;}#sk-container-id-5 div.sk-item::before, #sk-container-id-5 div.sk-parallel-item::before {content: \"\";position: absolute;border-left: 1px solid gray;box-sizing: border-box;top: 0;bottom: 0;left: 50%;z-index: -1;}#sk-container-id-5 div.sk-parallel-item {display: flex;flex-direction: column;z-index: 1;position: relative;background-color: white;}#sk-container-id-5 div.sk-parallel-item:first-child::after {align-self: flex-end;width: 50%;}#sk-container-id-5 div.sk-parallel-item:last-child::after {align-self: flex-start;width: 50%;}#sk-container-id-5 div.sk-parallel-item:only-child::after {width: 0;}#sk-container-id-5 div.sk-dashed-wrapped {border: 1px dashed gray;margin: 0 0.4em 0.5em 0.4em;box-sizing: border-box;padding-bottom: 0.4em;background-color: white;}#sk-container-id-5 div.sk-label label {font-family: monospace;font-weight: bold;display: inline-block;line-height: 1.2em;}#sk-container-id-5 div.sk-label-container {text-align: center;}#sk-container-id-5 div.sk-container {/* jupyter's `normalize.less` sets `[hidden] { display: none; }` but bootstrap.min.css set `[hidden] { display: none !important; }` so we also need the `!important` here to be able to override the default hidden behavior on the sphinx rendered scikit-learn.org. See: https://github.com/scikit-learn/scikit-learn/issues/21755 */display: inline-block !important;position: relative;}#sk-container-id-5 div.sk-text-repr-fallback {display: none;}</style><div id=\"sk-container-id-5\" class=\"sk-top-container\"><div class=\"sk-text-repr-fallback\"><pre>SGDClassifier()</pre><b>In a Jupyter environment, please rerun this cell to show the HTML representation or trust the notebook. <br />On GitHub, the HTML representation is unable to render, please try loading this page with nbviewer.org.</b></div><div class=\"sk-container\" hidden><div class=\"sk-item\"><div class=\"sk-estimator sk-toggleable\"><input class=\"sk-toggleable__control sk-hidden--visually\" id=\"sk-estimator-id-5\" type=\"checkbox\" checked><label for=\"sk-estimator-id-5\" class=\"sk-toggleable__label sk-toggleable__label-arrow\">SGDClassifier</label><div class=\"sk-toggleable__content\"><pre>SGDClassifier()</pre></div></div></div></div></div>"
      ],
      "text/plain": [
       "SGDClassifier()"
      ]
     },
     "execution_count": 158,
     "metadata": {},
     "output_type": "execute_result"
    }
   ],
   "source": [
    "sgd = SGDClassifier()\n",
    "sgd.fit(X_train, y_train)"
   ]
  },
  {
   "cell_type": "code",
   "execution_count": 188,
   "id": "0586746f-20c8-455b-a625-a5c02f65c23f",
   "metadata": {},
   "outputs": [
    {
     "ename": "TypeError",
     "evalue": "'numpy.flatiter' object is not callable",
     "output_type": "error",
     "traceback": [
      "\u001b[1;31m---------------------------------------------------------------------------\u001b[0m",
      "\u001b[1;31mTypeError\u001b[0m                                 Traceback (most recent call last)",
      "Cell \u001b[1;32mIn [188], line 1\u001b[0m\n\u001b[1;32m----> 1\u001b[0m \u001b[43mnp\u001b[49m\u001b[38;5;241;43m.\u001b[39;49m\u001b[43marray\u001b[49m\u001b[43m(\u001b[49m\u001b[43m[\u001b[49m\u001b[43mc\u001b[49m\u001b[43m \u001b[49m\u001b[38;5;28;43;01mfor\u001b[39;49;00m\u001b[43m \u001b[49m\u001b[43mc\u001b[49m\u001b[43m \u001b[49m\u001b[38;5;129;43;01min\u001b[39;49;00m\u001b[43m \u001b[49m\u001b[43m[\u001b[49m\u001b[43m[\u001b[49m\u001b[38;5;241;43m0\u001b[39;49m\u001b[43m,\u001b[49m\u001b[38;5;241;43m1\u001b[39;49m\u001b[43m]\u001b[49m\u001b[43m,\u001b[49m\u001b[43m[\u001b[49m\u001b[38;5;241;43m0\u001b[39;49m\u001b[43m,\u001b[49m\u001b[38;5;241;43m1\u001b[39;49m\u001b[43m]\u001b[49m\u001b[43m]\u001b[49m\u001b[43m]\u001b[49m\u001b[43m)\u001b[49m\u001b[38;5;241;43m.\u001b[39;49m\u001b[43mflat\u001b[49m\u001b[43m(\u001b[49m\u001b[43m)\u001b[49m\n",
      "\u001b[1;31mTypeError\u001b[0m: 'numpy.flatiter' object is not callable"
     ]
    }
   ],
   "source": [
    "np.array([c for c in [[0,1],[0,1]]]).flat()"
   ]
  },
  {
   "cell_type": "code",
   "execution_count": 147,
   "id": "45cc8702-0378-444e-acad-50ab9a26b8ac",
   "metadata": {},
   "outputs": [
    {
     "data": {
      "text/html": [
       "<style>#sk-container-id-3 {color: black;background-color: white;}#sk-container-id-3 pre{padding: 0;}#sk-container-id-3 div.sk-toggleable {background-color: white;}#sk-container-id-3 label.sk-toggleable__label {cursor: pointer;display: block;width: 100%;margin-bottom: 0;padding: 0.3em;box-sizing: border-box;text-align: center;}#sk-container-id-3 label.sk-toggleable__label-arrow:before {content: \"▸\";float: left;margin-right: 0.25em;color: #696969;}#sk-container-id-3 label.sk-toggleable__label-arrow:hover:before {color: black;}#sk-container-id-3 div.sk-estimator:hover label.sk-toggleable__label-arrow:before {color: black;}#sk-container-id-3 div.sk-toggleable__content {max-height: 0;max-width: 0;overflow: hidden;text-align: left;background-color: #f0f8ff;}#sk-container-id-3 div.sk-toggleable__content pre {margin: 0.2em;color: black;border-radius: 0.25em;background-color: #f0f8ff;}#sk-container-id-3 input.sk-toggleable__control:checked~div.sk-toggleable__content {max-height: 200px;max-width: 100%;overflow: auto;}#sk-container-id-3 input.sk-toggleable__control:checked~label.sk-toggleable__label-arrow:before {content: \"▾\";}#sk-container-id-3 div.sk-estimator input.sk-toggleable__control:checked~label.sk-toggleable__label {background-color: #d4ebff;}#sk-container-id-3 div.sk-label input.sk-toggleable__control:checked~label.sk-toggleable__label {background-color: #d4ebff;}#sk-container-id-3 input.sk-hidden--visually {border: 0;clip: rect(1px 1px 1px 1px);clip: rect(1px, 1px, 1px, 1px);height: 1px;margin: -1px;overflow: hidden;padding: 0;position: absolute;width: 1px;}#sk-container-id-3 div.sk-estimator {font-family: monospace;background-color: #f0f8ff;border: 1px dotted black;border-radius: 0.25em;box-sizing: border-box;margin-bottom: 0.5em;}#sk-container-id-3 div.sk-estimator:hover {background-color: #d4ebff;}#sk-container-id-3 div.sk-parallel-item::after {content: \"\";width: 100%;border-bottom: 1px solid gray;flex-grow: 1;}#sk-container-id-3 div.sk-label:hover label.sk-toggleable__label {background-color: #d4ebff;}#sk-container-id-3 div.sk-serial::before {content: \"\";position: absolute;border-left: 1px solid gray;box-sizing: border-box;top: 0;bottom: 0;left: 50%;z-index: 0;}#sk-container-id-3 div.sk-serial {display: flex;flex-direction: column;align-items: center;background-color: white;padding-right: 0.2em;padding-left: 0.2em;position: relative;}#sk-container-id-3 div.sk-item {position: relative;z-index: 1;}#sk-container-id-3 div.sk-parallel {display: flex;align-items: stretch;justify-content: center;background-color: white;position: relative;}#sk-container-id-3 div.sk-item::before, #sk-container-id-3 div.sk-parallel-item::before {content: \"\";position: absolute;border-left: 1px solid gray;box-sizing: border-box;top: 0;bottom: 0;left: 50%;z-index: -1;}#sk-container-id-3 div.sk-parallel-item {display: flex;flex-direction: column;z-index: 1;position: relative;background-color: white;}#sk-container-id-3 div.sk-parallel-item:first-child::after {align-self: flex-end;width: 50%;}#sk-container-id-3 div.sk-parallel-item:last-child::after {align-self: flex-start;width: 50%;}#sk-container-id-3 div.sk-parallel-item:only-child::after {width: 0;}#sk-container-id-3 div.sk-dashed-wrapped {border: 1px dashed gray;margin: 0 0.4em 0.5em 0.4em;box-sizing: border-box;padding-bottom: 0.4em;background-color: white;}#sk-container-id-3 div.sk-label label {font-family: monospace;font-weight: bold;display: inline-block;line-height: 1.2em;}#sk-container-id-3 div.sk-label-container {text-align: center;}#sk-container-id-3 div.sk-container {/* jupyter's `normalize.less` sets `[hidden] { display: none; }` but bootstrap.min.css set `[hidden] { display: none !important; }` so we also need the `!important` here to be able to override the default hidden behavior on the sphinx rendered scikit-learn.org. See: https://github.com/scikit-learn/scikit-learn/issues/21755 */display: inline-block !important;position: relative;}#sk-container-id-3 div.sk-text-repr-fallback {display: none;}</style><div id=\"sk-container-id-3\" class=\"sk-top-container\"><div class=\"sk-text-repr-fallback\"><pre>SGDClassifier(loss=&#x27;log_loss&#x27;, random_state=42, warm_start=True)</pre><b>In a Jupyter environment, please rerun this cell to show the HTML representation or trust the notebook. <br />On GitHub, the HTML representation is unable to render, please try loading this page with nbviewer.org.</b></div><div class=\"sk-container\" hidden><div class=\"sk-item\"><div class=\"sk-estimator sk-toggleable\"><input class=\"sk-toggleable__control sk-hidden--visually\" id=\"sk-estimator-id-3\" type=\"checkbox\" checked><label for=\"sk-estimator-id-3\" class=\"sk-toggleable__label sk-toggleable__label-arrow\">SGDClassifier</label><div class=\"sk-toggleable__content\"><pre>SGDClassifier(loss=&#x27;log_loss&#x27;, random_state=42, warm_start=True)</pre></div></div></div></div></div>"
      ],
      "text/plain": [
       "SGDClassifier(loss='log_loss', random_state=42, warm_start=True)"
      ]
     },
     "execution_count": 147,
     "metadata": {},
     "output_type": "execute_result"
    }
   ],
   "source": [
    "server_titanic.collab.clients[0].clf_local"
   ]
  },
  {
   "cell_type": "code",
   "execution_count": 198,
   "id": "00fa7eea-1453-4058-b995-9b997176c0b2",
   "metadata": {},
   "outputs": [
    {
     "data": {
      "text/plain": [
       "[0, 1]"
      ]
     },
     "execution_count": 198,
     "metadata": {},
     "output_type": "execute_result"
    }
   ],
   "source": [
    "server_titanic.collab.classifier.classes_"
   ]
  },
  {
   "cell_type": "code",
   "execution_count": 202,
   "id": "8ddc2d16-6b8b-4243-bfa2-5363bb51c26f",
   "metadata": {},
   "outputs": [
    {
     "data": {
      "text/plain": [
       "{'A': [0,\n",
       "  0.7258064516129032,\n",
       "  0.7419354838709677,\n",
       "  0.7741935483870968,\n",
       "  0.7419354838709677,\n",
       "  0.7258064516129032,\n",
       "  0.7580645161290323,\n",
       "  0.7580645161290323,\n",
       "  0.7580645161290323,\n",
       "  0.7096774193548387],\n",
       " 'B': [0,\n",
       "  0.717948717948718,\n",
       "  0.7008547008547008,\n",
       "  0.7435897435897436,\n",
       "  0.7094017094017094,\n",
       "  0.7094017094017094,\n",
       "  0.6923076923076923,\n",
       "  0.7606837606837606,\n",
       "  0.7948717948717948,\n",
       "  0.7692307692307693]}"
      ]
     },
     "execution_count": 202,
     "metadata": {},
     "output_type": "execute_result"
    }
   ],
   "source": [
    "server_titanic.global_scores_"
   ]
  },
  {
   "cell_type": "code",
   "execution_count": 142,
   "id": "88c044f8-c59e-456d-a563-c1c787cff4f5",
   "metadata": {},
   "outputs": [
    {
     "ename": "AttributeError",
     "evalue": "'SGDClassifier' object has no attribute 'classes_'",
     "output_type": "error",
     "traceback": [
      "\u001b[1;31m---------------------------------------------------------------------------\u001b[0m",
      "\u001b[1;31mAttributeError\u001b[0m                            Traceback (most recent call last)",
      "Cell \u001b[1;32mIn [142], line 1\u001b[0m\n\u001b[1;32m----> 1\u001b[0m \u001b[43mserver_titanic\u001b[49m\u001b[38;5;241;43m.\u001b[39;49m\u001b[43mcollab\u001b[49m\u001b[38;5;241;43m.\u001b[39;49m\u001b[43mclassifier\u001b[49m\u001b[38;5;241;43m.\u001b[39;49m\u001b[43mclasses_\u001b[49m\n",
      "\u001b[1;31mAttributeError\u001b[0m: 'SGDClassifier' object has no attribute 'classes_'"
     ]
    }
   ],
   "source": [
    "server_titanic.collab.classifier.classes_"
   ]
  },
  {
   "cell_type": "code",
   "execution_count": 133,
   "id": "5c8847bc-db7e-40a1-a996-dc095e686966",
   "metadata": {},
   "outputs": [
    {
     "data": {
      "text/plain": [
       "{'A': [0.7258064516129032,\n",
       "  0.7258064516129032,\n",
       "  0.7258064516129032,\n",
       "  0.7258064516129032,\n",
       "  0.7258064516129032,\n",
       "  0.7258064516129032,\n",
       "  0.7258064516129032,\n",
       "  0.7258064516129032,\n",
       "  0.7258064516129032,\n",
       "  0.7258064516129032],\n",
       " 'B': [0.7863247863247863,\n",
       "  0.7863247863247863,\n",
       "  0.7863247863247863,\n",
       "  0.7863247863247863,\n",
       "  0.7863247863247863,\n",
       "  0.7863247863247863,\n",
       "  0.7863247863247863,\n",
       "  0.7863247863247863,\n",
       "  0.7863247863247863,\n",
       "  0.7863247863247863]}"
      ]
     },
     "execution_count": 133,
     "metadata": {},
     "output_type": "execute_result"
    }
   ],
   "source": [
    "server_titanic.local_scores_"
   ]
  },
  {
   "cell_type": "code",
   "execution_count": 88,
   "id": "8ee67a03-5c36-4915-911b-ba3d31e54830",
   "metadata": {},
   "outputs": [
    {
     "ename": "TypeError",
     "evalue": "'dict_values' object is not subscriptable",
     "output_type": "error",
     "traceback": [
      "\u001b[1;31m---------------------------------------------------------------------------\u001b[0m",
      "\u001b[1;31mTypeError\u001b[0m                                 Traceback (most recent call last)",
      "Cell \u001b[1;32mIn [88], line 2\u001b[0m\n\u001b[0;32m      1\u001b[0m local_results \u001b[38;5;241m=\u001b[39m server_titanic\u001b[38;5;241m.\u001b[39mcollab\u001b[38;5;241m.\u001b[39mstatistics[\u001b[38;5;124m'\u001b[39m\u001b[38;5;124mnominal_categories\u001b[39m\u001b[38;5;124m'\u001b[39m]\u001b[38;5;241m.\u001b[39mlocal_results_\n\u001b[1;32m----> 2\u001b[0m \u001b[43mlocal_results\u001b[49m\u001b[38;5;241;43m.\u001b[39;49m\u001b[43mvalues\u001b[49m\u001b[43m(\u001b[49m\u001b[43m)\u001b[49m\u001b[43m[\u001b[49m\u001b[38;5;241;43m0\u001b[39;49m\u001b[43m]\u001b[49m\n",
      "\u001b[1;31mTypeError\u001b[0m: 'dict_values' object is not subscriptable"
     ]
    }
   ],
   "source": [
    "local_results = server_titanic.collab.statistics['nominal_categories'].local_results_\n",
    "local_results.values()"
   ]
  },
  {
   "cell_type": "code",
   "execution_count": 73,
   "id": "d19ff91f-9708-4947-aa61-6bbb5568170d",
   "metadata": {},
   "outputs": [
    {
     "data": {
      "text/plain": [
       "712"
      ]
     },
     "execution_count": 73,
     "metadata": {},
     "output_type": "execute_result"
    }
   ],
   "source": [
    "server_titanic.collab.statistics['count_records'].global_results_"
   ]
  },
  {
   "cell_type": "code",
   "execution_count": 70,
   "id": "e76b12a7-8016-4cea-8876-20f501cc2fa0",
   "metadata": {},
   "outputs": [
    {
     "data": {
      "text/plain": [
       "712"
      ]
     },
     "execution_count": 70,
     "metadata": {},
     "output_type": "execute_result"
    }
   ],
   "source": [
    "np.sum(list(server_titanic.collab.statistics['count_records'].local_results_.values()))"
   ]
  },
  {
   "cell_type": "code",
   "execution_count": 37,
   "id": "cb77beab-0b16-4d89-8347-c37923f4f7db",
   "metadata": {},
   "outputs": [
    {
     "data": {
      "text/plain": [
       "[[],\n",
       " [],\n",
       " [],\n",
       " [],\n",
       " ['female', 'male'],\n",
       " [],\n",
       " [],\n",
       " [],\n",
       " [],\n",
       " [],\n",
       " ['A10',\n",
       "  'A14',\n",
       "  'A19',\n",
       "  'A20',\n",
       "  'A23',\n",
       "  'A24',\n",
       "  'A26',\n",
       "  'A31',\n",
       "  'A32',\n",
       "  'A5',\n",
       "  'A6',\n",
       "  'A7',\n",
       "  'B101',\n",
       "  'B102',\n",
       "  'B19',\n",
       "  'B22',\n",
       "  'B30',\n",
       "  'B37',\n",
       "  'B41',\n",
       "  'B49',\n",
       "  'B51 B53 B55',\n",
       "  'B82 B84',\n",
       "  'B86',\n",
       "  'B96 B98',\n",
       "  'C104',\n",
       "  'C106',\n",
       "  'C110',\n",
       "  'C111',\n",
       "  'C118',\n",
       "  'C123',\n",
       "  'C124',\n",
       "  'C126',\n",
       "  'C128',\n",
       "  'C148',\n",
       "  'C22 C26',\n",
       "  'C23 C25 C27',\n",
       "  'C30',\n",
       "  'C46',\n",
       "  'C47',\n",
       "  'C52',\n",
       "  'C68',\n",
       "  'C70',\n",
       "  'C78',\n",
       "  'C82',\n",
       "  'C83',\n",
       "  'C86',\n",
       "  'C87',\n",
       "  'C91',\n",
       "  'C93',\n",
       "  'C95',\n",
       "  'D',\n",
       "  'D10 D12',\n",
       "  'D19',\n",
       "  'D26',\n",
       "  'D33',\n",
       "  'D35',\n",
       "  'D46',\n",
       "  'D48',\n",
       "  'D50',\n",
       "  'D56',\n",
       "  'D6',\n",
       "  'E101',\n",
       "  'E12',\n",
       "  'E17',\n",
       "  'E24',\n",
       "  'E25',\n",
       "  'E46',\n",
       "  'E50',\n",
       "  'E58',\n",
       "  'E63',\n",
       "  'E67',\n",
       "  'E77',\n",
       "  'E8',\n",
       "  'F2',\n",
       "  'F33',\n",
       "  'F4',\n",
       "  'T'],\n",
       " ['C', 'Q', 'S'],\n",
       " [],\n",
       " [],\n",
       " [],\n",
       " [],\n",
       " ['female', 'male'],\n",
       " [],\n",
       " [],\n",
       " [],\n",
       " [],\n",
       " [],\n",
       " ['A16',\n",
       "  'B18',\n",
       "  'B20',\n",
       "  'B22',\n",
       "  'B28',\n",
       "  'B3',\n",
       "  'B35',\n",
       "  'B39',\n",
       "  'B4',\n",
       "  'B42',\n",
       "  'B49',\n",
       "  'B5',\n",
       "  'B57 B59 B63 B66',\n",
       "  'B58 B60',\n",
       "  'B73',\n",
       "  'B77',\n",
       "  'B78',\n",
       "  'B79',\n",
       "  'B80',\n",
       "  'B96 B98',\n",
       "  'C123',\n",
       "  'C125',\n",
       "  'C126',\n",
       "  'C2',\n",
       "  'C22 C26',\n",
       "  'C23 C25 C27',\n",
       "  'C49',\n",
       "  'C50',\n",
       "  'C54',\n",
       "  'C62 C64',\n",
       "  'C65',\n",
       "  'C68',\n",
       "  'C7',\n",
       "  'C78',\n",
       "  'C83',\n",
       "  'C85',\n",
       "  'C90',\n",
       "  'C92',\n",
       "  'C93',\n",
       "  'D11',\n",
       "  'D17',\n",
       "  'D20',\n",
       "  'D21',\n",
       "  'D28',\n",
       "  'D33',\n",
       "  'D35',\n",
       "  'D37',\n",
       "  'D47',\n",
       "  'D7',\n",
       "  'E10',\n",
       "  'E121',\n",
       "  'E33',\n",
       "  'E34',\n",
       "  'E36',\n",
       "  'E40',\n",
       "  'E44',\n",
       "  'E49',\n",
       "  'E67',\n",
       "  'E68',\n",
       "  'F G63',\n",
       "  'F G73',\n",
       "  'F38',\n",
       "  'G6'],\n",
       " ['C', 'Q', 'S'],\n",
       " []]"
      ]
     },
     "execution_count": 37,
     "metadata": {},
     "output_type": "execute_result"
    }
   ],
   "source": [
    "[] + nc.results_['A'] + nc.results_['B']"
   ]
  },
  {
   "cell_type": "code",
   "execution_count": 34,
   "id": "676a1dcb-5571-472b-8050-68eb847450fe",
   "metadata": {},
   "outputs": [
    {
     "data": {
      "text/plain": [
       "[[[],\n",
       "  [],\n",
       "  [],\n",
       "  [],\n",
       "  ['female', 'male'],\n",
       "  [],\n",
       "  [],\n",
       "  [],\n",
       "  [],\n",
       "  [],\n",
       "  ['A10',\n",
       "   'A14',\n",
       "   'A19',\n",
       "   'A20',\n",
       "   'A23',\n",
       "   'A24',\n",
       "   'A26',\n",
       "   'A31',\n",
       "   'A32',\n",
       "   'A5',\n",
       "   'A6',\n",
       "   'A7',\n",
       "   'B101',\n",
       "   'B102',\n",
       "   'B19',\n",
       "   'B22',\n",
       "   'B30',\n",
       "   'B37',\n",
       "   'B41',\n",
       "   'B49',\n",
       "   'B51 B53 B55',\n",
       "   'B82 B84',\n",
       "   'B86',\n",
       "   'B96 B98',\n",
       "   'C104',\n",
       "   'C106',\n",
       "   'C110',\n",
       "   'C111',\n",
       "   'C118',\n",
       "   'C123',\n",
       "   'C124',\n",
       "   'C126',\n",
       "   'C128',\n",
       "   'C148',\n",
       "   'C22 C26',\n",
       "   'C23 C25 C27',\n",
       "   'C30',\n",
       "   'C46',\n",
       "   'C47',\n",
       "   'C52',\n",
       "   'C68',\n",
       "   'C70',\n",
       "   'C78',\n",
       "   'C82',\n",
       "   'C83',\n",
       "   'C86',\n",
       "   'C87',\n",
       "   'C91',\n",
       "   'C93',\n",
       "   'C95',\n",
       "   'D',\n",
       "   'D10 D12',\n",
       "   'D19',\n",
       "   'D26',\n",
       "   'D33',\n",
       "   'D35',\n",
       "   'D46',\n",
       "   'D48',\n",
       "   'D50',\n",
       "   'D56',\n",
       "   'D6',\n",
       "   'E101',\n",
       "   'E12',\n",
       "   'E17',\n",
       "   'E24',\n",
       "   'E25',\n",
       "   'E46',\n",
       "   'E50',\n",
       "   'E58',\n",
       "   'E63',\n",
       "   'E67',\n",
       "   'E77',\n",
       "   'E8',\n",
       "   'F2',\n",
       "   'F33',\n",
       "   'F4',\n",
       "   'T'],\n",
       "  ['C', 'Q', 'S']],\n",
       " [[],\n",
       "  [],\n",
       "  [],\n",
       "  [],\n",
       "  ['female', 'male'],\n",
       "  [],\n",
       "  [],\n",
       "  [],\n",
       "  [],\n",
       "  [],\n",
       "  ['A16',\n",
       "   'B18',\n",
       "   'B20',\n",
       "   'B22',\n",
       "   'B28',\n",
       "   'B3',\n",
       "   'B35',\n",
       "   'B39',\n",
       "   'B4',\n",
       "   'B42',\n",
       "   'B49',\n",
       "   'B5',\n",
       "   'B57 B59 B63 B66',\n",
       "   'B58 B60',\n",
       "   'B73',\n",
       "   'B77',\n",
       "   'B78',\n",
       "   'B79',\n",
       "   'B80',\n",
       "   'B96 B98',\n",
       "   'C123',\n",
       "   'C125',\n",
       "   'C126',\n",
       "   'C2',\n",
       "   'C22 C26',\n",
       "   'C23 C25 C27',\n",
       "   'C49',\n",
       "   'C50',\n",
       "   'C54',\n",
       "   'C62 C64',\n",
       "   'C65',\n",
       "   'C68',\n",
       "   'C7',\n",
       "   'C78',\n",
       "   'C83',\n",
       "   'C85',\n",
       "   'C90',\n",
       "   'C92',\n",
       "   'C93',\n",
       "   'D11',\n",
       "   'D17',\n",
       "   'D20',\n",
       "   'D21',\n",
       "   'D28',\n",
       "   'D33',\n",
       "   'D35',\n",
       "   'D37',\n",
       "   'D47',\n",
       "   'D7',\n",
       "   'E10',\n",
       "   'E121',\n",
       "   'E33',\n",
       "   'E34',\n",
       "   'E36',\n",
       "   'E40',\n",
       "   'E44',\n",
       "   'E49',\n",
       "   'E67',\n",
       "   'E68',\n",
       "   'F G63',\n",
       "   'F G73',\n",
       "   'F38',\n",
       "   'G6'],\n",
       "  ['C', 'Q', 'S'],\n",
       "  []]]"
      ]
     },
     "execution_count": 34,
     "metadata": {},
     "output_type": "execute_result"
    }
   ],
   "source": [
    "combined_list = []\n",
    "for nested_list in nc.results_.values():\n",
    "    for inner_list in nested_list:\n",
    "        combined_list.append(nested_list)\n",
    "\n",
    "combined_list"
   ]
  },
  {
   "cell_type": "code",
   "execution_count": 23,
   "id": "686231c0-ca67-4505-99cb-9f73962ca738",
   "metadata": {},
   "outputs": [
    {
     "data": {
      "text/plain": [
       "{'A': [[[],\n",
       "   [],\n",
       "   [],\n",
       "   [],\n",
       "   ['female', 'male'],\n",
       "   [],\n",
       "   [],\n",
       "   [],\n",
       "   [],\n",
       "   [],\n",
       "   ['A10',\n",
       "    'A14',\n",
       "    'A19',\n",
       "    'A20',\n",
       "    'A23',\n",
       "    'A24',\n",
       "    'A26',\n",
       "    'A31',\n",
       "    'A32',\n",
       "    'A5',\n",
       "    'A6',\n",
       "    'A7',\n",
       "    'B101',\n",
       "    'B102',\n",
       "    'B19',\n",
       "    'B22',\n",
       "    'B30',\n",
       "    'B37',\n",
       "    'B41',\n",
       "    'B49',\n",
       "    'B51 B53 B55',\n",
       "    'B82 B84',\n",
       "    'B86',\n",
       "    'B96 B98',\n",
       "    'C104',\n",
       "    'C106',\n",
       "    'C110',\n",
       "    'C111',\n",
       "    'C118',\n",
       "    'C123',\n",
       "    'C124',\n",
       "    'C126',\n",
       "    'C128',\n",
       "    'C148',\n",
       "    'C22 C26',\n",
       "    'C23 C25 C27',\n",
       "    'C30',\n",
       "    'C46',\n",
       "    'C47',\n",
       "    'C52',\n",
       "    'C68',\n",
       "    'C70',\n",
       "    'C78',\n",
       "    'C82',\n",
       "    'C83',\n",
       "    'C86',\n",
       "    'C87',\n",
       "    'C91',\n",
       "    'C93',\n",
       "    'C95',\n",
       "    'D',\n",
       "    'D10 D12',\n",
       "    'D19',\n",
       "    'D26',\n",
       "    'D33',\n",
       "    'D35',\n",
       "    'D46',\n",
       "    'D48',\n",
       "    'D50',\n",
       "    'D56',\n",
       "    'D6',\n",
       "    'E101',\n",
       "    'E12',\n",
       "    'E17',\n",
       "    'E24',\n",
       "    'E25',\n",
       "    'E46',\n",
       "    'E50',\n",
       "    'E58',\n",
       "    'E63',\n",
       "    'E67',\n",
       "    'E77',\n",
       "    'E8',\n",
       "    'F2',\n",
       "    'F33',\n",
       "    'F4',\n",
       "    'T'],\n",
       "   ['C', 'Q', 'S']]],\n",
       " 'B': [[[],\n",
       "   [],\n",
       "   [],\n",
       "   [],\n",
       "   ['female', 'male'],\n",
       "   [],\n",
       "   [],\n",
       "   [],\n",
       "   [],\n",
       "   [],\n",
       "   ['A16',\n",
       "    'B18',\n",
       "    'B20',\n",
       "    'B22',\n",
       "    'B28',\n",
       "    'B3',\n",
       "    'B35',\n",
       "    'B39',\n",
       "    'B4',\n",
       "    'B42',\n",
       "    'B49',\n",
       "    'B5',\n",
       "    'B57 B59 B63 B66',\n",
       "    'B58 B60',\n",
       "    'B73',\n",
       "    'B77',\n",
       "    'B78',\n",
       "    'B79',\n",
       "    'B80',\n",
       "    'B96 B98',\n",
       "    'C123',\n",
       "    'C125',\n",
       "    'C126',\n",
       "    'C2',\n",
       "    'C22 C26',\n",
       "    'C23 C25 C27',\n",
       "    'C49',\n",
       "    'C50',\n",
       "    'C54',\n",
       "    'C62 C64',\n",
       "    'C65',\n",
       "    'C68',\n",
       "    'C7',\n",
       "    'C78',\n",
       "    'C83',\n",
       "    'C85',\n",
       "    'C90',\n",
       "    'C92',\n",
       "    'C93',\n",
       "    'D11',\n",
       "    'D17',\n",
       "    'D20',\n",
       "    'D21',\n",
       "    'D28',\n",
       "    'D33',\n",
       "    'D35',\n",
       "    'D37',\n",
       "    'D47',\n",
       "    'D7',\n",
       "    'E10',\n",
       "    'E121',\n",
       "    'E33',\n",
       "    'E34',\n",
       "    'E36',\n",
       "    'E40',\n",
       "    'E44',\n",
       "    'E49',\n",
       "    'E67',\n",
       "    'E68',\n",
       "    'F G63',\n",
       "    'F G73',\n",
       "    'F38',\n",
       "    'G6'],\n",
       "   ['C', 'Q', 'S'],\n",
       "   []]]}"
      ]
     },
     "execution_count": 23,
     "metadata": {},
     "output_type": "execute_result"
    }
   ],
   "source": [
    "d = {}\n",
    "for k, v in nc.results_.items():\n",
    "    d.setdefault(k, []).append(v)\n",
    "d"
   ]
  },
  {
   "cell_type": "code",
   "execution_count": 251,
   "id": "93f5bab5-4132-47ce-b8fa-f2c7a3bdc10b",
   "metadata": {},
   "outputs": [
    {
     "data": {
      "text/plain": [
       "<src.server.ServerTitanic at 0x224b94156f0>"
      ]
     },
     "execution_count": 251,
     "metadata": {},
     "output_type": "execute_result"
    }
   ],
   "source": [
    "server_titanic = server.ServerTitanic()\n",
    "server_titanic"
   ]
  },
  {
   "cell_type": "code",
   "execution_count": null,
   "id": "f8590bc0-065a-460a-98a0-20010c08dbb8",
   "metadata": {},
   "outputs": [
    {
     "data": {
      "text/plain": [
       "{'n_records': <function src.utils.count_n_records(df)>,\n",
       " 'nominal_categories': <function src.utils.get_categories(df, categorical_columns=['Sex', 'Cabin', 'Embarked'])>}"
      ]
     },
     "execution_count": 241,
     "metadata": {},
     "output_type": "execute_result"
    }
   ],
   "source": [
    "server_titanic.collab.statistics"
   ]
  },
  {
   "cell_type": "code",
   "execution_count": 242,
   "id": "6c4e7bac-138a-4457-9ab3-09c967b3e9a0",
   "metadata": {},
   "outputs": [],
   "source": [
    "server_titanic.run_statistics()"
   ]
  },
  {
   "cell_type": "code",
   "execution_count": 255,
   "id": "d9fcb357-ca2c-4ac6-8ac8-3d40b5940491",
   "metadata": {},
   "outputs": [
    {
     "name": "stdout",
     "output_type": "stream",
     "text": [
      "Unexpected exception formatting exception. Falling back to standard exception\n"
     ]
    },
    {
     "name": "stderr",
     "output_type": "stream",
     "text": [
      "Traceback (most recent call last):\n",
      "  File \"C:\\Users\\dkn1904.51564\\Miniconda3\\envs\\fl_titanic\\lib\\site-packages\\IPython\\core\\interactiveshell.py\", line 3433, in run_code\n",
      "    exec(code_obj, self.user_global_ns, self.user_ns)\n",
      "  File \"C:\\Users\\dkn1904.51564\\AppData\\Local\\Temp\\ipykernel_15992\\212492611.py\", line 1, in <module>\n",
      "    server_titanic.fit_classifier()\n",
      "  File \"C:\\projects\\side_projects\\fl_titanic\\src\\server.py\", line 37, in fit_classifier\n",
      "    X_train, X_test, y_train, y_test = self.run_transformers(client_instance=client_instance)\n",
      "  File \"C:\\projects\\side_projects\\fl_titanic\\src\\server.py\", line 67, in run_transformers\n",
      "    self.collab.transformers.named_steps['preprocess'].categories = self.stat_results_['nominal_categories']\n",
      "KeyError: 'nominal_categories'\n",
      "\n",
      "During handling of the above exception, another exception occurred:\n",
      "\n",
      "Traceback (most recent call last):\n",
      "  File \"C:\\Users\\dkn1904.51564\\Miniconda3\\envs\\fl_titanic\\lib\\site-packages\\IPython\\core\\interactiveshell.py\", line 2052, in showtraceback\n",
      "    stb = self.InteractiveTB.structured_traceback(\n",
      "  File \"C:\\Users\\dkn1904.51564\\Miniconda3\\envs\\fl_titanic\\lib\\site-packages\\IPython\\core\\ultratb.py\", line 1112, in structured_traceback\n",
      "    return FormattedTB.structured_traceback(\n",
      "  File \"C:\\Users\\dkn1904.51564\\Miniconda3\\envs\\fl_titanic\\lib\\site-packages\\IPython\\core\\ultratb.py\", line 1006, in structured_traceback\n",
      "    return VerboseTB.structured_traceback(\n",
      "  File \"C:\\Users\\dkn1904.51564\\Miniconda3\\envs\\fl_titanic\\lib\\site-packages\\IPython\\core\\ultratb.py\", line 859, in structured_traceback\n",
      "    formatted_exception = self.format_exception_as_a_whole(etype, evalue, etb, number_of_lines_of_context,\n",
      "  File \"C:\\Users\\dkn1904.51564\\Miniconda3\\envs\\fl_titanic\\lib\\site-packages\\IPython\\core\\ultratb.py\", line 812, in format_exception_as_a_whole\n",
      "    frames.append(self.format_record(r))\n",
      "  File \"C:\\Users\\dkn1904.51564\\Miniconda3\\envs\\fl_titanic\\lib\\site-packages\\IPython\\core\\ultratb.py\", line 730, in format_record\n",
      "    result += ''.join(_format_traceback_lines(frame_info.lines, Colors, self.has_colors, lvals))\n",
      "  File \"C:\\Users\\dkn1904.51564\\Miniconda3\\envs\\fl_titanic\\lib\\site-packages\\stack_data\\utils.py\", line 145, in cached_property_wrapper\n",
      "    value = obj.__dict__[self.func.__name__] = self.func(obj)\n",
      "  File \"C:\\Users\\dkn1904.51564\\Miniconda3\\envs\\fl_titanic\\lib\\site-packages\\stack_data\\core.py\", line 698, in lines\n",
      "    pieces = self.included_pieces\n",
      "  File \"C:\\Users\\dkn1904.51564\\Miniconda3\\envs\\fl_titanic\\lib\\site-packages\\stack_data\\utils.py\", line 145, in cached_property_wrapper\n",
      "    value = obj.__dict__[self.func.__name__] = self.func(obj)\n",
      "  File \"C:\\Users\\dkn1904.51564\\Miniconda3\\envs\\fl_titanic\\lib\\site-packages\\stack_data\\core.py\", line 649, in included_pieces\n",
      "    pos = scope_pieces.index(self.executing_piece)\n",
      "  File \"C:\\Users\\dkn1904.51564\\Miniconda3\\envs\\fl_titanic\\lib\\site-packages\\stack_data\\utils.py\", line 145, in cached_property_wrapper\n",
      "    value = obj.__dict__[self.func.__name__] = self.func(obj)\n",
      "  File \"C:\\Users\\dkn1904.51564\\Miniconda3\\envs\\fl_titanic\\lib\\site-packages\\stack_data\\core.py\", line 628, in executing_piece\n",
      "    return only(\n",
      "  File \"C:\\Users\\dkn1904.51564\\Miniconda3\\envs\\fl_titanic\\lib\\site-packages\\executing\\executing.py\", line 164, in only\n",
      "    raise NotOneValueFound('Expected one value, found 0')\n",
      "executing.executing.NotOneValueFound: Expected one value, found 0\n"
     ]
    }
   ],
   "source": [
    "server_titanic.fit_classifier()"
   ]
  },
  {
   "cell_type": "code",
   "execution_count": 256,
   "id": "1b8a8513-b1fd-4cdc-8d23-27d8e9b91ce4",
   "metadata": {},
   "outputs": [
    {
     "data": {
      "text/plain": [
       "{'A': {'n_records': 244,\n",
       "  'nominal_categories': [[],\n",
       "   [],\n",
       "   [],\n",
       "   [],\n",
       "   ['female', 'male'],\n",
       "   [],\n",
       "   [],\n",
       "   [],\n",
       "   [],\n",
       "   [],\n",
       "   ['A10',\n",
       "    'A14',\n",
       "    'A19',\n",
       "    'A20',\n",
       "    'A23',\n",
       "    'A24',\n",
       "    'A26',\n",
       "    'A31',\n",
       "    'A32',\n",
       "    'A5',\n",
       "    'A6',\n",
       "    'A7',\n",
       "    'B101',\n",
       "    'B102',\n",
       "    'B19',\n",
       "    'B22',\n",
       "    'B30',\n",
       "    'B37',\n",
       "    'B41',\n",
       "    'B49',\n",
       "    'B51 B53 B55',\n",
       "    'B82 B84',\n",
       "    'B86',\n",
       "    'B96 B98',\n",
       "    'C104',\n",
       "    'C106',\n",
       "    'C110',\n",
       "    'C111',\n",
       "    'C118',\n",
       "    'C123',\n",
       "    'C124',\n",
       "    'C126',\n",
       "    'C128',\n",
       "    'C148',\n",
       "    'C22 C26',\n",
       "    'C23 C25 C27',\n",
       "    'C30',\n",
       "    'C46',\n",
       "    'C47',\n",
       "    'C52',\n",
       "    'C68',\n",
       "    'C70',\n",
       "    'C78',\n",
       "    'C82',\n",
       "    'C83',\n",
       "    'C86',\n",
       "    'C87',\n",
       "    'C91',\n",
       "    'C93',\n",
       "    'C95',\n",
       "    'D',\n",
       "    'D10 D12',\n",
       "    'D19',\n",
       "    'D26',\n",
       "    'D33',\n",
       "    'D35',\n",
       "    'D46',\n",
       "    'D48',\n",
       "    'D50',\n",
       "    'D56',\n",
       "    'D6',\n",
       "    'E101',\n",
       "    'E12',\n",
       "    'E17',\n",
       "    'E24',\n",
       "    'E25',\n",
       "    'E46',\n",
       "    'E50',\n",
       "    'E58',\n",
       "    'E63',\n",
       "    'E67',\n",
       "    'E77',\n",
       "    'E8',\n",
       "    'F2',\n",
       "    'F33',\n",
       "    'F4',\n",
       "    'T'],\n",
       "   ['C', 'Q', 'S']]},\n",
       " 'B': {'n_records': 468,\n",
       "  'nominal_categories': [[],\n",
       "   [],\n",
       "   [],\n",
       "   [],\n",
       "   ['female', 'male'],\n",
       "   [],\n",
       "   [],\n",
       "   [],\n",
       "   [],\n",
       "   [],\n",
       "   ['A16',\n",
       "    'B18',\n",
       "    'B20',\n",
       "    'B22',\n",
       "    'B28',\n",
       "    'B3',\n",
       "    'B35',\n",
       "    'B39',\n",
       "    'B4',\n",
       "    'B42',\n",
       "    'B49',\n",
       "    'B5',\n",
       "    'B57 B59 B63 B66',\n",
       "    'B58 B60',\n",
       "    'B73',\n",
       "    'B77',\n",
       "    'B78',\n",
       "    'B79',\n",
       "    'B80',\n",
       "    'B96 B98',\n",
       "    'C123',\n",
       "    'C125',\n",
       "    'C126',\n",
       "    'C2',\n",
       "    'C22 C26',\n",
       "    'C23 C25 C27',\n",
       "    'C49',\n",
       "    'C50',\n",
       "    'C54',\n",
       "    'C62 C64',\n",
       "    'C65',\n",
       "    'C68',\n",
       "    'C7',\n",
       "    'C78',\n",
       "    'C83',\n",
       "    'C85',\n",
       "    'C90',\n",
       "    'C92',\n",
       "    'C93',\n",
       "    'D11',\n",
       "    'D17',\n",
       "    'D20',\n",
       "    'D21',\n",
       "    'D28',\n",
       "    'D33',\n",
       "    'D35',\n",
       "    'D37',\n",
       "    'D47',\n",
       "    'D7',\n",
       "    'E10',\n",
       "    'E121',\n",
       "    'E33',\n",
       "    'E34',\n",
       "    'E36',\n",
       "    'E40',\n",
       "    'E44',\n",
       "    'E49',\n",
       "    'E67',\n",
       "    'E68',\n",
       "    'F G63',\n",
       "    'F G73',\n",
       "    'F38',\n",
       "    'G6'],\n",
       "   ['C', 'Q', 'S'],\n",
       "   []]}}"
      ]
     },
     "execution_count": 256,
     "metadata": {},
     "output_type": "execute_result"
    }
   ],
   "source": [
    "server_titanic.stat_results_['"
   ]
  },
  {
   "cell_type": "code",
   "execution_count": 240,
   "id": "ef5313a7-3c13-42ad-bd68-26b362142370",
   "metadata": {},
   "outputs": [
    {
     "data": {
      "text/html": [
       "<div>\n",
       "<style scoped>\n",
       "    .dataframe tbody tr th:only-of-type {\n",
       "        vertical-align: middle;\n",
       "    }\n",
       "\n",
       "    .dataframe tbody tr th {\n",
       "        vertical-align: top;\n",
       "    }\n",
       "\n",
       "    .dataframe thead th {\n",
       "        text-align: right;\n",
       "    }\n",
       "</style>\n",
       "<table border=\"1\" class=\"dataframe\">\n",
       "  <thead>\n",
       "    <tr style=\"text-align: right;\">\n",
       "      <th></th>\n",
       "      <th>PassengerId</th>\n",
       "      <th>Survived</th>\n",
       "      <th>Pclass</th>\n",
       "      <th>Name</th>\n",
       "      <th>Sex</th>\n",
       "      <th>Age</th>\n",
       "      <th>SibSp</th>\n",
       "      <th>Parch</th>\n",
       "      <th>Ticket</th>\n",
       "      <th>Fare</th>\n",
       "      <th>Cabin</th>\n",
       "      <th>Embarked</th>\n",
       "    </tr>\n",
       "  </thead>\n",
       "  <tbody>\n",
       "    <tr>\n",
       "      <th>0</th>\n",
       "      <td>622</td>\n",
       "      <td>1</td>\n",
       "      <td>1</td>\n",
       "      <td>Kimball, Mr. Edwin Nelson Jr</td>\n",
       "      <td>male</td>\n",
       "      <td>42.0</td>\n",
       "      <td>1</td>\n",
       "      <td>0</td>\n",
       "      <td>11753</td>\n",
       "      <td>52.5542</td>\n",
       "      <td>D19</td>\n",
       "      <td>S</td>\n",
       "    </tr>\n",
       "    <tr>\n",
       "      <th>1</th>\n",
       "      <td>220</td>\n",
       "      <td>0</td>\n",
       "      <td>2</td>\n",
       "      <td>Harris, Mr. Walter</td>\n",
       "      <td>male</td>\n",
       "      <td>30.0</td>\n",
       "      <td>0</td>\n",
       "      <td>0</td>\n",
       "      <td>W/C 14208</td>\n",
       "      <td>10.5000</td>\n",
       "      <td>NaN</td>\n",
       "      <td>S</td>\n",
       "    </tr>\n",
       "    <tr>\n",
       "      <th>2</th>\n",
       "      <td>229</td>\n",
       "      <td>0</td>\n",
       "      <td>2</td>\n",
       "      <td>Fahlstrom, Mr. Arne Jonas</td>\n",
       "      <td>male</td>\n",
       "      <td>18.0</td>\n",
       "      <td>0</td>\n",
       "      <td>0</td>\n",
       "      <td>236171</td>\n",
       "      <td>13.0000</td>\n",
       "      <td>NaN</td>\n",
       "      <td>S</td>\n",
       "    </tr>\n",
       "    <tr>\n",
       "      <th>3</th>\n",
       "      <td>169</td>\n",
       "      <td>0</td>\n",
       "      <td>1</td>\n",
       "      <td>Baumann, Mr. John D</td>\n",
       "      <td>male</td>\n",
       "      <td>NaN</td>\n",
       "      <td>0</td>\n",
       "      <td>0</td>\n",
       "      <td>PC 17318</td>\n",
       "      <td>25.9250</td>\n",
       "      <td>NaN</td>\n",
       "      <td>S</td>\n",
       "    </tr>\n",
       "    <tr>\n",
       "      <th>4</th>\n",
       "      <td>408</td>\n",
       "      <td>1</td>\n",
       "      <td>2</td>\n",
       "      <td>Richards, Master. William Rowe</td>\n",
       "      <td>male</td>\n",
       "      <td>3.0</td>\n",
       "      <td>1</td>\n",
       "      <td>1</td>\n",
       "      <td>29106</td>\n",
       "      <td>18.7500</td>\n",
       "      <td>NaN</td>\n",
       "      <td>S</td>\n",
       "    </tr>\n",
       "    <tr>\n",
       "      <th>...</th>\n",
       "      <td>...</td>\n",
       "      <td>...</td>\n",
       "      <td>...</td>\n",
       "      <td>...</td>\n",
       "      <td>...</td>\n",
       "      <td>...</td>\n",
       "      <td>...</td>\n",
       "      <td>...</td>\n",
       "      <td>...</td>\n",
       "      <td>...</td>\n",
       "      <td>...</td>\n",
       "      <td>...</td>\n",
       "    </tr>\n",
       "    <tr>\n",
       "      <th>239</th>\n",
       "      <td>673</td>\n",
       "      <td>0</td>\n",
       "      <td>2</td>\n",
       "      <td>Mitchell, Mr. Henry Michael</td>\n",
       "      <td>male</td>\n",
       "      <td>70.0</td>\n",
       "      <td>0</td>\n",
       "      <td>0</td>\n",
       "      <td>C.A. 24580</td>\n",
       "      <td>10.5000</td>\n",
       "      <td>NaN</td>\n",
       "      <td>S</td>\n",
       "    </tr>\n",
       "    <tr>\n",
       "      <th>240</th>\n",
       "      <td>453</td>\n",
       "      <td>0</td>\n",
       "      <td>1</td>\n",
       "      <td>Foreman, Mr. Benjamin Laventall</td>\n",
       "      <td>male</td>\n",
       "      <td>30.0</td>\n",
       "      <td>0</td>\n",
       "      <td>0</td>\n",
       "      <td>113051</td>\n",
       "      <td>27.7500</td>\n",
       "      <td>C111</td>\n",
       "      <td>C</td>\n",
       "    </tr>\n",
       "    <tr>\n",
       "      <th>241</th>\n",
       "      <td>713</td>\n",
       "      <td>1</td>\n",
       "      <td>1</td>\n",
       "      <td>Taylor, Mr. Elmer Zebley</td>\n",
       "      <td>male</td>\n",
       "      <td>48.0</td>\n",
       "      <td>1</td>\n",
       "      <td>0</td>\n",
       "      <td>19996</td>\n",
       "      <td>52.0000</td>\n",
       "      <td>C126</td>\n",
       "      <td>S</td>\n",
       "    </tr>\n",
       "    <tr>\n",
       "      <th>242</th>\n",
       "      <td>345</td>\n",
       "      <td>0</td>\n",
       "      <td>2</td>\n",
       "      <td>Fox, Mr. Stanley Hubert</td>\n",
       "      <td>male</td>\n",
       "      <td>36.0</td>\n",
       "      <td>0</td>\n",
       "      <td>0</td>\n",
       "      <td>229236</td>\n",
       "      <td>13.0000</td>\n",
       "      <td>NaN</td>\n",
       "      <td>S</td>\n",
       "    </tr>\n",
       "    <tr>\n",
       "      <th>243</th>\n",
       "      <td>699</td>\n",
       "      <td>0</td>\n",
       "      <td>1</td>\n",
       "      <td>Thayer, Mr. John Borland</td>\n",
       "      <td>male</td>\n",
       "      <td>49.0</td>\n",
       "      <td>1</td>\n",
       "      <td>1</td>\n",
       "      <td>17421</td>\n",
       "      <td>110.8833</td>\n",
       "      <td>C68</td>\n",
       "      <td>C</td>\n",
       "    </tr>\n",
       "  </tbody>\n",
       "</table>\n",
       "<p>244 rows × 12 columns</p>\n",
       "</div>"
      ],
      "text/plain": [
       "     PassengerId  Survived  Pclass                             Name   Sex  \\\n",
       "0            622         1       1     Kimball, Mr. Edwin Nelson Jr  male   \n",
       "1            220         0       2               Harris, Mr. Walter  male   \n",
       "2            229         0       2        Fahlstrom, Mr. Arne Jonas  male   \n",
       "3            169         0       1              Baumann, Mr. John D  male   \n",
       "4            408         1       2   Richards, Master. William Rowe  male   \n",
       "..           ...       ...     ...                              ...   ...   \n",
       "239          673         0       2      Mitchell, Mr. Henry Michael  male   \n",
       "240          453         0       1  Foreman, Mr. Benjamin Laventall  male   \n",
       "241          713         1       1         Taylor, Mr. Elmer Zebley  male   \n",
       "242          345         0       2          Fox, Mr. Stanley Hubert  male   \n",
       "243          699         0       1         Thayer, Mr. John Borland  male   \n",
       "\n",
       "      Age  SibSp  Parch      Ticket      Fare Cabin Embarked  \n",
       "0    42.0      1      0       11753   52.5542   D19        S  \n",
       "1    30.0      0      0   W/C 14208   10.5000   NaN        S  \n",
       "2    18.0      0      0      236171   13.0000   NaN        S  \n",
       "3     NaN      0      0    PC 17318   25.9250   NaN        S  \n",
       "4     3.0      1      1       29106   18.7500   NaN        S  \n",
       "..    ...    ...    ...         ...       ...   ...      ...  \n",
       "239  70.0      0      0  C.A. 24580   10.5000   NaN        S  \n",
       "240  30.0      0      0      113051   27.7500  C111        C  \n",
       "241  48.0      1      0       19996   52.0000  C126        S  \n",
       "242  36.0      0      0      229236   13.0000   NaN        S  \n",
       "243  49.0      1      1       17421  110.8833   C68        C  \n",
       "\n",
       "[244 rows x 12 columns]"
      ]
     },
     "execution_count": 240,
     "metadata": {},
     "output_type": "execute_result"
    }
   ],
   "source": [
    "server_titanic.collab.clients[0].data_object.load_train_data(split_xy=False)"
   ]
  },
  {
   "cell_type": "code",
   "execution_count": 206,
   "id": "2f1ffd5a-cf85-4841-b2e1-9d4023933214",
   "metadata": {},
   "outputs": [
    {
     "ename": "NotFittedError",
     "evalue": "This SGDClassifier instance is not fitted yet. Call 'fit' with appropriate arguments before using this estimator.",
     "output_type": "error",
     "traceback": [
      "\u001b[1;31m---------------------------------------------------------------------------\u001b[0m",
      "\u001b[1;31mNotFittedError\u001b[0m                            Traceback (most recent call last)",
      "Cell \u001b[1;32mIn [206], line 1\u001b[0m\n\u001b[1;32m----> 1\u001b[0m \u001b[43msgd2\u001b[49m\u001b[38;5;241;43m.\u001b[39;49m\u001b[43mscore\u001b[49m\u001b[43m(\u001b[49m\u001b[43mX_train\u001b[49m\u001b[43m,\u001b[49m\u001b[43m \u001b[49m\u001b[43my_train\u001b[49m\u001b[43m)\u001b[49m\n",
      "File \u001b[1;32m~\\Miniconda3\\envs\\fl_titanic\\lib\\site-packages\\sklearn\\base.py:666\u001b[0m, in \u001b[0;36mClassifierMixin.score\u001b[1;34m(self, X, y, sample_weight)\u001b[0m\n\u001b[0;32m    641\u001b[0m \u001b[38;5;124;03m\"\"\"\u001b[39;00m\n\u001b[0;32m    642\u001b[0m \u001b[38;5;124;03mReturn the mean accuracy on the given test data and labels.\u001b[39;00m\n\u001b[0;32m    643\u001b[0m \n\u001b[1;32m   (...)\u001b[0m\n\u001b[0;32m    662\u001b[0m \u001b[38;5;124;03m    Mean accuracy of ``self.predict(X)`` wrt. `y`.\u001b[39;00m\n\u001b[0;32m    663\u001b[0m \u001b[38;5;124;03m\"\"\"\u001b[39;00m\n\u001b[0;32m    664\u001b[0m \u001b[38;5;28;01mfrom\u001b[39;00m \u001b[38;5;21;01m.\u001b[39;00m\u001b[38;5;21;01mmetrics\u001b[39;00m \u001b[38;5;28;01mimport\u001b[39;00m accuracy_score\n\u001b[1;32m--> 666\u001b[0m \u001b[38;5;28;01mreturn\u001b[39;00m accuracy_score(y, \u001b[38;5;28;43mself\u001b[39;49m\u001b[38;5;241;43m.\u001b[39;49m\u001b[43mpredict\u001b[49m\u001b[43m(\u001b[49m\u001b[43mX\u001b[49m\u001b[43m)\u001b[49m, sample_weight\u001b[38;5;241m=\u001b[39msample_weight)\n",
      "File \u001b[1;32m~\\Miniconda3\\envs\\fl_titanic\\lib\\site-packages\\sklearn\\linear_model\\_base.py:447\u001b[0m, in \u001b[0;36mLinearClassifierMixin.predict\u001b[1;34m(self, X)\u001b[0m\n\u001b[0;32m    433\u001b[0m \u001b[38;5;28;01mdef\u001b[39;00m \u001b[38;5;21mpredict\u001b[39m(\u001b[38;5;28mself\u001b[39m, X):\n\u001b[0;32m    434\u001b[0m     \u001b[38;5;124;03m\"\"\"\u001b[39;00m\n\u001b[0;32m    435\u001b[0m \u001b[38;5;124;03m    Predict class labels for samples in X.\u001b[39;00m\n\u001b[0;32m    436\u001b[0m \n\u001b[1;32m   (...)\u001b[0m\n\u001b[0;32m    445\u001b[0m \u001b[38;5;124;03m        Vector containing the class labels for each sample.\u001b[39;00m\n\u001b[0;32m    446\u001b[0m \u001b[38;5;124;03m    \"\"\"\u001b[39;00m\n\u001b[1;32m--> 447\u001b[0m     scores \u001b[38;5;241m=\u001b[39m \u001b[38;5;28;43mself\u001b[39;49m\u001b[38;5;241;43m.\u001b[39;49m\u001b[43mdecision_function\u001b[49m\u001b[43m(\u001b[49m\u001b[43mX\u001b[49m\u001b[43m)\u001b[49m\n\u001b[0;32m    448\u001b[0m     \u001b[38;5;28;01mif\u001b[39;00m \u001b[38;5;28mlen\u001b[39m(scores\u001b[38;5;241m.\u001b[39mshape) \u001b[38;5;241m==\u001b[39m \u001b[38;5;241m1\u001b[39m:\n\u001b[0;32m    449\u001b[0m         indices \u001b[38;5;241m=\u001b[39m (scores \u001b[38;5;241m>\u001b[39m \u001b[38;5;241m0\u001b[39m)\u001b[38;5;241m.\u001b[39mastype(\u001b[38;5;28mint\u001b[39m)\n",
      "File \u001b[1;32m~\\Miniconda3\\envs\\fl_titanic\\lib\\site-packages\\sklearn\\linear_model\\_base.py:427\u001b[0m, in \u001b[0;36mLinearClassifierMixin.decision_function\u001b[1;34m(self, X)\u001b[0m\n\u001b[0;32m    408\u001b[0m \u001b[38;5;28;01mdef\u001b[39;00m \u001b[38;5;21mdecision_function\u001b[39m(\u001b[38;5;28mself\u001b[39m, X):\n\u001b[0;32m    409\u001b[0m     \u001b[38;5;124;03m\"\"\"\u001b[39;00m\n\u001b[0;32m    410\u001b[0m \u001b[38;5;124;03m    Predict confidence scores for samples.\u001b[39;00m\n\u001b[0;32m    411\u001b[0m \n\u001b[1;32m   (...)\u001b[0m\n\u001b[0;32m    425\u001b[0m \u001b[38;5;124;03m        this class would be predicted.\u001b[39;00m\n\u001b[0;32m    426\u001b[0m \u001b[38;5;124;03m    \"\"\"\u001b[39;00m\n\u001b[1;32m--> 427\u001b[0m     \u001b[43mcheck_is_fitted\u001b[49m\u001b[43m(\u001b[49m\u001b[38;5;28;43mself\u001b[39;49m\u001b[43m)\u001b[49m\n\u001b[0;32m    429\u001b[0m     X \u001b[38;5;241m=\u001b[39m \u001b[38;5;28mself\u001b[39m\u001b[38;5;241m.\u001b[39m_validate_data(X, accept_sparse\u001b[38;5;241m=\u001b[39m\u001b[38;5;124m\"\u001b[39m\u001b[38;5;124mcsr\u001b[39m\u001b[38;5;124m\"\u001b[39m, reset\u001b[38;5;241m=\u001b[39m\u001b[38;5;28;01mFalse\u001b[39;00m)\n\u001b[0;32m    430\u001b[0m     scores \u001b[38;5;241m=\u001b[39m safe_sparse_dot(X, \u001b[38;5;28mself\u001b[39m\u001b[38;5;241m.\u001b[39mcoef_\u001b[38;5;241m.\u001b[39mT, dense_output\u001b[38;5;241m=\u001b[39m\u001b[38;5;28;01mTrue\u001b[39;00m) \u001b[38;5;241m+\u001b[39m \u001b[38;5;28mself\u001b[39m\u001b[38;5;241m.\u001b[39mintercept_\n",
      "File \u001b[1;32m~\\Miniconda3\\envs\\fl_titanic\\lib\\site-packages\\sklearn\\utils\\validation.py:1345\u001b[0m, in \u001b[0;36mcheck_is_fitted\u001b[1;34m(estimator, attributes, msg, all_or_any)\u001b[0m\n\u001b[0;32m   1340\u001b[0m     fitted \u001b[38;5;241m=\u001b[39m [\n\u001b[0;32m   1341\u001b[0m         v \u001b[38;5;28;01mfor\u001b[39;00m v \u001b[38;5;129;01min\u001b[39;00m \u001b[38;5;28mvars\u001b[39m(estimator) \u001b[38;5;28;01mif\u001b[39;00m v\u001b[38;5;241m.\u001b[39mendswith(\u001b[38;5;124m\"\u001b[39m\u001b[38;5;124m_\u001b[39m\u001b[38;5;124m\"\u001b[39m) \u001b[38;5;129;01mand\u001b[39;00m \u001b[38;5;129;01mnot\u001b[39;00m v\u001b[38;5;241m.\u001b[39mstartswith(\u001b[38;5;124m\"\u001b[39m\u001b[38;5;124m__\u001b[39m\u001b[38;5;124m\"\u001b[39m)\n\u001b[0;32m   1342\u001b[0m     ]\n\u001b[0;32m   1344\u001b[0m \u001b[38;5;28;01mif\u001b[39;00m \u001b[38;5;129;01mnot\u001b[39;00m fitted:\n\u001b[1;32m-> 1345\u001b[0m     \u001b[38;5;28;01mraise\u001b[39;00m NotFittedError(msg \u001b[38;5;241m%\u001b[39m {\u001b[38;5;124m\"\u001b[39m\u001b[38;5;124mname\u001b[39m\u001b[38;5;124m\"\u001b[39m: \u001b[38;5;28mtype\u001b[39m(estimator)\u001b[38;5;241m.\u001b[39m\u001b[38;5;18m__name__\u001b[39m})\n",
      "\u001b[1;31mNotFittedError\u001b[0m: This SGDClassifier instance is not fitted yet. Call 'fit' with appropriate arguments before using this estimator."
     ]
    }
   ],
   "source": [
    "sgd2.score(X_train, y_train)"
   ]
  },
  {
   "cell_type": "code",
   "execution_count": 201,
   "id": "52d7178f-b8b5-4a8a-96d6-f62ac1f21344",
   "metadata": {},
   "outputs": [],
   "source": [
    "t = [utils.get_categories]"
   ]
  },
  {
   "cell_type": "code",
   "execution_count": 204,
   "id": "1303b8b4-ba1f-4d88-b8e1-28fc14585843",
   "metadata": {},
   "outputs": [
    {
     "data": {
      "text/plain": [
       "[['female', 'male'],\n",
       " ['A10',\n",
       "  'A20',\n",
       "  'A23',\n",
       "  'A24',\n",
       "  'A26',\n",
       "  'A31',\n",
       "  'A34',\n",
       "  'A36',\n",
       "  'A5',\n",
       "  'A6',\n",
       "  'A7',\n",
       "  'B101',\n",
       "  'B19',\n",
       "  'B20',\n",
       "  'B22',\n",
       "  'B30',\n",
       "  'B37',\n",
       "  'B38',\n",
       "  'B41',\n",
       "  'B49',\n",
       "  'B50',\n",
       "  'B51 B53 B55',\n",
       "  'B58 B60',\n",
       "  'B71',\n",
       "  'B82 B84',\n",
       "  'B86',\n",
       "  'B94',\n",
       "  'B96 B98',\n",
       "  'C104',\n",
       "  'C110',\n",
       "  'C111',\n",
       "  'C118',\n",
       "  'C123',\n",
       "  'C124',\n",
       "  'C126',\n",
       "  'C148',\n",
       "  'C2',\n",
       "  'C22 C26',\n",
       "  'C23 C25 C27',\n",
       "  'C30',\n",
       "  'C46',\n",
       "  'C52',\n",
       "  'C65',\n",
       "  'C68',\n",
       "  'C70',\n",
       "  'C78',\n",
       "  'C82',\n",
       "  'C83',\n",
       "  'C86',\n",
       "  'C87',\n",
       "  'C91',\n",
       "  'C92',\n",
       "  'C93',\n",
       "  'D',\n",
       "  'D10 D12',\n",
       "  'D19',\n",
       "  'D26',\n",
       "  'D30',\n",
       "  'D33',\n",
       "  'D35',\n",
       "  'D46',\n",
       "  'D48',\n",
       "  'D49',\n",
       "  'D50',\n",
       "  'D56',\n",
       "  'D6',\n",
       "  'E101',\n",
       "  'E12',\n",
       "  'E17',\n",
       "  'E24',\n",
       "  'E25',\n",
       "  'E31',\n",
       "  'E38',\n",
       "  'E44',\n",
       "  'E46',\n",
       "  'E50',\n",
       "  'E58',\n",
       "  'E63',\n",
       "  'E67',\n",
       "  'E77',\n",
       "  'E8',\n",
       "  'F2',\n",
       "  'F33',\n",
       "  'F4',\n",
       "  'T'],\n",
       " ['C', 'Q', 'S']]"
      ]
     },
     "execution_count": 204,
     "metadata": {},
     "output_type": "execute_result"
    }
   ],
   "source": [
    "t[0](df, config.FEATURES_NOMINAL)"
   ]
  },
  {
   "cell_type": "code",
   "execution_count": 195,
   "id": "4dd6c0af-b7c3-4f2e-884d-2e993fec5ac6",
   "metadata": {},
   "outputs": [
    {
     "data": {
      "text/html": [
       "<div>\n",
       "<style scoped>\n",
       "    .dataframe tbody tr th:only-of-type {\n",
       "        vertical-align: middle;\n",
       "    }\n",
       "\n",
       "    .dataframe tbody tr th {\n",
       "        vertical-align: top;\n",
       "    }\n",
       "\n",
       "    .dataframe thead th {\n",
       "        text-align: right;\n",
       "    }\n",
       "</style>\n",
       "<table border=\"1\" class=\"dataframe\">\n",
       "  <thead>\n",
       "    <tr style=\"text-align: right;\">\n",
       "      <th></th>\n",
       "      <th>PassengerId</th>\n",
       "      <th>Survived</th>\n",
       "      <th>Pclass</th>\n",
       "      <th>Name</th>\n",
       "      <th>Sex</th>\n",
       "      <th>Age</th>\n",
       "      <th>SibSp</th>\n",
       "      <th>Parch</th>\n",
       "      <th>Ticket</th>\n",
       "      <th>Fare</th>\n",
       "      <th>Cabin</th>\n",
       "      <th>Embarked</th>\n",
       "    </tr>\n",
       "  </thead>\n",
       "  <tbody>\n",
       "    <tr>\n",
       "      <th>0</th>\n",
       "      <td>7</td>\n",
       "      <td>0</td>\n",
       "      <td>1</td>\n",
       "      <td>McCarthy, Mr. Timothy J</td>\n",
       "      <td>male</td>\n",
       "      <td>54.0</td>\n",
       "      <td>0</td>\n",
       "      <td>0</td>\n",
       "      <td>17463</td>\n",
       "      <td>51.8625</td>\n",
       "      <td>E46</td>\n",
       "      <td>S</td>\n",
       "    </tr>\n",
       "    <tr>\n",
       "      <th>1</th>\n",
       "      <td>10</td>\n",
       "      <td>1</td>\n",
       "      <td>2</td>\n",
       "      <td>Nasser, Mrs. Nicholas (Adele Achem)</td>\n",
       "      <td>female</td>\n",
       "      <td>14.0</td>\n",
       "      <td>1</td>\n",
       "      <td>0</td>\n",
       "      <td>237736</td>\n",
       "      <td>30.0708</td>\n",
       "      <td>NaN</td>\n",
       "      <td>C</td>\n",
       "    </tr>\n",
       "    <tr>\n",
       "      <th>2</th>\n",
       "      <td>16</td>\n",
       "      <td>1</td>\n",
       "      <td>2</td>\n",
       "      <td>Hewlett, Mrs. (Mary D Kingcome)</td>\n",
       "      <td>female</td>\n",
       "      <td>55.0</td>\n",
       "      <td>0</td>\n",
       "      <td>0</td>\n",
       "      <td>248706</td>\n",
       "      <td>16.0000</td>\n",
       "      <td>NaN</td>\n",
       "      <td>S</td>\n",
       "    </tr>\n",
       "    <tr>\n",
       "      <th>3</th>\n",
       "      <td>18</td>\n",
       "      <td>1</td>\n",
       "      <td>2</td>\n",
       "      <td>Williams, Mr. Charles Eugene</td>\n",
       "      <td>male</td>\n",
       "      <td>NaN</td>\n",
       "      <td>0</td>\n",
       "      <td>0</td>\n",
       "      <td>244373</td>\n",
       "      <td>13.0000</td>\n",
       "      <td>NaN</td>\n",
       "      <td>S</td>\n",
       "    </tr>\n",
       "    <tr>\n",
       "      <th>4</th>\n",
       "      <td>21</td>\n",
       "      <td>0</td>\n",
       "      <td>2</td>\n",
       "      <td>Fynney, Mr. Joseph J</td>\n",
       "      <td>male</td>\n",
       "      <td>35.0</td>\n",
       "      <td>0</td>\n",
       "      <td>0</td>\n",
       "      <td>239865</td>\n",
       "      <td>26.0000</td>\n",
       "      <td>NaN</td>\n",
       "      <td>S</td>\n",
       "    </tr>\n",
       "    <tr>\n",
       "      <th>...</th>\n",
       "      <td>...</td>\n",
       "      <td>...</td>\n",
       "      <td>...</td>\n",
       "      <td>...</td>\n",
       "      <td>...</td>\n",
       "      <td>...</td>\n",
       "      <td>...</td>\n",
       "      <td>...</td>\n",
       "      <td>...</td>\n",
       "      <td>...</td>\n",
       "      <td>...</td>\n",
       "      <td>...</td>\n",
       "    </tr>\n",
       "    <tr>\n",
       "      <th>301</th>\n",
       "      <td>875</td>\n",
       "      <td>1</td>\n",
       "      <td>2</td>\n",
       "      <td>Abelson, Mrs. Samuel (Hannah Wizosky)</td>\n",
       "      <td>female</td>\n",
       "      <td>28.0</td>\n",
       "      <td>1</td>\n",
       "      <td>0</td>\n",
       "      <td>P/PP 3381</td>\n",
       "      <td>24.0000</td>\n",
       "      <td>NaN</td>\n",
       "      <td>C</td>\n",
       "    </tr>\n",
       "    <tr>\n",
       "      <th>302</th>\n",
       "      <td>881</td>\n",
       "      <td>1</td>\n",
       "      <td>2</td>\n",
       "      <td>Shelley, Mrs. William (Imanita Parrish Hall)</td>\n",
       "      <td>female</td>\n",
       "      <td>25.0</td>\n",
       "      <td>0</td>\n",
       "      <td>1</td>\n",
       "      <td>230433</td>\n",
       "      <td>26.0000</td>\n",
       "      <td>NaN</td>\n",
       "      <td>S</td>\n",
       "    </tr>\n",
       "    <tr>\n",
       "      <th>303</th>\n",
       "      <td>884</td>\n",
       "      <td>0</td>\n",
       "      <td>2</td>\n",
       "      <td>Banfield, Mr. Frederick James</td>\n",
       "      <td>male</td>\n",
       "      <td>28.0</td>\n",
       "      <td>0</td>\n",
       "      <td>0</td>\n",
       "      <td>C.A./SOTON 34068</td>\n",
       "      <td>10.5000</td>\n",
       "      <td>NaN</td>\n",
       "      <td>S</td>\n",
       "    </tr>\n",
       "    <tr>\n",
       "      <th>304</th>\n",
       "      <td>887</td>\n",
       "      <td>0</td>\n",
       "      <td>2</td>\n",
       "      <td>Montvila, Rev. Juozas</td>\n",
       "      <td>male</td>\n",
       "      <td>27.0</td>\n",
       "      <td>0</td>\n",
       "      <td>0</td>\n",
       "      <td>211536</td>\n",
       "      <td>13.0000</td>\n",
       "      <td>NaN</td>\n",
       "      <td>S</td>\n",
       "    </tr>\n",
       "    <tr>\n",
       "      <th>305</th>\n",
       "      <td>890</td>\n",
       "      <td>1</td>\n",
       "      <td>1</td>\n",
       "      <td>Behr, Mr. Karl Howell</td>\n",
       "      <td>male</td>\n",
       "      <td>26.0</td>\n",
       "      <td>0</td>\n",
       "      <td>0</td>\n",
       "      <td>111369</td>\n",
       "      <td>30.0000</td>\n",
       "      <td>C148</td>\n",
       "      <td>C</td>\n",
       "    </tr>\n",
       "  </tbody>\n",
       "</table>\n",
       "<p>306 rows × 12 columns</p>\n",
       "</div>"
      ],
      "text/plain": [
       "     PassengerId  Survived  Pclass  \\\n",
       "0              7         0       1   \n",
       "1             10         1       2   \n",
       "2             16         1       2   \n",
       "3             18         1       2   \n",
       "4             21         0       2   \n",
       "..           ...       ...     ...   \n",
       "301          875         1       2   \n",
       "302          881         1       2   \n",
       "303          884         0       2   \n",
       "304          887         0       2   \n",
       "305          890         1       1   \n",
       "\n",
       "                                             Name     Sex   Age  SibSp  Parch  \\\n",
       "0                         McCarthy, Mr. Timothy J    male  54.0      0      0   \n",
       "1             Nasser, Mrs. Nicholas (Adele Achem)  female  14.0      1      0   \n",
       "2                Hewlett, Mrs. (Mary D Kingcome)   female  55.0      0      0   \n",
       "3                    Williams, Mr. Charles Eugene    male   NaN      0      0   \n",
       "4                            Fynney, Mr. Joseph J    male  35.0      0      0   \n",
       "..                                            ...     ...   ...    ...    ...   \n",
       "301         Abelson, Mrs. Samuel (Hannah Wizosky)  female  28.0      1      0   \n",
       "302  Shelley, Mrs. William (Imanita Parrish Hall)  female  25.0      0      1   \n",
       "303                 Banfield, Mr. Frederick James    male  28.0      0      0   \n",
       "304                         Montvila, Rev. Juozas    male  27.0      0      0   \n",
       "305                         Behr, Mr. Karl Howell    male  26.0      0      0   \n",
       "\n",
       "               Ticket     Fare Cabin Embarked  \n",
       "0               17463  51.8625   E46        S  \n",
       "1              237736  30.0708   NaN        C  \n",
       "2              248706  16.0000   NaN        S  \n",
       "3              244373  13.0000   NaN        S  \n",
       "4              239865  26.0000   NaN        S  \n",
       "..                ...      ...   ...      ...  \n",
       "301         P/PP 3381  24.0000   NaN        C  \n",
       "302            230433  26.0000   NaN        S  \n",
       "303  C.A./SOTON 34068  10.5000   NaN        S  \n",
       "304            211536  13.0000   NaN        S  \n",
       "305            111369  30.0000  C148        C  \n",
       "\n",
       "[306 rows x 12 columns]"
      ]
     },
     "execution_count": 195,
     "metadata": {},
     "output_type": "execute_result"
    }
   ],
   "source": [
    "client_a = client.ClientA()\n",
    "client_a.data.load_raw_data()"
   ]
  },
  {
   "cell_type": "markdown",
   "id": "ed33348a-4904-40c3-b59d-9942bd1c93c1",
   "metadata": {},
   "source": [
    "## Load data\n",
    "Observe:\n",
    "- df_b has a pred column, df_a and df_test do not\n",
    "- check if formatting is equivalent:\n",
    "   - ticket naming format differs per dataset\n",
    "   - age has unrealistic values - babies? Check if they have parents\n",
    "- feature extraction\n"
   ]
  },
  {
   "cell_type": "code",
   "execution_count": null,
   "id": "5846f9ae-0de7-47ca-a0b5-0dcf816ab486",
   "metadata": {},
   "outputs": [],
   "source": [
    "# preprocess.create_train_test_data(test_size=0.2)"
   ]
  },
  {
   "cell_type": "code",
   "execution_count": 172,
   "id": "2c36ac92-9677-4390-b632-6620c45a189c",
   "metadata": {},
   "outputs": [],
   "source": [
    "df_train_a, df_train_b = preprocess.load_train_data()\n",
    "df_test_a, df_test_b = preprocess.load_test_data()"
   ]
  },
  {
   "cell_type": "code",
   "execution_count": 174,
   "id": "fbe152b8-8760-4d3f-855f-a880838a1388",
   "metadata": {},
   "outputs": [],
   "source": [
    "X_train_a, y_train_a = preprocess.split_x_y(df_train_a)\n",
    "X_train_b, y_train_b = preprocess.split_x_y(df_train_b)\n",
    "X_test_a, y_test_a = preprocess.split_x_y(df_test_a)\n",
    "X_test_b, y_test_b = preprocess.split_x_y(df_test_b)"
   ]
  },
  {
   "cell_type": "markdown",
   "id": "25489b9f-12e7-4d14-b1bb-37fe8ead12ac",
   "metadata": {},
   "source": [
    "First all clients need to communicate all categories they have in each of their nominal features to ensure that these can be taken into account during one-hot-encoding."
   ]
  },
  {
   "cell_type": "code",
   "execution_count": 167,
   "id": "497f00f9-ff4f-4573-9f66-74f9f33b57b7",
   "metadata": {},
   "outputs": [],
   "source": [
    "categories_a = get_categories(df_a, config.FEATURES_NOMINAL)\n",
    "categories_b = get_categories(df_b, config.FEATURES_NOMINAL)\n",
    "categories_global = categories_a + categories_b"
   ]
  },
  {
   "cell_type": "code",
   "execution_count": 185,
   "id": "2075ef14-e21c-41f1-b0c0-788d3413fbb8",
   "metadata": {},
   "outputs": [
    {
     "name": "stdout",
     "output_type": "stream",
     "text": [
      "Unexpected exception formatting exception. Falling back to standard exception\n"
     ]
    },
    {
     "name": "stderr",
     "output_type": "stream",
     "text": [
      "Traceback (most recent call last):\n",
      "  File \"C:\\Users\\dkn1904.51564\\Miniconda3\\envs\\fl_titanic\\lib\\site-packages\\IPython\\core\\interactiveshell.py\", line 3433, in run_code\n",
      "    exec(code_obj, self.user_global_ns, self.user_ns)\n",
      "  File \"C:\\Users\\dkn1904.51564\\AppData\\Local\\Temp\\ipykernel_15992\\3875952147.py\", line 25, in <module>\n",
      "    cu.fit(X_train, y_train)\n",
      "  File \"C:\\projects\\side_projects\\fl_titanic\\src\\client.py\", line 40, in fit\n",
      "    X = self._apply_transformers(X, y)\n",
      "  File \"C:\\projects\\side_projects\\fl_titanic\\src\\client.py\", line 76, in _apply_transformers\n",
      "    if check_is_fitted(transformers):\n",
      "  File \"C:\\Users\\dkn1904.51564\\Miniconda3\\envs\\fl_titanic\\lib\\site-packages\\sklearn\\utils\\validation.py\", line 1345, in check_is_fitted\n",
      "    raise NotFittedError(msg % {\"name\": type(estimator).__name__})\n",
      "sklearn.exceptions.NotFittedError: This Pipeline instance is not fitted yet. Call 'fit' with appropriate arguments before using this estimator.\n",
      "\n",
      "During handling of the above exception, another exception occurred:\n",
      "\n",
      "Traceback (most recent call last):\n",
      "  File \"C:\\Users\\dkn1904.51564\\Miniconda3\\envs\\fl_titanic\\lib\\site-packages\\IPython\\core\\interactiveshell.py\", line 2052, in showtraceback\n",
      "    stb = self.InteractiveTB.structured_traceback(\n",
      "  File \"C:\\Users\\dkn1904.51564\\Miniconda3\\envs\\fl_titanic\\lib\\site-packages\\IPython\\core\\ultratb.py\", line 1112, in structured_traceback\n",
      "    return FormattedTB.structured_traceback(\n",
      "  File \"C:\\Users\\dkn1904.51564\\Miniconda3\\envs\\fl_titanic\\lib\\site-packages\\IPython\\core\\ultratb.py\", line 1006, in structured_traceback\n",
      "    return VerboseTB.structured_traceback(\n",
      "  File \"C:\\Users\\dkn1904.51564\\Miniconda3\\envs\\fl_titanic\\lib\\site-packages\\IPython\\core\\ultratb.py\", line 859, in structured_traceback\n",
      "    formatted_exception = self.format_exception_as_a_whole(etype, evalue, etb, number_of_lines_of_context,\n",
      "  File \"C:\\Users\\dkn1904.51564\\Miniconda3\\envs\\fl_titanic\\lib\\site-packages\\IPython\\core\\ultratb.py\", line 812, in format_exception_as_a_whole\n",
      "    frames.append(self.format_record(r))\n",
      "  File \"C:\\Users\\dkn1904.51564\\Miniconda3\\envs\\fl_titanic\\lib\\site-packages\\IPython\\core\\ultratb.py\", line 730, in format_record\n",
      "    result += ''.join(_format_traceback_lines(frame_info.lines, Colors, self.has_colors, lvals))\n",
      "  File \"C:\\Users\\dkn1904.51564\\Miniconda3\\envs\\fl_titanic\\lib\\site-packages\\stack_data\\utils.py\", line 145, in cached_property_wrapper\n",
      "    value = obj.__dict__[self.func.__name__] = self.func(obj)\n",
      "  File \"C:\\Users\\dkn1904.51564\\Miniconda3\\envs\\fl_titanic\\lib\\site-packages\\stack_data\\core.py\", line 698, in lines\n",
      "    pieces = self.included_pieces\n",
      "  File \"C:\\Users\\dkn1904.51564\\Miniconda3\\envs\\fl_titanic\\lib\\site-packages\\stack_data\\utils.py\", line 145, in cached_property_wrapper\n",
      "    value = obj.__dict__[self.func.__name__] = self.func(obj)\n",
      "  File \"C:\\Users\\dkn1904.51564\\Miniconda3\\envs\\fl_titanic\\lib\\site-packages\\stack_data\\core.py\", line 649, in included_pieces\n",
      "    pos = scope_pieces.index(self.executing_piece)\n",
      "  File \"C:\\Users\\dkn1904.51564\\Miniconda3\\envs\\fl_titanic\\lib\\site-packages\\stack_data\\utils.py\", line 145, in cached_property_wrapper\n",
      "    value = obj.__dict__[self.func.__name__] = self.func(obj)\n",
      "  File \"C:\\Users\\dkn1904.51564\\Miniconda3\\envs\\fl_titanic\\lib\\site-packages\\stack_data\\core.py\", line 628, in executing_piece\n",
      "    return only(\n",
      "  File \"C:\\Users\\dkn1904.51564\\Miniconda3\\envs\\fl_titanic\\lib\\site-packages\\executing\\executing.py\", line 164, in only\n",
      "    raise NotOneValueFound('Expected one value, found 0')\n",
      "executing.executing.NotOneValueFound: Expected one value, found 0\n"
     ]
    }
   ],
   "source": [
    "n_iter_avg = 100\n",
    "n_iter_local = 50\n",
    "batch_size = 50\n",
    "\n",
    "clients = {\n",
    "    'A': {'train_data': df_train_a, 'test_data': df_test_a},\n",
    "    'B': {'train_data': df_train_b, 'test_data': df_test_b}\n",
    "} \n",
    "train_datasets = [df_train_a, df_train_b]\n",
    "test_datasets = [df_test_a, df_test_b]\n",
    "\n",
    "pipeline = model.get_standard_pipeline(categories=categories_global)\n",
    "\n",
    "scores = {}\n",
    "\n",
    "clf_local = {}\n",
    "for iter_avg in range(n_iter_avg):\n",
    "    \n",
    "    # train local models at each client\n",
    "    for client_name, datasets in clients.items():\n",
    "        X_train, y_train = preprocess.split_x_y(datasets['train_data'])\n",
    "        X_test, y_test = preprocess.split_x_y(datasets['test_data'])\n",
    "\n",
    "        cu = client.ClientUpdate(pipeline, n_epochs=n_iter_local, batch_size=batch_size)\n",
    "        cu.fit(X_train, y_train)\n",
    "\n",
    "        clf_local[client_name] = cu.clf\n",
    "        \n",
    "        # store score after updating models\n",
    "        clf_local[client_name].score(X_test, y_test)\n",
    "        \n",
    "    clf_global = server.FedAvg(clf_local)\n",
    "    "
   ]
  },
  {
   "cell_type": "markdown",
   "id": "8955c58b-8d6b-478f-bb68-9535557b6e79",
   "metadata": {},
   "source": [
    "## Train model"
   ]
  },
  {
   "cell_type": "code",
   "execution_count": 7,
   "id": "ab34df7a-58fb-40da-91ff-c26810c81d86",
   "metadata": {},
   "outputs": [],
   "source": [
    "from sklearn.linear_model import SGDClassifier\n",
    "from sklearn.model_selection import train_test_split"
   ]
  },
  {
   "cell_type": "code",
   "execution_count": 8,
   "id": "6de908ad-7b4d-4dff-99e7-b4b2b77d6ad0",
   "metadata": {},
   "outputs": [],
   "source": [
    "FEATURES_NUMERIC = ['Pclass', 'Age', 'SibSp', 'Parch', 'Survived']"
   ]
  },
  {
   "cell_type": "code",
   "execution_count": 16,
   "id": "9caf6f6d-d9f4-487a-9679-0af650f0d223",
   "metadata": {},
   "outputs": [
    {
     "data": {
      "text/html": [
       "<div>\n",
       "<style scoped>\n",
       "    .dataframe tbody tr th:only-of-type {\n",
       "        vertical-align: middle;\n",
       "    }\n",
       "\n",
       "    .dataframe tbody tr th {\n",
       "        vertical-align: top;\n",
       "    }\n",
       "\n",
       "    .dataframe thead th {\n",
       "        text-align: right;\n",
       "    }\n",
       "</style>\n",
       "<table border=\"1\" class=\"dataframe\">\n",
       "  <thead>\n",
       "    <tr style=\"text-align: right;\">\n",
       "      <th></th>\n",
       "      <th>PassengerId</th>\n",
       "      <th>Survived</th>\n",
       "      <th>Pclass</th>\n",
       "      <th>Name</th>\n",
       "      <th>Sex</th>\n",
       "      <th>Age</th>\n",
       "      <th>SibSp</th>\n",
       "      <th>Parch</th>\n",
       "      <th>Ticket</th>\n",
       "      <th>Fare</th>\n",
       "      <th>Cabin</th>\n",
       "      <th>Embarked</th>\n",
       "    </tr>\n",
       "  </thead>\n",
       "  <tbody>\n",
       "    <tr>\n",
       "      <th>0</th>\n",
       "      <td>7</td>\n",
       "      <td>0</td>\n",
       "      <td>1</td>\n",
       "      <td>McCarthy, Mr. Timothy J</td>\n",
       "      <td>male</td>\n",
       "      <td>54.0</td>\n",
       "      <td>0</td>\n",
       "      <td>0</td>\n",
       "      <td>17463</td>\n",
       "      <td>51.8625</td>\n",
       "      <td>E46</td>\n",
       "      <td>S</td>\n",
       "    </tr>\n",
       "    <tr>\n",
       "      <th>1</th>\n",
       "      <td>10</td>\n",
       "      <td>1</td>\n",
       "      <td>2</td>\n",
       "      <td>Nasser, Mrs. Nicholas (Adele Achem)</td>\n",
       "      <td>female</td>\n",
       "      <td>14.0</td>\n",
       "      <td>1</td>\n",
       "      <td>0</td>\n",
       "      <td>237736</td>\n",
       "      <td>30.0708</td>\n",
       "      <td>NaN</td>\n",
       "      <td>C</td>\n",
       "    </tr>\n",
       "    <tr>\n",
       "      <th>2</th>\n",
       "      <td>16</td>\n",
       "      <td>1</td>\n",
       "      <td>2</td>\n",
       "      <td>Hewlett, Mrs. (Mary D Kingcome)</td>\n",
       "      <td>female</td>\n",
       "      <td>55.0</td>\n",
       "      <td>0</td>\n",
       "      <td>0</td>\n",
       "      <td>248706</td>\n",
       "      <td>16.0000</td>\n",
       "      <td>NaN</td>\n",
       "      <td>S</td>\n",
       "    </tr>\n",
       "    <tr>\n",
       "      <th>3</th>\n",
       "      <td>18</td>\n",
       "      <td>1</td>\n",
       "      <td>2</td>\n",
       "      <td>Williams, Mr. Charles Eugene</td>\n",
       "      <td>male</td>\n",
       "      <td>NaN</td>\n",
       "      <td>0</td>\n",
       "      <td>0</td>\n",
       "      <td>244373</td>\n",
       "      <td>13.0000</td>\n",
       "      <td>NaN</td>\n",
       "      <td>S</td>\n",
       "    </tr>\n",
       "    <tr>\n",
       "      <th>4</th>\n",
       "      <td>21</td>\n",
       "      <td>0</td>\n",
       "      <td>2</td>\n",
       "      <td>Fynney, Mr. Joseph J</td>\n",
       "      <td>male</td>\n",
       "      <td>35.0</td>\n",
       "      <td>0</td>\n",
       "      <td>0</td>\n",
       "      <td>239865</td>\n",
       "      <td>26.0000</td>\n",
       "      <td>NaN</td>\n",
       "      <td>S</td>\n",
       "    </tr>\n",
       "  </tbody>\n",
       "</table>\n",
       "</div>"
      ],
      "text/plain": [
       "   PassengerId  Survived  Pclass                                 Name     Sex  \\\n",
       "0            7         0       1              McCarthy, Mr. Timothy J    male   \n",
       "1           10         1       2  Nasser, Mrs. Nicholas (Adele Achem)  female   \n",
       "2           16         1       2     Hewlett, Mrs. (Mary D Kingcome)   female   \n",
       "3           18         1       2         Williams, Mr. Charles Eugene    male   \n",
       "4           21         0       2                 Fynney, Mr. Joseph J    male   \n",
       "\n",
       "    Age  SibSp  Parch  Ticket     Fare Cabin Embarked  \n",
       "0  54.0      0      0   17463  51.8625   E46        S  \n",
       "1  14.0      1      0  237736  30.0708   NaN        C  \n",
       "2  55.0      0      0  248706  16.0000   NaN        S  \n",
       "3   NaN      0      0  244373  13.0000   NaN        S  \n",
       "4  35.0      0      0  239865  26.0000   NaN        S  "
      ]
     },
     "execution_count": 16,
     "metadata": {},
     "output_type": "execute_result"
    }
   ],
   "source": [
    "df_a.head()"
   ]
  },
  {
   "cell_type": "code",
   "execution_count": 105,
   "id": "78b97ec3-5f29-4f65-8ce0-ff5471f5d6af",
   "metadata": {},
   "outputs": [],
   "source": [
    "df = df_a.dropna()\n",
    "y = df['Survived']\n",
    "X = df.drop(columns='Survived')\n",
    "X_train, X_test, y_train, y_test = train_test_split(X, y, test_size=0.2, stratify=y, random_state=config.RANDOM_STATE)\n"
   ]
  },
  {
   "cell_type": "code",
   "execution_count": 132,
   "id": "d4ea8fad-d9a7-43c4-8d67-fce7bd72f950",
   "metadata": {},
   "outputs": [
    {
     "data": {
      "text/plain": [
       "array([[  0.    ,   1.    ,   0.    , ...,   0.    ,  18.    , 108.9   ],\n",
       "       [  0.    ,   1.    ,   0.    , ...,   0.    ,  35.    ,  26.2875],\n",
       "       [  0.    ,   1.    ,   0.    , ...,   0.    ,  35.    , 512.3292],\n",
       "       ...,\n",
       "       [  0.    ,   1.    ,   0.    , ...,   0.    ,  26.    ,  30.    ],\n",
       "       [  0.    ,   1.    ,   0.    , ...,   0.    ,  19.    ,  53.1   ],\n",
       "       [  0.    ,   1.    ,   0.    , ...,   0.    ,  31.    ,  50.4958]])"
      ]
     },
     "execution_count": 132,
     "metadata": {},
     "output_type": "execute_result"
    }
   ],
   "source": [
    "gp = preprocess.GenericPreprocessor()\n",
    "gp.fit_transform(X_train, y_train)"
   ]
  },
  {
   "cell_type": "code",
   "execution_count": 122,
   "id": "69e5c198-26e9-427b-87f1-eb57310a8c45",
   "metadata": {},
   "outputs": [
    {
     "data": {
      "text/html": [
       "<div>\n",
       "<style scoped>\n",
       "    .dataframe tbody tr th:only-of-type {\n",
       "        vertical-align: middle;\n",
       "    }\n",
       "\n",
       "    .dataframe tbody tr th {\n",
       "        vertical-align: top;\n",
       "    }\n",
       "\n",
       "    .dataframe thead th {\n",
       "        text-align: right;\n",
       "    }\n",
       "</style>\n",
       "<table border=\"1\" class=\"dataframe\">\n",
       "  <thead>\n",
       "    <tr style=\"text-align: right;\">\n",
       "      <th></th>\n",
       "      <th>PassengerId</th>\n",
       "      <th>Pclass</th>\n",
       "      <th>Name</th>\n",
       "      <th>Sex</th>\n",
       "      <th>Age</th>\n",
       "      <th>SibSp</th>\n",
       "      <th>Parch</th>\n",
       "      <th>Ticket</th>\n",
       "      <th>Fare</th>\n",
       "      <th>Cabin</th>\n",
       "      <th>Embarked</th>\n",
       "    </tr>\n",
       "  </thead>\n",
       "  <tbody>\n",
       "    <tr>\n",
       "      <th>170</th>\n",
       "      <td>506</td>\n",
       "      <td>1</td>\n",
       "      <td>Penasco y Castellana, Mr. Victor de Satode</td>\n",
       "      <td>male</td>\n",
       "      <td>18.0</td>\n",
       "      <td>1</td>\n",
       "      <td>0</td>\n",
       "      <td>PC 17758</td>\n",
       "      <td>108.9000</td>\n",
       "      <td>C65</td>\n",
       "      <td>C</td>\n",
       "    </tr>\n",
       "    <tr>\n",
       "      <th>244</th>\n",
       "      <td>702</td>\n",
       "      <td>1</td>\n",
       "      <td>Silverthorne, Mr. Spencer Victor</td>\n",
       "      <td>male</td>\n",
       "      <td>35.0</td>\n",
       "      <td>0</td>\n",
       "      <td>0</td>\n",
       "      <td>PC 17475</td>\n",
       "      <td>26.2875</td>\n",
       "      <td>E24</td>\n",
       "      <td>S</td>\n",
       "    </tr>\n",
       "    <tr>\n",
       "      <th>261</th>\n",
       "      <td>738</td>\n",
       "      <td>1</td>\n",
       "      <td>Lesurer, Mr. Gustave J</td>\n",
       "      <td>male</td>\n",
       "      <td>35.0</td>\n",
       "      <td>0</td>\n",
       "      <td>0</td>\n",
       "      <td>PC 17755</td>\n",
       "      <td>512.3292</td>\n",
       "      <td>B101</td>\n",
       "      <td>C</td>\n",
       "    </tr>\n",
       "    <tr>\n",
       "      <th>29</th>\n",
       "      <td>98</td>\n",
       "      <td>1</td>\n",
       "      <td>Greenfield, Mr. William Bertram</td>\n",
       "      <td>male</td>\n",
       "      <td>23.0</td>\n",
       "      <td>0</td>\n",
       "      <td>1</td>\n",
       "      <td>PC 17759</td>\n",
       "      <td>63.3583</td>\n",
       "      <td>D10 D12</td>\n",
       "      <td>C</td>\n",
       "    </tr>\n",
       "    <tr>\n",
       "      <th>5</th>\n",
       "      <td>22</td>\n",
       "      <td>2</td>\n",
       "      <td>Beesley, Mr. Lawrence</td>\n",
       "      <td>male</td>\n",
       "      <td>34.0</td>\n",
       "      <td>0</td>\n",
       "      <td>0</td>\n",
       "      <td>248698</td>\n",
       "      <td>13.0000</td>\n",
       "      <td>D56</td>\n",
       "      <td>S</td>\n",
       "    </tr>\n",
       "  </tbody>\n",
       "</table>\n",
       "</div>"
      ],
      "text/plain": [
       "     PassengerId  Pclass                                        Name   Sex  \\\n",
       "170          506       1  Penasco y Castellana, Mr. Victor de Satode  male   \n",
       "244          702       1            Silverthorne, Mr. Spencer Victor  male   \n",
       "261          738       1                      Lesurer, Mr. Gustave J  male   \n",
       "29            98       1             Greenfield, Mr. William Bertram  male   \n",
       "5             22       2                       Beesley, Mr. Lawrence  male   \n",
       "\n",
       "      Age  SibSp  Parch    Ticket      Fare    Cabin Embarked  \n",
       "170  18.0      1      0  PC 17758  108.9000      C65        C  \n",
       "244  35.0      0      0  PC 17475   26.2875      E24        S  \n",
       "261  35.0      0      0  PC 17755  512.3292     B101        C  \n",
       "29   23.0      0      1  PC 17759   63.3583  D10 D12        C  \n",
       "5    34.0      0      0    248698   13.0000      D56        S  "
      ]
     },
     "execution_count": 122,
     "metadata": {},
     "output_type": "execute_result"
    }
   ],
   "source": [
    "X_train.head()"
   ]
  },
  {
   "cell_type": "code",
   "execution_count": 153,
   "id": "d7ec6c47-7d9a-460e-a4af-8a7168fadd8a",
   "metadata": {},
   "outputs": [
    {
     "data": {
      "text/plain": [
       "0.65"
      ]
     },
     "execution_count": 153,
     "metadata": {},
     "output_type": "execute_result"
    }
   ],
   "source": [
    "clf = model.get_standard_pipeline()\n",
    "clf.fit(X_train, y_train)\n",
    "\n",
    "clf.score(X_test, y_test)"
   ]
  },
  {
   "cell_type": "code",
   "execution_count": 154,
   "id": "ca406842-5f81-4881-a64d-4d514289f4ea",
   "metadata": {},
   "outputs": [
    {
     "data": {
      "text/plain": [
       "array([[ 5.31407398e+00, -5.31407398e+00, -1.35531728e+01,\n",
       "         1.28641641e+01,  3.43135748e+01, -1.46468982e+01,\n",
       "         8.69890283e+00, -8.81250752e+00, -4.41897080e+00,\n",
       "         2.17473828e+01, -1.74697292e+00,  1.75036483e+00,\n",
       "        -4.31293240e+00, -6.90180620e-05, -1.89721644e+00,\n",
       "        -8.14680372e+00,  8.82777754e+00,  9.35007179e+00,\n",
       "        -2.65009743e+01, -1.22795821e+01, -1.73529973e+01,\n",
       "         2.65620525e+01,  1.33630777e+01, -8.81171359e+00,\n",
       "        -4.42871520e+00,  8.72647141e+00,  8.05220348e+00,\n",
       "        -1.38790190e+01,  1.76797289e+01, -1.78248032e+01,\n",
       "        -2.26247946e-01, -1.32240562e+01, -1.77293144e+01,\n",
       "         1.44312084e+01, -8.84508996e+00, -1.60579272e+01,\n",
       "        -7.19561126e+00, -6.63064147e+00, -4.27955166e+00,\n",
       "         8.24460796e+00,  5.38402241e+00,  1.15717946e+01,\n",
       "         8.95027169e+00, -1.42519300e+01, -1.38799327e+01,\n",
       "         1.76593477e+01,  1.81164620e+01, -4.50431715e+00,\n",
       "        -4.41891304e+00,  8.83033316e+00,  8.83781826e+00,\n",
       "        -1.69547311e+01,  8.50186450e+00,  1.40500913e+01,\n",
       "         1.41048928e+01,  1.32926850e+01,  1.15987908e+01,\n",
       "        -8.84600187e+00, -4.41085339e+00, -4.40995573e+00,\n",
       "        -7.92638620e+00,  8.99263264e+00, -5.15671148e+00,\n",
       "        -4.88602466e+00, -7.55731099e+00, -1.76050414e+01,\n",
       "         4.41974217e+00, -1.26327499e+01,  4.61510567e+00,\n",
       "         1.08811642e+01, -4.51863155e+00,  4.97044531e+00,\n",
       "        -8.84508996e+00,  3.87464465e+00,  7.98218379e+00,\n",
       "        -1.14360920e-01, -4.42914536e+00, -9.09422276e+00,\n",
       "         1.22988152e+00]])"
      ]
     },
     "execution_count": 154,
     "metadata": {},
     "output_type": "execute_result"
    }
   ],
   "source": [
    "clf.named_steps['clf'].coef_"
   ]
  },
  {
   "cell_type": "code",
   "execution_count": 155,
   "id": "30b43394-0685-4379-99d9-7eb2f9ea4672",
   "metadata": {},
   "outputs": [
    {
     "data": {
      "text/html": [
       "<style>#sk-container-id-27 {color: black;background-color: white;}#sk-container-id-27 pre{padding: 0;}#sk-container-id-27 div.sk-toggleable {background-color: white;}#sk-container-id-27 label.sk-toggleable__label {cursor: pointer;display: block;width: 100%;margin-bottom: 0;padding: 0.3em;box-sizing: border-box;text-align: center;}#sk-container-id-27 label.sk-toggleable__label-arrow:before {content: \"▸\";float: left;margin-right: 0.25em;color: #696969;}#sk-container-id-27 label.sk-toggleable__label-arrow:hover:before {color: black;}#sk-container-id-27 div.sk-estimator:hover label.sk-toggleable__label-arrow:before {color: black;}#sk-container-id-27 div.sk-toggleable__content {max-height: 0;max-width: 0;overflow: hidden;text-align: left;background-color: #f0f8ff;}#sk-container-id-27 div.sk-toggleable__content pre {margin: 0.2em;color: black;border-radius: 0.25em;background-color: #f0f8ff;}#sk-container-id-27 input.sk-toggleable__control:checked~div.sk-toggleable__content {max-height: 200px;max-width: 100%;overflow: auto;}#sk-container-id-27 input.sk-toggleable__control:checked~label.sk-toggleable__label-arrow:before {content: \"▾\";}#sk-container-id-27 div.sk-estimator input.sk-toggleable__control:checked~label.sk-toggleable__label {background-color: #d4ebff;}#sk-container-id-27 div.sk-label input.sk-toggleable__control:checked~label.sk-toggleable__label {background-color: #d4ebff;}#sk-container-id-27 input.sk-hidden--visually {border: 0;clip: rect(1px 1px 1px 1px);clip: rect(1px, 1px, 1px, 1px);height: 1px;margin: -1px;overflow: hidden;padding: 0;position: absolute;width: 1px;}#sk-container-id-27 div.sk-estimator {font-family: monospace;background-color: #f0f8ff;border: 1px dotted black;border-radius: 0.25em;box-sizing: border-box;margin-bottom: 0.5em;}#sk-container-id-27 div.sk-estimator:hover {background-color: #d4ebff;}#sk-container-id-27 div.sk-parallel-item::after {content: \"\";width: 100%;border-bottom: 1px solid gray;flex-grow: 1;}#sk-container-id-27 div.sk-label:hover label.sk-toggleable__label {background-color: #d4ebff;}#sk-container-id-27 div.sk-serial::before {content: \"\";position: absolute;border-left: 1px solid gray;box-sizing: border-box;top: 0;bottom: 0;left: 50%;z-index: 0;}#sk-container-id-27 div.sk-serial {display: flex;flex-direction: column;align-items: center;background-color: white;padding-right: 0.2em;padding-left: 0.2em;position: relative;}#sk-container-id-27 div.sk-item {position: relative;z-index: 1;}#sk-container-id-27 div.sk-parallel {display: flex;align-items: stretch;justify-content: center;background-color: white;position: relative;}#sk-container-id-27 div.sk-item::before, #sk-container-id-27 div.sk-parallel-item::before {content: \"\";position: absolute;border-left: 1px solid gray;box-sizing: border-box;top: 0;bottom: 0;left: 50%;z-index: -1;}#sk-container-id-27 div.sk-parallel-item {display: flex;flex-direction: column;z-index: 1;position: relative;background-color: white;}#sk-container-id-27 div.sk-parallel-item:first-child::after {align-self: flex-end;width: 50%;}#sk-container-id-27 div.sk-parallel-item:last-child::after {align-self: flex-start;width: 50%;}#sk-container-id-27 div.sk-parallel-item:only-child::after {width: 0;}#sk-container-id-27 div.sk-dashed-wrapped {border: 1px dashed gray;margin: 0 0.4em 0.5em 0.4em;box-sizing: border-box;padding-bottom: 0.4em;background-color: white;}#sk-container-id-27 div.sk-label label {font-family: monospace;font-weight: bold;display: inline-block;line-height: 1.2em;}#sk-container-id-27 div.sk-label-container {text-align: center;}#sk-container-id-27 div.sk-container {/* jupyter's `normalize.less` sets `[hidden] { display: none; }` but bootstrap.min.css set `[hidden] { display: none !important; }` so we also need the `!important` here to be able to override the default hidden behavior on the sphinx rendered scikit-learn.org. See: https://github.com/scikit-learn/scikit-learn/issues/21755 */display: inline-block !important;position: relative;}#sk-container-id-27 div.sk-text-repr-fallback {display: none;}</style><div id=\"sk-container-id-27\" class=\"sk-top-container\"><div class=\"sk-text-repr-fallback\"><pre>ClientUpdate(batch_size=50,\n",
       "             clf=Pipeline(steps=[(&#x27;preprocess&#x27;, GenericPreprocessor()),\n",
       "                                 (&#x27;scale&#x27;, RobustScaler()),\n",
       "                                 (&#x27;clf&#x27;,\n",
       "                                  SGDClassifier(loss=&#x27;log_loss&#x27;,\n",
       "                                                random_state=42,\n",
       "                                                warm_start=True))]),\n",
       "             n_epochs=1000)</pre><b>In a Jupyter environment, please rerun this cell to show the HTML representation or trust the notebook. <br />On GitHub, the HTML representation is unable to render, please try loading this page with nbviewer.org.</b></div><div class=\"sk-container\" hidden><div class=\"sk-item sk-dashed-wrapped\"><div class=\"sk-label-container\"><div class=\"sk-label sk-toggleable\"><input class=\"sk-toggleable__control sk-hidden--visually\" id=\"sk-estimator-id-85\" type=\"checkbox\" ><label for=\"sk-estimator-id-85\" class=\"sk-toggleable__label sk-toggleable__label-arrow\">ClientUpdate</label><div class=\"sk-toggleable__content\"><pre>ClientUpdate(batch_size=50,\n",
       "             clf=Pipeline(steps=[(&#x27;preprocess&#x27;, GenericPreprocessor()),\n",
       "                                 (&#x27;scale&#x27;, RobustScaler()),\n",
       "                                 (&#x27;clf&#x27;,\n",
       "                                  SGDClassifier(loss=&#x27;log_loss&#x27;,\n",
       "                                                random_state=42,\n",
       "                                                warm_start=True))]),\n",
       "             n_epochs=1000)</pre></div></div></div><div class=\"sk-parallel\"><div class=\"sk-parallel-item\"><div class=\"sk-item\"><div class=\"sk-label-container\"><div class=\"sk-label sk-toggleable\"><input class=\"sk-toggleable__control sk-hidden--visually\" id=\"sk-estimator-id-86\" type=\"checkbox\" ><label for=\"sk-estimator-id-86\" class=\"sk-toggleable__label sk-toggleable__label-arrow\">clf: Pipeline</label><div class=\"sk-toggleable__content\"><pre>Pipeline(steps=[(&#x27;preprocess&#x27;, GenericPreprocessor()),\n",
       "                (&#x27;scale&#x27;, RobustScaler()),\n",
       "                (&#x27;clf&#x27;,\n",
       "                 SGDClassifier(loss=&#x27;log_loss&#x27;, random_state=42,\n",
       "                               warm_start=True))])</pre></div></div></div><div class=\"sk-serial\"><div class=\"sk-item\"><div class=\"sk-serial\"><div class=\"sk-item\"><div class=\"sk-estimator sk-toggleable\"><input class=\"sk-toggleable__control sk-hidden--visually\" id=\"sk-estimator-id-87\" type=\"checkbox\" ><label for=\"sk-estimator-id-87\" class=\"sk-toggleable__label sk-toggleable__label-arrow\">GenericPreprocessor</label><div class=\"sk-toggleable__content\"><pre>GenericPreprocessor()</pre></div></div></div><div class=\"sk-item\"><div class=\"sk-estimator sk-toggleable\"><input class=\"sk-toggleable__control sk-hidden--visually\" id=\"sk-estimator-id-88\" type=\"checkbox\" ><label for=\"sk-estimator-id-88\" class=\"sk-toggleable__label sk-toggleable__label-arrow\">RobustScaler</label><div class=\"sk-toggleable__content\"><pre>RobustScaler()</pre></div></div></div><div class=\"sk-item\"><div class=\"sk-estimator sk-toggleable\"><input class=\"sk-toggleable__control sk-hidden--visually\" id=\"sk-estimator-id-89\" type=\"checkbox\" ><label for=\"sk-estimator-id-89\" class=\"sk-toggleable__label sk-toggleable__label-arrow\">SGDClassifier</label><div class=\"sk-toggleable__content\"><pre>SGDClassifier(loss=&#x27;log_loss&#x27;, random_state=42, warm_start=True)</pre></div></div></div></div></div></div></div></div></div></div></div></div>"
      ],
      "text/plain": [
       "ClientUpdate(batch_size=50,\n",
       "             clf=Pipeline(steps=[('preprocess', GenericPreprocessor()),\n",
       "                                 ('scale', RobustScaler()),\n",
       "                                 ('clf',\n",
       "                                  SGDClassifier(loss='log_loss',\n",
       "                                                random_state=42,\n",
       "                                                warm_start=True))]),\n",
       "             n_epochs=1000)"
      ]
     },
     "execution_count": 155,
     "metadata": {},
     "output_type": "execute_result"
    }
   ],
   "source": [
    "cu = client.ClientUpdate(clf, n_epochs=1000, batch_size=50)\n",
    "cu.fit(X_train, y_train)"
   ]
  },
  {
   "cell_type": "code",
   "execution_count": null,
   "id": "81f2a05c-07f7-46a2-bc78-5d1a6b5662b6",
   "metadata": {},
   "outputs": [],
   "source": []
  },
  {
   "cell_type": "code",
   "execution_count": 156,
   "id": "7b76a6e6-77b2-41b8-8ffd-2adeb1c55d86",
   "metadata": {},
   "outputs": [
    {
     "data": {
      "text/plain": [
       "0.6"
      ]
     },
     "execution_count": 156,
     "metadata": {},
     "output_type": "execute_result"
    }
   ],
   "source": [
    "cu.clf.score(X_test, y_test)"
   ]
  },
  {
   "cell_type": "code",
   "execution_count": 79,
   "id": "d68b1352-41d7-4435-9a43-ac85a9995d66",
   "metadata": {},
   "outputs": [
    {
     "data": {
      "text/plain": [
       "array([[ 1.58759119,  4.15217548,  0.93052977, -0.3731832 ]])"
      ]
     },
     "execution_count": 79,
     "metadata": {},
     "output_type": "execute_result"
    }
   ],
   "source": [
    "pipeline.named_steps['clf'].coef_"
   ]
  },
  {
   "cell_type": "code",
   "execution_count": null,
   "id": "7c2b4960-c4e9-4be2-9b9b-faf175b69027",
   "metadata": {},
   "outputs": [],
   "source": [
    "pip"
   ]
  },
  {
   "cell_type": "code",
   "execution_count": 41,
   "id": "a447928e-3446-433d-938e-db7ced632130",
   "metadata": {},
   "outputs": [],
   "source": [
    "sgd = SGDClassifier(loss='log_loss', penalty='l2', random_state=config.RANDOM_STATE, warm_start=True)\n"
   ]
  },
  {
   "cell_type": "code",
   "execution_count": 25,
   "id": "7f3a8515-7783-439d-915f-391902a2feef",
   "metadata": {},
   "outputs": [
    {
     "data": {
      "text/html": [
       "<style>#sk-container-id-2 {color: black;background-color: white;}#sk-container-id-2 pre{padding: 0;}#sk-container-id-2 div.sk-toggleable {background-color: white;}#sk-container-id-2 label.sk-toggleable__label {cursor: pointer;display: block;width: 100%;margin-bottom: 0;padding: 0.3em;box-sizing: border-box;text-align: center;}#sk-container-id-2 label.sk-toggleable__label-arrow:before {content: \"▸\";float: left;margin-right: 0.25em;color: #696969;}#sk-container-id-2 label.sk-toggleable__label-arrow:hover:before {color: black;}#sk-container-id-2 div.sk-estimator:hover label.sk-toggleable__label-arrow:before {color: black;}#sk-container-id-2 div.sk-toggleable__content {max-height: 0;max-width: 0;overflow: hidden;text-align: left;background-color: #f0f8ff;}#sk-container-id-2 div.sk-toggleable__content pre {margin: 0.2em;color: black;border-radius: 0.25em;background-color: #f0f8ff;}#sk-container-id-2 input.sk-toggleable__control:checked~div.sk-toggleable__content {max-height: 200px;max-width: 100%;overflow: auto;}#sk-container-id-2 input.sk-toggleable__control:checked~label.sk-toggleable__label-arrow:before {content: \"▾\";}#sk-container-id-2 div.sk-estimator input.sk-toggleable__control:checked~label.sk-toggleable__label {background-color: #d4ebff;}#sk-container-id-2 div.sk-label input.sk-toggleable__control:checked~label.sk-toggleable__label {background-color: #d4ebff;}#sk-container-id-2 input.sk-hidden--visually {border: 0;clip: rect(1px 1px 1px 1px);clip: rect(1px, 1px, 1px, 1px);height: 1px;margin: -1px;overflow: hidden;padding: 0;position: absolute;width: 1px;}#sk-container-id-2 div.sk-estimator {font-family: monospace;background-color: #f0f8ff;border: 1px dotted black;border-radius: 0.25em;box-sizing: border-box;margin-bottom: 0.5em;}#sk-container-id-2 div.sk-estimator:hover {background-color: #d4ebff;}#sk-container-id-2 div.sk-parallel-item::after {content: \"\";width: 100%;border-bottom: 1px solid gray;flex-grow: 1;}#sk-container-id-2 div.sk-label:hover label.sk-toggleable__label {background-color: #d4ebff;}#sk-container-id-2 div.sk-serial::before {content: \"\";position: absolute;border-left: 1px solid gray;box-sizing: border-box;top: 0;bottom: 0;left: 50%;z-index: 0;}#sk-container-id-2 div.sk-serial {display: flex;flex-direction: column;align-items: center;background-color: white;padding-right: 0.2em;padding-left: 0.2em;position: relative;}#sk-container-id-2 div.sk-item {position: relative;z-index: 1;}#sk-container-id-2 div.sk-parallel {display: flex;align-items: stretch;justify-content: center;background-color: white;position: relative;}#sk-container-id-2 div.sk-item::before, #sk-container-id-2 div.sk-parallel-item::before {content: \"\";position: absolute;border-left: 1px solid gray;box-sizing: border-box;top: 0;bottom: 0;left: 50%;z-index: -1;}#sk-container-id-2 div.sk-parallel-item {display: flex;flex-direction: column;z-index: 1;position: relative;background-color: white;}#sk-container-id-2 div.sk-parallel-item:first-child::after {align-self: flex-end;width: 50%;}#sk-container-id-2 div.sk-parallel-item:last-child::after {align-self: flex-start;width: 50%;}#sk-container-id-2 div.sk-parallel-item:only-child::after {width: 0;}#sk-container-id-2 div.sk-dashed-wrapped {border: 1px dashed gray;margin: 0 0.4em 0.5em 0.4em;box-sizing: border-box;padding-bottom: 0.4em;background-color: white;}#sk-container-id-2 div.sk-label label {font-family: monospace;font-weight: bold;display: inline-block;line-height: 1.2em;}#sk-container-id-2 div.sk-label-container {text-align: center;}#sk-container-id-2 div.sk-container {/* jupyter's `normalize.less` sets `[hidden] { display: none; }` but bootstrap.min.css set `[hidden] { display: none !important; }` so we also need the `!important` here to be able to override the default hidden behavior on the sphinx rendered scikit-learn.org. See: https://github.com/scikit-learn/scikit-learn/issues/21755 */display: inline-block !important;position: relative;}#sk-container-id-2 div.sk-text-repr-fallback {display: none;}</style><div id=\"sk-container-id-2\" class=\"sk-top-container\"><div class=\"sk-text-repr-fallback\"><pre>SGDClassifier(loss=&#x27;log_loss&#x27;, random_state=42, warm_start=True)</pre><b>In a Jupyter environment, please rerun this cell to show the HTML representation or trust the notebook. <br />On GitHub, the HTML representation is unable to render, please try loading this page with nbviewer.org.</b></div><div class=\"sk-container\" hidden><div class=\"sk-item\"><div class=\"sk-estimator sk-toggleable\"><input class=\"sk-toggleable__control sk-hidden--visually\" id=\"sk-estimator-id-2\" type=\"checkbox\" checked><label for=\"sk-estimator-id-2\" class=\"sk-toggleable__label sk-toggleable__label-arrow\">SGDClassifier</label><div class=\"sk-toggleable__content\"><pre>SGDClassifier(loss=&#x27;log_loss&#x27;, random_state=42, warm_start=True)</pre></div></div></div></div></div>"
      ],
      "text/plain": [
       "SGDClassifier(loss='log_loss', random_state=42, warm_start=True)"
      ]
     },
     "execution_count": 25,
     "metadata": {},
     "output_type": "execute_result"
    }
   ],
   "source": [
    "sgd.fit(X, y)"
   ]
  },
  {
   "cell_type": "code",
   "execution_count": 48,
   "id": "822f35a0-7f20-440f-86d5-2ba260024a49",
   "metadata": {},
   "outputs": [
    {
     "data": {
      "text/html": [
       "<style>#sk-container-id-11 {color: black;background-color: white;}#sk-container-id-11 pre{padding: 0;}#sk-container-id-11 div.sk-toggleable {background-color: white;}#sk-container-id-11 label.sk-toggleable__label {cursor: pointer;display: block;width: 100%;margin-bottom: 0;padding: 0.3em;box-sizing: border-box;text-align: center;}#sk-container-id-11 label.sk-toggleable__label-arrow:before {content: \"▸\";float: left;margin-right: 0.25em;color: #696969;}#sk-container-id-11 label.sk-toggleable__label-arrow:hover:before {color: black;}#sk-container-id-11 div.sk-estimator:hover label.sk-toggleable__label-arrow:before {color: black;}#sk-container-id-11 div.sk-toggleable__content {max-height: 0;max-width: 0;overflow: hidden;text-align: left;background-color: #f0f8ff;}#sk-container-id-11 div.sk-toggleable__content pre {margin: 0.2em;color: black;border-radius: 0.25em;background-color: #f0f8ff;}#sk-container-id-11 input.sk-toggleable__control:checked~div.sk-toggleable__content {max-height: 200px;max-width: 100%;overflow: auto;}#sk-container-id-11 input.sk-toggleable__control:checked~label.sk-toggleable__label-arrow:before {content: \"▾\";}#sk-container-id-11 div.sk-estimator input.sk-toggleable__control:checked~label.sk-toggleable__label {background-color: #d4ebff;}#sk-container-id-11 div.sk-label input.sk-toggleable__control:checked~label.sk-toggleable__label {background-color: #d4ebff;}#sk-container-id-11 input.sk-hidden--visually {border: 0;clip: rect(1px 1px 1px 1px);clip: rect(1px, 1px, 1px, 1px);height: 1px;margin: -1px;overflow: hidden;padding: 0;position: absolute;width: 1px;}#sk-container-id-11 div.sk-estimator {font-family: monospace;background-color: #f0f8ff;border: 1px dotted black;border-radius: 0.25em;box-sizing: border-box;margin-bottom: 0.5em;}#sk-container-id-11 div.sk-estimator:hover {background-color: #d4ebff;}#sk-container-id-11 div.sk-parallel-item::after {content: \"\";width: 100%;border-bottom: 1px solid gray;flex-grow: 1;}#sk-container-id-11 div.sk-label:hover label.sk-toggleable__label {background-color: #d4ebff;}#sk-container-id-11 div.sk-serial::before {content: \"\";position: absolute;border-left: 1px solid gray;box-sizing: border-box;top: 0;bottom: 0;left: 50%;z-index: 0;}#sk-container-id-11 div.sk-serial {display: flex;flex-direction: column;align-items: center;background-color: white;padding-right: 0.2em;padding-left: 0.2em;position: relative;}#sk-container-id-11 div.sk-item {position: relative;z-index: 1;}#sk-container-id-11 div.sk-parallel {display: flex;align-items: stretch;justify-content: center;background-color: white;position: relative;}#sk-container-id-11 div.sk-item::before, #sk-container-id-11 div.sk-parallel-item::before {content: \"\";position: absolute;border-left: 1px solid gray;box-sizing: border-box;top: 0;bottom: 0;left: 50%;z-index: -1;}#sk-container-id-11 div.sk-parallel-item {display: flex;flex-direction: column;z-index: 1;position: relative;background-color: white;}#sk-container-id-11 div.sk-parallel-item:first-child::after {align-self: flex-end;width: 50%;}#sk-container-id-11 div.sk-parallel-item:last-child::after {align-self: flex-start;width: 50%;}#sk-container-id-11 div.sk-parallel-item:only-child::after {width: 0;}#sk-container-id-11 div.sk-dashed-wrapped {border: 1px dashed gray;margin: 0 0.4em 0.5em 0.4em;box-sizing: border-box;padding-bottom: 0.4em;background-color: white;}#sk-container-id-11 div.sk-label label {font-family: monospace;font-weight: bold;display: inline-block;line-height: 1.2em;}#sk-container-id-11 div.sk-label-container {text-align: center;}#sk-container-id-11 div.sk-container {/* jupyter's `normalize.less` sets `[hidden] { display: none; }` but bootstrap.min.css set `[hidden] { display: none !important; }` so we also need the `!important` here to be able to override the default hidden behavior on the sphinx rendered scikit-learn.org. See: https://github.com/scikit-learn/scikit-learn/issues/21755 */display: inline-block !important;position: relative;}#sk-container-id-11 div.sk-text-repr-fallback {display: none;}</style><div id=\"sk-container-id-11\" class=\"sk-top-container\"><div class=\"sk-text-repr-fallback\"><pre>ClientUpdate(batch_size=50,\n",
       "             clf=SGDClassifier(loss=&#x27;log_loss&#x27;, random_state=42,\n",
       "                               warm_start=True),\n",
       "             n_epochs=1000)</pre><b>In a Jupyter environment, please rerun this cell to show the HTML representation or trust the notebook. <br />On GitHub, the HTML representation is unable to render, please try loading this page with nbviewer.org.</b></div><div class=\"sk-container\" hidden><div class=\"sk-item sk-dashed-wrapped\"><div class=\"sk-label-container\"><div class=\"sk-label sk-toggleable\"><input class=\"sk-toggleable__control sk-hidden--visually\" id=\"sk-estimator-id-27\" type=\"checkbox\" ><label for=\"sk-estimator-id-27\" class=\"sk-toggleable__label sk-toggleable__label-arrow\">ClientUpdate</label><div class=\"sk-toggleable__content\"><pre>ClientUpdate(batch_size=50,\n",
       "             clf=SGDClassifier(loss=&#x27;log_loss&#x27;, random_state=42,\n",
       "                               warm_start=True),\n",
       "             n_epochs=1000)</pre></div></div></div><div class=\"sk-parallel\"><div class=\"sk-parallel-item\"><div class=\"sk-item\"><div class=\"sk-label-container\"><div class=\"sk-label sk-toggleable\"><input class=\"sk-toggleable__control sk-hidden--visually\" id=\"sk-estimator-id-28\" type=\"checkbox\" ><label for=\"sk-estimator-id-28\" class=\"sk-toggleable__label sk-toggleable__label-arrow\">clf: SGDClassifier</label><div class=\"sk-toggleable__content\"><pre>SGDClassifier(loss=&#x27;log_loss&#x27;, random_state=42, warm_start=True)</pre></div></div></div><div class=\"sk-serial\"><div class=\"sk-item\"><div class=\"sk-estimator sk-toggleable\"><input class=\"sk-toggleable__control sk-hidden--visually\" id=\"sk-estimator-id-29\" type=\"checkbox\" ><label for=\"sk-estimator-id-29\" class=\"sk-toggleable__label sk-toggleable__label-arrow\">SGDClassifier</label><div class=\"sk-toggleable__content\"><pre>SGDClassifier(loss=&#x27;log_loss&#x27;, random_state=42, warm_start=True)</pre></div></div></div></div></div></div></div></div></div></div>"
      ],
      "text/plain": [
       "ClientUpdate(batch_size=50,\n",
       "             clf=SGDClassifier(loss='log_loss', random_state=42,\n",
       "                               warm_start=True),\n",
       "             n_epochs=1000)"
      ]
     },
     "execution_count": 48,
     "metadata": {},
     "output_type": "execute_result"
    }
   ],
   "source": [
    "cu = client.ClientUpdate(sgd, n_epochs=1000, batch_size=50)\n",
    "cu.fit(X, y)"
   ]
  },
  {
   "cell_type": "code",
   "execution_count": 49,
   "id": "667faf0c-d01b-462c-8c46-2c78201eaf09",
   "metadata": {},
   "outputs": [
    {
     "name": "stderr",
     "output_type": "stream",
     "text": [
      "C:\\Users\\dkn1904.51564\\Miniconda3\\envs\\fl_titanic\\lib\\site-packages\\sklearn\\base.py:443: UserWarning: X has feature names, but SGDClassifier was fitted without feature names\n",
      "  warnings.warn(\n"
     ]
    },
    {
     "data": {
      "text/plain": [
       "0.6204379562043796"
      ]
     },
     "execution_count": 49,
     "metadata": {},
     "output_type": "execute_result"
    }
   ],
   "source": [
    "cu.clf.score(X, y)"
   ]
  },
  {
   "cell_type": "code",
   "execution_count": 34,
   "id": "c2b16361-3911-4c81-8376-ee365bb8ebb2",
   "metadata": {},
   "outputs": [
    {
     "data": {
      "text/plain": [
       "array([[-8.64335706, -0.54599381, -0.83414205,  3.08034456]])"
      ]
     },
     "execution_count": 34,
     "metadata": {},
     "output_type": "execute_result"
    }
   ],
   "source": [
    "cu.clf.coef_"
   ]
  },
  {
   "cell_type": "code",
   "execution_count": 23,
   "id": "5553ac89-d052-4bff-899c-90eee2be57da",
   "metadata": {},
   "outputs": [
    {
     "data": {
      "text/plain": [
       "array([[ 15.92401529, -12.81639685,  26.56506051, 115.90625877]])"
      ]
     },
     "execution_count": 23,
     "metadata": {},
     "output_type": "execute_result"
    }
   ],
   "source": [
    "sgd.coef_"
   ]
  },
  {
   "cell_type": "code",
   "execution_count": null,
   "id": "4d215ecb-af2d-4208-b521-2986f147731f",
   "metadata": {},
   "outputs": [],
   "source": [
    "def "
   ]
  },
  {
   "cell_type": "markdown",
   "id": "2504bf5f-7688-4d8d-ac11-2366d26aed76",
   "metadata": {},
   "source": [
    "## Archive"
   ]
  },
  {
   "cell_type": "code",
   "execution_count": 35,
   "id": "9809f0c1-1970-47b5-a589-8c49ddc08555",
   "metadata": {},
   "outputs": [],
   "source": [
    "df_train = df_a[['Pclass', 'Age', 'SibSp', 'Parch', 'Survived']].dropna()\n",
    "y = np.array(df_train[['Survived']])\n",
    "X = np.array(df_train.drop(columns='Survived'))\n"
   ]
  },
  {
   "cell_type": "code",
   "execution_count": 33,
   "id": "88844865-fae4-48fe-afa6-3f7e4375692b",
   "metadata": {},
   "outputs": [
    {
     "data": {
      "text/plain": [
       "32"
      ]
     },
     "execution_count": 33,
     "metadata": {},
     "output_type": "execute_result"
    }
   ],
   "source": [
    "np.isnan(X).sum()"
   ]
  },
  {
   "cell_type": "code",
   "execution_count": 73,
   "id": "b206e38c-2ca6-48f5-9dbc-0453517fdce1",
   "metadata": {},
   "outputs": [
    {
     "data": {
      "text/plain": [
       "<__main__.LogiticRegression at 0x298b2cdc730>"
      ]
     },
     "execution_count": 73,
     "metadata": {},
     "output_type": "execute_result"
    }
   ],
   "source": [
    "class LogiticRegression():\n",
    "    def __init__(self, solver, threshold=0.5):\n",
    "        self.solver = solver\n",
    "        self.threshold=threshold\n",
    "    \n",
    "    def predict(self, X):\n",
    "        y_pred_proba = self.predict_proba(X.T)\n",
    "        y_pred = (y_pred_proba >= self.threshold).astype(int)\n",
    "        return y_pred\n",
    "        \n",
    "    \n",
    "    def predict_proba(self, X):\n",
    "        return self._sigmoid(np.dot(self.coef_.T, X) + self.intercept_)\n",
    "    \n",
    "    def fit(self, X, y):\n",
    "        # init coef and intercept\n",
    "        self.coef_ = np.zeros_like(X[0])\n",
    "        self.intercept_ = 0\n",
    "        \n",
    "        solver.train(self, X, y)\n",
    "        return self\n",
    "    \n",
    "    def _sigmoid(self, z):\n",
    "        \"\"\"Convert prediction to binary class\"\"\"\n",
    "        sig = 1/(1+np.exp(-z))\n",
    "        return sig\n",
    "\n",
    "        \n",
    "\n",
    "class SGD():\n",
    "    def __init__(self, epochs, learning_rate):\n",
    "        self.epochs = epochs\n",
    "        self.learning_rate = learning_rate\n",
    "        \n",
    "    def train(self, clf, X, y):\n",
    "        for epoch in range(0, epochs):\n",
    "            for i in range(len(X)):\n",
    "                # compute gradients\n",
    "                gradient_coef, gradient_intercept = self._compute_gradients(clf, X[i], y[i])\n",
    "        \n",
    "                # update parameters\n",
    "                clf.coef_ = clf.coef_ - (learning_rate*gradient_coef)\n",
    "                clf.intercept_ = clf.intercept_ - (learning_rate*gradient_intercept)\n",
    "        return clf\n",
    "                \n",
    "        \n",
    "    def _compute_gradients(self, clf, X, y):\n",
    "        y_pred = clf.predict_proba(X)\n",
    "        \n",
    "        # compute gradients\n",
    "        gradient_coef = X * (y-y_pred)\n",
    "        gradient_intercept = y - y_pred\n",
    "            \n",
    "        return gradient_coef, gradient_intercept\n",
    "                \n",
    "solver = SGD(epochs=500, learning_rate=0.001)\n",
    "logreg = LogiticRegression(solver)\n",
    "logreg.fit(X, y)"
   ]
  },
  {
   "cell_type": "code",
   "execution_count": 74,
   "id": "fbd94f17-ba89-480e-87dd-6bfe738d2145",
   "metadata": {},
   "outputs": [
    {
     "data": {
      "text/plain": [
       "array([1, 1, 1, 1, 1, 1, 1, 1, 1, 1, 1, 1, 1, 1, 1, 1, 1, 1, 1, 1, 1, 1,\n",
       "       1, 1, 1, 1, 1, 1, 1, 1, 1, 1, 1, 1, 1, 1, 1, 1, 1, 1, 1, 1, 1, 1,\n",
       "       1, 1, 1, 1, 1, 1, 1, 1, 1, 1, 1, 1, 1, 1, 1, 1, 1, 1, 1, 1, 1, 1,\n",
       "       1, 1, 1, 1, 1, 1, 1, 1, 1, 1, 1, 1, 1, 1, 1, 1, 1, 1, 1, 1, 1, 1,\n",
       "       1, 1, 1, 1, 1, 1, 1, 1, 1, 1, 1, 1, 1, 1, 1, 1, 1, 1, 1, 1, 1, 1,\n",
       "       1, 1, 1, 1, 1, 1, 1, 1, 1, 1, 1, 1, 1, 1, 1, 1, 1, 1, 1, 1, 1, 1,\n",
       "       1, 1, 1, 1, 1, 1, 1, 1, 1, 1, 1, 1, 1, 1, 1, 1, 1, 1, 1, 1, 1, 1,\n",
       "       1, 1, 1, 1, 1, 1, 1, 1, 1, 1, 1, 1, 1, 1, 1, 1, 1, 1, 1, 1, 1, 1,\n",
       "       1, 1, 1, 1, 1, 1, 1, 1, 1, 1, 1, 1, 1, 1, 1, 1, 1, 1, 1, 1, 1, 1,\n",
       "       1, 1, 1, 1, 1, 1, 1, 1, 1, 1, 1, 1, 1, 1, 1, 1, 1, 1, 1, 1, 1, 1,\n",
       "       1, 1, 1, 1, 1, 1, 1, 1, 1, 1, 1, 1, 1, 1, 1, 1, 1, 1, 1, 1, 1, 1,\n",
       "       1, 1, 1, 1, 1, 1, 1, 1, 1, 1, 1, 1, 1, 1, 1, 1, 1, 1, 1, 1, 1, 1,\n",
       "       1, 1, 1, 1, 1, 1, 1, 1, 1, 1])"
      ]
     },
     "execution_count": 74,
     "metadata": {},
     "output_type": "execute_result"
    }
   ],
   "source": [
    "logreg.predict(X)"
   ]
  },
  {
   "cell_type": "code",
   "execution_count": 65,
   "id": "a8841ad0-af9a-4b85-9ed5-fbb5631f6313",
   "metadata": {},
   "outputs": [
    {
     "data": {
      "text/plain": [
       "array([ 1.20004635, 28.63588442,  0.25828086,  0.16784909])"
      ]
     },
     "execution_count": 65,
     "metadata": {},
     "output_type": "execute_result"
    }
   ],
   "source": [
    "logreg.coef_"
   ]
  },
  {
   "cell_type": "code",
   "execution_count": 42,
   "id": "bededcad-07fa-476a-beec-47f1d0a3a07f",
   "metadata": {},
   "outputs": [],
   "source": [
    "coef = np.zeros_like(X[0])\n",
    "intercept = 0\n",
    "learning_rate = 0.0001\n",
    "epochs = 50\n",
    "\n",
    "def sigmoid(z):\n",
    "    sig = 1/(1+np.exp(-z))\n",
    "    return sig\n",
    "\n",
    "# for every iteration\n",
    "for epoch in range(0, epochs):\n",
    "\n",
    "    # todo: turn into batched SGD\n",
    "    # for every record in X\n",
    "    for i in range(len(X)):\n",
    "        # compute prediction\n",
    "        y_pred = sigmoid(np.dot(coef.T, X[i]) + intercept)\n",
    "        \n",
    "        # copmute gradients\n",
    "        gradient_coef = X[i] * (y[i]-y_pred)\n",
    "        gradient_intercept = y[i] - y_pred\n",
    "        \n",
    "        # update parameters\n",
    "        coef = coef - (learning_rate*gradient_coef)\n",
    "        intercept = intercept - (learning_rate*gradient_intercept)"
   ]
  },
  {
   "cell_type": "code",
   "execution_count": 49,
   "id": "6bf665b3-f0b7-46c3-a961-3c369a015b48",
   "metadata": {},
   "outputs": [
    {
     "data": {
      "text/plain": [
       "array([1.])"
      ]
     },
     "execution_count": 49,
     "metadata": {},
     "output_type": "execute_result"
    }
   ],
   "source": [
    "y_pred"
   ]
  },
  {
   "cell_type": "code",
   "execution_count": 41,
   "id": "a7d7dc4e-ae1c-4c51-a2d9-edb6905d9798",
   "metadata": {},
   "outputs": [
    {
     "data": {
      "text/plain": [
       "array([ 1.20004635, 28.63588442,  0.25828086,  0.16784909])"
      ]
     },
     "execution_count": 41,
     "metadata": {},
     "output_type": "execute_result"
    }
   ],
   "source": [
    "coef"
   ]
  },
  {
   "cell_type": "code",
   "execution_count": 37,
   "id": "461aa95f-4ad2-4fcb-afac-54c688910d31",
   "metadata": {},
   "outputs": [
    {
     "data": {
      "text/plain": [
       "array([ 1.20004635, 28.63588442,  0.25828086,  0.16784909])"
      ]
     },
     "execution_count": 37,
     "metadata": {},
     "output_type": "execute_result"
    }
   ],
   "source": [
    "coef"
   ]
  },
  {
   "cell_type": "code",
   "execution_count": 22,
   "id": "0e165eb9-d37c-44b8-9ea1-c657a0c15aaa",
   "metadata": {},
   "outputs": [
    {
     "data": {
      "text/plain": [
       "array([[ 1., 54.,  0.,  0.],\n",
       "       [ 2., 14.,  1.,  0.],\n",
       "       [ 2., 55.,  0.,  0.],\n",
       "       ...,\n",
       "       [ 2., 28.,  0.,  0.],\n",
       "       [ 2., 27.,  0.,  0.],\n",
       "       [ 1., 26.,  0.,  0.]])"
      ]
     },
     "execution_count": 22,
     "metadata": {},
     "output_type": "execute_result"
    }
   ],
   "source": [
    "np.array(X)"
   ]
  },
  {
   "cell_type": "code",
   "execution_count": null,
   "id": "adebb118-c4a4-4909-8d55-26c64ff5c6a3",
   "metadata": {},
   "outputs": [],
   "source": []
  }
 ],
 "metadata": {
  "kernelspec": {
   "display_name": "Python 3 (ipykernel)",
   "language": "python",
   "name": "python3"
  },
  "language_info": {
   "codemirror_mode": {
    "name": "ipython",
    "version": 3
   },
   "file_extension": ".py",
   "mimetype": "text/x-python",
   "name": "python",
   "nbconvert_exporter": "python",
   "pygments_lexer": "ipython3",
   "version": "3.10.8"
  }
 },
 "nbformat": 4,
 "nbformat_minor": 5
}
